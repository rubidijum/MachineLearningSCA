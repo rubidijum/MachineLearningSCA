{
  "nbformat": 4,
  "nbformat_minor": 0,
  "metadata": {
    "colab": {
      "name": "1.0 SCA MLP.ipynb",
      "provenance": [],
      "collapsed_sections": [],
      "authorship_tag": "ABX9TyPxX7yZWiq/IED637jqbnMX"
    },
    "kernelspec": {
      "name": "python3",
      "display_name": "Python 3"
    },
    "language_info": {
      "name": "python"
    }
  },
  "cells": [
    {
      "cell_type": "code",
      "execution_count": 2,
      "metadata": {
        "id": "vxexQWVRdrsm"
      },
      "outputs": [],
      "source": [
        "import tensorflow as tf\n",
        "from tensorflow import keras"
      ]
    },
    {
      "cell_type": "markdown",
      "source": [
        "# SCA koriscenjem deep learninga\n",
        "\n",
        "U radu je do sada bilo prikazano nekoliko nacina izvlacenja tajni iz hardvera. State of the art pristup su template napadi koji su se pokazali kao standard u ovoj oblasti istrazivanja sigurnosti sistema. Kod template napada je potrebno ozbiljno preprocesiranje ulaznih podataka, potrebno je dosta iskustva. DPA i CPA su dovoljno jednostavni za koriscenje i implementaciju, ali je i za njih potreban relativno veliki broj trace-va i ne pokazuju se toliko dobro sa sumovitim podacima. Deep learning nastoji da eliminise neke od navedenih problema. "
      ],
      "metadata": {
        "id": "Z1BUD7ZDwfBT"
      }
    },
    {
      "cell_type": "markdown",
      "source": [
        "# Arhitekture neuronskih mreza koje ce biti koriscene\n",
        "\n",
        "U radu koji opisuje ASCAD bazu podataka date su i neke smernice oko odabira odgovarajucih modela i izbora hiperparametara. Preprocesiranje podataka i redukcija dimenzionalnosti nije potrebna, jer se ona obavi u prvim slojevima mreze.\n",
        "\n",
        "### MLP (multi-layered perceptron)\n",
        "\n",
        "Obicna potpuno povezana neuronska mreza sa softmax aktivacijom - normalizuje izlaze\n",
        "\n",
        "input sloj : 80.000 tacaka traceva\n",
        "output sloj : 256 klasa za 256 mogucih vrednosti jednog bajta kljuca\n",
        "\n",
        "\n",
        "### ResNet"
      ],
      "metadata": {
        "id": "4GTh1TvUwNLD"
      }
    },
    {
      "cell_type": "code",
      "source": [
        "EXECUTE_IN_COLAB = True\n",
        "\n",
        "if EXECUTE_IN_COLAB:\n",
        "  from google.colab import drive\n",
        "  drive.mount('/content/drive')"
      ],
      "metadata": {
        "colab": {
          "base_uri": "https://localhost:8080/"
        },
        "id": "_TYf5Vp3wM9b",
        "outputId": "41be3524-ab71-4d21-bd80-25748a1df172"
      },
      "execution_count": 2,
      "outputs": [
        {
          "output_type": "stream",
          "name": "stdout",
          "text": [
            "Mounted at /content/drive\n"
          ]
        }
      ]
    },
    {
      "cell_type": "code",
      "source": [
        "import numpy as np\n",
        "import os\n",
        "\n",
        "def load_shards(path, num_shards=256):\n",
        "  shard_array = []\n",
        "  for shard_idx, shard_name in enumerate(os.listdir(path)):\n",
        "    if shard_idx == num_shards:\n",
        "      break\n",
        "    shard_array.append(np.load(path + '/' + shard_name))\n",
        "\n",
        "  return shard_array"
      ],
      "metadata": {
        "id": "ojguD0_q4dLr"
      },
      "execution_count": 8,
      "outputs": []
    },
    {
      "cell_type": "code",
      "source": [
        "training_data_path = '/content/drive/MyDrive/datasets/tinyaes/train'\n",
        "testing_data_path = '/content/drive/MyDrive/datasets/tinyaes/test'\n",
        "\n",
        "training_data = load_shards(training_data_path)\n",
        "test_data = load_shards(testing_data_path)"
      ],
      "metadata": {
        "id": "HwyS5hYFAGOx"
      },
      "execution_count": 9,
      "outputs": []
    }
  ]
}