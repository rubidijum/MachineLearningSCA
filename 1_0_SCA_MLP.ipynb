{
 "cells": [
  {
   "cell_type": "markdown",
   "metadata": {
    "id": "Z1BUD7ZDwfBT"
   },
   "source": [
    "# SCA koriscenjem deep learninga\n",
    "\n",
    "U radu je do sada bilo prikazano nekoliko nacina izvlacenja tajni iz hardvera. State of the art pristup su template napadi koji su se pokazali kao standard u ovoj oblasti istrazivanja sigurnosti sistema. Kod template napada je potrebno ozbiljno preprocesiranje ulaznih podataka, potrebno je dosta iskustva. DPA i CPA su dovoljno jednostavni za koriscenje i implementaciju, ali je i za njih potreban relativno veliki broj trace-va i ne pokazuju se toliko dobro sa sumovitim podacima. Deep learning nastoji da eliminise neke od navedenih problema. "
   ]
  },
  {
   "cell_type": "markdown",
   "metadata": {
    "id": "4GTh1TvUwNLD",
    "tags": []
   },
   "source": [
    "# Arhitekture neuronskih mreza koje ce biti koriscene\n",
    "\n",
    "U radu koji opisuje ASCAD bazu podataka date su i neke smernice oko odabira odgovarajucih modela i izbora hiperparametara. Preprocesiranje podataka i redukcija dimenzionalnosti nije potrebna, jer se ona obavi u prvim slojevima mreze.\n",
    "Architecture choice is a difficult topic..."
   ]
  },
  {
   "cell_type": "markdown",
   "metadata": {
    "id": "4GTh1TvUwNLD",
    "tags": []
   },
   "source": [
    "## MLP (multi-layered perceptron)\n",
    "\n",
    "Obicna potpuno povezana neuronska mreza sa softmax aktivacijom. Broj slojeva i neurona po slojevima je tesko odrediti kao sto ce se videti u nastavku.\n",
    "\n",
    "input sloj : 80.000 tacaka traceva\n",
    "output sloj : 256 klasa za 256 mogucih vrednosti jednog bajta kljuca"
   ]
  },
  {
   "cell_type": "code",
   "execution_count": 3,
   "metadata": {},
   "outputs": [
    {
     "name": "stderr",
     "output_type": "stream",
     "text": [
      "C:\\Users\\avra\\Miniconda3\\envs\\ML-SCA\\lib\\site-packages\\scipy\\__init__.py:146: UserWarning: A NumPy version >=1.16.5 and <1.23.0 is required for this version of SciPy (detected version 1.23.1\n",
      "  warnings.warn(f\"A NumPy version >={np_minversion} and <{np_maxversion}\"\n"
     ]
    }
   ],
   "source": [
    "import random\n",
    "import matplotlib.pyplot as plt\n",
    "from matplotlib.figure import Figure\n",
    "import os\n",
    "import numpy as np\n",
    "import h5py\n",
    "import tensorflow as tf\n",
    "import keras\n",
    "from datetime import datetime\n",
    "import keras_tuner as kt\n",
    "from tqdm.notebook import tqdm"
   ]
  },
  {
   "cell_type": "markdown",
   "metadata": {},
   "source": [
    "### Train on SCAAML dataset"
   ]
  },
  {
   "cell_type": "code",
   "execution_count": 4,
   "metadata": {},
   "outputs": [],
   "source": [
    "from utils.data_preparation import SCAML_Dataset"
   ]
  },
  {
   "cell_type": "code",
   "execution_count": 5,
   "metadata": {
    "colab": {
     "base_uri": "https://localhost:8080/"
    },
    "id": "_TYf5Vp3wM9b",
    "outputId": "dbe1a1c3-24ea-498a-8627-cd5035000d23"
   },
   "outputs": [],
   "source": [
    "EXECUTE_IN_COLAB = False\n",
    "ATTACK_ALGORITHM = 'tinyaes'\n",
    "\n",
    "if EXECUTE_IN_COLAB:\n",
    "    from google.colab import drive\n",
    "    drive.mount('/content/drive')\n",
    "    \n",
    "    data_root_path = '/content/drive/MyDrive/datasets/'\n",
    "    log_root_path ='/content/drive/MyDrive/logs/'\n",
    "    \n",
    "    training_data_path = data_root_path + ATTACK_ALGORITHM + '/train'\n",
    "    testing_data_path =  data_root_path + ATTACK_ALGORITHM + '/test'\n",
    "else:    \n",
    "    data_root_path = './data/SCA_datasets/datasets/' + ATTACK_ALGORITHM\n",
    "    log_root_path = './logs/'\n",
    "    \n",
    "    training_data_path = data_root_path + '/train'\n",
    "    testing_data_path = data_root_path + '/test'"
   ]
  },
  {
   "cell_type": "code",
   "execution_count": 6,
   "metadata": {},
   "outputs": [
    {
     "name": "stderr",
     "output_type": "stream",
     "text": [
      "256it [00:01, 130.47it/s]\n",
      "256it [00:01, 130.14it/s]\n"
     ]
    }
   ],
   "source": [
    "dataset = SCAML_Dataset()\n",
    "\n",
    "training_array = dataset.load_shards(training_data_path)\n",
    "testing_array = dataset.load_shards(testing_data_path)\n",
    "\n",
    "ATTACK_POINT = 'sub_bytes_out'\n",
    "ATTACK_BYTE = 0"
   ]
  },
  {
   "cell_type": "code",
   "execution_count": 56,
   "metadata": {},
   "outputs": [
    {
     "name": "stderr",
     "output_type": "stream",
     "text": [
      "256it [00:01, 143.73it/s]\n",
      "256it [00:01, 158.68it/s]\n",
      "Loading shards: 100%|██████████████████████████████████████████████████████████████████████████████████████████████████████████████████████████████████████████████| 256/256 [00:55<00:00,  4.65it/s]\n",
      "Loading shards: 100%|██████████████████████████████████████████████████████████████████████████████████████████████████████████████████████████████████████████████| 256/256 [00:59<00:00,  4.29it/s]\n"
     ]
    }
   ],
   "source": [
    "(X_train, y_train) = dataset.create_data(training_array, ATTACK_POINT, ATTACK_BYTE, 10000)\n",
    "(X_test, y_test, keys, plaintexts) = dataset.create_data(testing_array, ATTACK_POINT, ATTACK_BYTE, 10000, attack = True)"
   ]
  },
  {
   "cell_type": "code",
   "execution_count": 10,
   "metadata": {},
   "outputs": [],
   "source": [
    "input_vector_shape = X_train.shape[1]"
   ]
  },
  {
   "cell_type": "markdown",
   "metadata": {},
   "source": [
    "### Create and train MLP"
   ]
  },
  {
   "cell_type": "code",
   "execution_count": 6,
   "metadata": {},
   "outputs": [
    {
     "name": "stdout",
     "output_type": "stream",
     "text": [
      "Model: \"MLP_base_SCAAML\"\n",
      "_________________________________________________________________\n",
      " Layer (type)                Output Shape              Param #   \n",
      "=================================================================\n",
      " input_1 (InputLayer)        [(None, 10000)]           0         \n",
      "                                                                 \n",
      " hidden_layer_1 (Dense)      (None, 200)               2000200   \n",
      "                                                                 \n",
      " hidden_layer_2 (Dense)      (None, 200)               40200     \n",
      "                                                                 \n",
      " hidden_layer_3 (Dense)      (None, 200)               40200     \n",
      "                                                                 \n",
      " hidden_layer_4 (Dense)      (None, 200)               40200     \n",
      "                                                                 \n",
      " hidden_layer_5 (Dense)      (None, 200)               40200     \n",
      "                                                                 \n",
      " output_layer (Dense)        (None, 256)               51456     \n",
      "                                                                 \n",
      "=================================================================\n",
      "Total params: 2,212,456\n",
      "Trainable params: 2,212,456\n",
      "Non-trainable params: 0\n",
      "_________________________________________________________________\n"
     ]
    }
   ],
   "source": [
    "# Input\n",
    "inputs = keras.Input(shape = (input_vector_shape,))\n",
    "\n",
    "# Hidden layer 1\n",
    "x = keras.layers.Dense(name='hidden_layer_1', units=200, activation='relu')(inputs)\n",
    "\n",
    "# Hidden layer 2\n",
    "x = keras.layers.Dense(name='hidden_layer_2', units=200, activation='relu')(x)\n",
    "\n",
    "# Hidden layer 3\n",
    "x = keras.layers.Dense(name='hidden_layer_3', units=200, activation='relu')(x)\n",
    "\n",
    "# Hidden layer 4\n",
    "x = keras.layers.Dense(name='hidden_layer_4', units=200, activation='relu')(x)\n",
    "\n",
    "# Hidden layer 5\n",
    "x = keras.layers.Dense(name='hidden_layer_5', units=200, activation='relu')(x)\n",
    "\n",
    "# Output layer\n",
    "outputs = keras.layers.Dense(name='output_layer', units=256, activation='softmax')(x)\n",
    "\n",
    "MLP = keras.Model(inputs=inputs, outputs=outputs, name='MLP_base_SCAAML')\n",
    "\n",
    "MLP.summary()"
   ]
  },
  {
   "cell_type": "code",
   "execution_count": null,
   "metadata": {},
   "outputs": [],
   "source": [
    "#TODO: create before writing\n",
    "# model_img_path = './images/' + MLP.name\n",
    "# tf.keras.utils.plot_model(MLP, show_shapes=True, to_file=model_img_path)"
   ]
  },
  {
   "cell_type": "code",
   "execution_count": 7,
   "metadata": {},
   "outputs": [],
   "source": [
    "MLP_optimizer = tf.keras.optimizers.RMSprop(learning_rate=0.00001)\n",
    "\n",
    "MLP.compile(loss='categorical_crossentropy', \n",
    "                 optimizer=MLP_optimizer, \n",
    "                 metrics=['accuracy'])"
   ]
  },
  {
   "cell_type": "code",
   "execution_count": 23,
   "metadata": {},
   "outputs": [
    {
     "name": "stdout",
     "output_type": "stream",
     "text": [
      "Epoch 1/50\n",
      "2048/2048 [==============================] - 37s 18ms/step - loss: 5.5451 - accuracy: 0.0036 - val_loss: 5.5451 - val_accuracy: 0.0039\n",
      "Epoch 2/50\n",
      "2048/2048 [==============================] - 47s 23ms/step - loss: 5.5451 - accuracy: 0.0035 - val_loss: 5.5451 - val_accuracy: 0.0039\n",
      "Epoch 3/50\n",
      "2048/2048 [==============================] - 55s 27ms/step - loss: 5.5451 - accuracy: 0.0036 - val_loss: 5.5451 - val_accuracy: 0.0039\n",
      "Epoch 4/50\n",
      "2048/2048 [==============================] - 52s 26ms/step - loss: 5.5451 - accuracy: 0.0032 - val_loss: 5.5451 - val_accuracy: 0.0039\n",
      "Epoch 5/50\n",
      "2048/2048 [==============================] - 35s 17ms/step - loss: 5.5451 - accuracy: 0.0037 - val_loss: 5.5451 - val_accuracy: 0.0039\n"
     ]
    }
   ],
   "source": [
    "_log_dir = log_root_path + 'MLP_' + datetime.now().strftime(\"%Y-%d-%m_%H-%M\")\n",
    "\n",
    "callbacks_list = [\n",
    "    tf.keras.callbacks.EarlyStopping(monitor='loss', patience=3),\n",
    "    tf.keras.callbacks.TensorBoard(log_dir=_log_dir, histogram_freq=1)\n",
    "]\n",
    "\n",
    "history = MLP.fit(X_train, y_train, batch_size=32, epochs=50, verbose=1, validation_data=(X_test, y_test), callbacks=callbacks_list)"
   ]
  },
  {
   "cell_type": "code",
   "execution_count": 26,
   "metadata": {},
   "outputs": [
    {
     "data": {
      "image/png": "[encoded data removed]",
      "text/plain": [
       "<Figure size 432x288 with 1 Axes>"
      ]
     },
     "metadata": {
      "needs_background": "light"
     },
     "output_type": "display_data"
    }
   ],
   "source": [
    "random_accuracy = [1/256] * len(history.history['val_accuracy'])\n",
    "\n",
    "plt.plot(history.history['val_accuracy'])\n",
    "plt.plot(history.history['accuracy'])\n",
    "plt.plot(random_accuracy)\n",
    "plt.legend(['val_acc', 'acc', 'random'],loc='best')\n",
    "plt.show()"
   ]
  },
  {
   "cell_type": "markdown",
   "metadata": {},
   "source": [
    "Model gotovo nista nije naucio i preciznost je cak i gora od nasumicnog pogadjanja (1/256 ~ 0.0039)\n",
    "Stoga nema puno smisla evaluirati model i vrsiti kriptografske transformacije kako bi se otkrio kljuc."
   ]
  },
  {
   "cell_type": "markdown",
   "metadata": {},
   "source": [
    "#### Batch normalization"
   ]
  },
  {
   "cell_type": "code",
   "execution_count": 30,
   "metadata": {},
   "outputs": [
    {
     "name": "stdout",
     "output_type": "stream",
     "text": [
      "Model: \"MLP_batch_norm_SCAAML\"\n",
      "_________________________________________________________________\n",
      " Layer (type)                Output Shape              Param #   \n",
      "=================================================================\n",
      " input_4 (InputLayer)        [(None, 10000)]           0         \n",
      "                                                                 \n",
      " hidden_layer_1 (Dense)      (None, 200)               2000200   \n",
      "                                                                 \n",
      " hidden_layer_2 (Dense)      (None, 200)               40200     \n",
      "                                                                 \n",
      " batch_normalization_4 (Batc  (None, 200)              800       \n",
      " hNormalization)                                                 \n",
      "                                                                 \n",
      " hidden_layer_3 (Dense)      (None, 200)               40200     \n",
      "                                                                 \n",
      " hidden_layer_4 (Dense)      (None, 200)               40200     \n",
      "                                                                 \n",
      " batch_normalization_5 (Batc  (None, 200)              800       \n",
      " hNormalization)                                                 \n",
      "                                                                 \n",
      " hidden_layer_5 (Dense)      (None, 200)               40200     \n",
      "                                                                 \n",
      " output_layer (Dense)        (None, 256)               51456     \n",
      "                                                                 \n",
      "=================================================================\n",
      "Total params: 2,214,056\n",
      "Trainable params: 2,213,256\n",
      "Non-trainable params: 800\n",
      "_________________________________________________________________\n"
     ]
    }
   ],
   "source": [
    "# Input\n",
    "inputs = keras.Input(shape = (input_vector_shape,))\n",
    "\n",
    "# Hidden layer 1\n",
    "x = keras.layers.Dense(name='hidden_layer_1', units=200, activation='relu')(inputs)\n",
    "\n",
    "# Hidden layer 2\n",
    "x = keras.layers.Dense(name='hidden_layer_2', units=200, activation='relu')(x)\n",
    "\n",
    "# Batch normalization 1\n",
    "x = keras.layers.BatchNormalization()(x)\n",
    "\n",
    "# Hidden layer 3\n",
    "x = keras.layers.Dense(name='hidden_layer_3', units=200, activation='relu')(x)\n",
    "\n",
    "# Hidden layer 4\n",
    "x = keras.layers.Dense(name='hidden_layer_4', units=200, activation='relu')(x)\n",
    "\n",
    "# Batch normalization 2\n",
    "x = keras.layers.BatchNormalization()(x)\n",
    "\n",
    "# Hidden layer 5\n",
    "x = keras.layers.Dense(name='hidden_layer_5', units=200, activation='relu')(x)\n",
    "\n",
    "# Output layer\n",
    "outputs = keras.layers.Dense(name='output_layer', units=256, activation='softmax')(x)\n",
    "\n",
    "MLP_batchnorm = keras.Model(inputs=inputs, outputs=outputs, name='MLP_batch_norm_SCAAML')\n",
    "\n",
    "MLP_batchnorm.summary()"
   ]
  },
  {
   "cell_type": "code",
   "execution_count": 31,
   "metadata": {},
   "outputs": [],
   "source": [
    "MLP_optimizer = tf.keras.optimizers.RMSprop(learning_rate=0.00001)\n",
    "\n",
    "MLP_batchnorm.compile(loss='categorical_crossentropy', \n",
    "                 optimizer=MLP_optimizer, \n",
    "                 metrics=['accuracy'])"
   ]
  },
  {
   "cell_type": "code",
   "execution_count": 33,
   "metadata": {},
   "outputs": [
    {
     "name": "stdout",
     "output_type": "stream",
     "text": [
      "Epoch 1/50\n",
      "2048/2048 [==============================] - 44s 21ms/step - loss: 5.6576 - accuracy: 0.0039 - val_loss: 5.8534 - val_accuracy: 0.0039\n",
      "Epoch 2/50\n",
      "2048/2048 [==============================] - 57s 28ms/step - loss: 5.5939 - accuracy: 0.0041 - val_loss: 5.6904 - val_accuracy: 0.0035\n",
      "Epoch 3/50\n",
      "2048/2048 [==============================] - 44s 22ms/step - loss: 5.5705 - accuracy: 0.0045 - val_loss: 5.6313 - val_accuracy: 0.0040\n",
      "Epoch 4/50\n",
      "2048/2048 [==============================] - 44s 22ms/step - loss: 5.4226 - accuracy: 0.0109 - val_loss: 5.4063 - val_accuracy: 0.0085\n",
      "Epoch 7/50\n",
      "2048/2048 [==============================] - 53s 26ms/step - loss: 5.2037 - accuracy: 0.0170 - val_loss: 5.0885 - val_accuracy: 0.0168\n",
      "Epoch 8/50\n",
      "2048/2048 [==============================] - 47s 23ms/step - loss: 4.9150 - accuracy: 0.0258 - val_loss: 4.8603 - val_accuracy: 0.0249\n",
      "Epoch 9/50\n",
      "2048/2048 [==============================] - 51s 25ms/step - loss: 4.6056 - accuracy: 0.0407 - val_loss: 4.7903 - val_accuracy: 0.0258\n",
      "Epoch 10/50\n",
      "2048/2048 [==============================] - 50s 24ms/step - loss: 4.3138 - accuracy: 0.0528 - val_loss: 4.2949 - val_accuracy: 0.0454\n",
      "Epoch 11/50\n",
      "2048/2048 [==============================] - 47s 23ms/step - loss: 4.0662 - accuracy: 0.0636 - val_loss: 4.1756 - val_accuracy: 0.0487\n",
      "Epoch 12/50\n",
      "2048/2048 [==============================] - 49s 24ms/step - loss: 3.8599 - accuracy: 0.0794 - val_loss: 3.7798 - val_accuracy: 0.0748\n",
      "Epoch 13/50\n",
      "2048/2048 [==============================] - 44s 22ms/step - loss: 3.4022 - accuracy: 0.1141 - val_loss: 3.8021 - val_accuracy: 0.0632\n",
      "Epoch 16/50\n",
      "2048/2048 [==============================] - 47s 23ms/step - loss: 3.2988 - accuracy: 0.1246 - val_loss: 3.0913 - val_accuracy: 0.1468\n",
      "Epoch 17/50\n",
      "2048/2048 [==============================] - 53s 26ms/step - loss: 3.2101 - accuracy: 0.1334 - val_loss: 3.0471 - val_accuracy: 0.1382\n",
      "Epoch 18/50\n",
      "2048/2048 [==============================] - 53s 26ms/step - loss: 3.1455 - accuracy: 0.1416 - val_loss: 2.9900 - val_accuracy: 0.1488\n",
      "Epoch 19/50\n",
      "2048/2048 [==============================] - 52s 25ms/step - loss: 3.0545 - accuracy: 0.1490 - val_loss: 3.1181 - val_accuracy: 0.1074\n",
      "Epoch 21/50\n",
      "2048/2048 [==============================] - 49s 24ms/step - loss: 3.0044 - accuracy: 0.1573 - val_loss: 2.8348 - val_accuracy: 0.1718\n",
      "Epoch 22/50\n",
      "2048/2048 [==============================] - 49s 24ms/step - loss: 2.9513 - accuracy: 0.1605 - val_loss: 2.9132 - val_accuracy: 0.1464\n",
      "Epoch 23/50\n",
      "2048/2048 [==============================] - 46s 22ms/step - loss: 2.9300 - accuracy: 0.1636 - val_loss: 2.6600 - val_accuracy: 0.1940\n",
      "Epoch 24/50\n",
      "2048/2048 [==============================] - 55s 27ms/step - loss: 2.8854 - accuracy: 0.1691 - val_loss: 2.8087 - val_accuracy: 0.1722\n",
      "Epoch 25/50\n",
      "2048/2048 [==============================] - 33s 16ms/step - loss: 2.8721 - accuracy: 0.1724 - val_loss: 2.6377 - val_accuracy: 0.1833\n",
      "Epoch 26/50\n",
      "1014/2048 [=============>................] - ETA: 18s - loss: 2.8762 - accuracy: 0.1717"
     ]
    },
    {
     "name": "stderr",
     "output_type": "stream",
     "text": [
      "IOPub message rate exceeded.\n",
      "The Jupyter server will temporarily stop sending output\n",
      "to the client in order to avoid crashing it.\n",
      "To change this limit, set the config variable\n",
      "`--ServerApp.iopub_msg_rate_limit`.\n",
      "\n",
      "Current values:\n",
      "ServerApp.iopub_msg_rate_limit=1000.0 (msgs/sec)\n",
      "ServerApp.rate_limit_window=3.0 (secs)\n",
      "\n"
     ]
    },
    {
     "name": "stdout",
     "output_type": "stream",
     "text": [
      "2048/2048 [==============================] - 54s 26ms/step - loss: 2.8744 - accuracy: 0.1710 - val_loss: 2.7494 - val_accuracy: 0.1536\n",
      "Epoch 27/50\n",
      "2048/2048 [==============================] - 51s 25ms/step - loss: 2.8174 - accuracy: 0.1802 - val_loss: 2.9406 - val_accuracy: 0.1350\n",
      "Epoch 29/50\n",
      "2048/2048 [==============================] - 52s 26ms/step - loss: 2.8148 - accuracy: 0.1805 - val_loss: 2.5529 - val_accuracy: 0.1924\n",
      "Epoch 30/50\n",
      "2048/2048 [==============================] - 41s 20ms/step - loss: 2.7973 - accuracy: 0.1841 - val_loss: 2.5655 - val_accuracy: 0.2067\n",
      "Epoch 31/50\n",
      "2048/2048 [==============================] - 54s 26ms/step - loss: 2.7756 - accuracy: 0.1912 - val_loss: 2.4140 - val_accuracy: 0.2223\n",
      "Epoch 32/50\n",
      "2048/2048 [==============================] - 48s 24ms/step - loss: 2.7535 - accuracy: 0.1924 - val_loss: 2.5254 - val_accuracy: 0.2147\n",
      "Epoch 33/50\n",
      "2048/2048 [==============================] - 47s 23ms/step - loss: 2.7513 - accuracy: 0.1955 - val_loss: 2.8140 - val_accuracy: 0.1420\n",
      "Epoch 36/50\n",
      "2048/2048 [==============================] - 48s 23ms/step - loss: 2.7061 - accuracy: 0.2068 - val_loss: 2.4649 - val_accuracy: 0.2176\n",
      "Epoch 37/50\n",
      "2048/2048 [==============================] - 54s 26ms/step - loss: 2.6774 - accuracy: 0.2119 - val_loss: 2.5290 - val_accuracy: 0.1881\n",
      "Epoch 38/50\n",
      "2048/2048 [==============================] - 82s 40ms/step - loss: 2.6879 - accuracy: 0.2114 - val_loss: 4.0532 - val_accuracy: 0.0673\n",
      "Epoch 39/50\n",
      "2048/2048 [==============================] - 57s 28ms/step - loss: 2.6516 - accuracy: 0.2217 - val_loss: 2.3203 - val_accuracy: 0.2551\n",
      "Epoch 40/50\n",
      "2048/2048 [==============================] - 58s 28ms/step - loss: 2.3155 - accuracy: 0.2918 - val_loss: 2.3247 - val_accuracy: 0.2415\n",
      "Epoch 48/50\n",
      "2048/2048 [==============================] - 54s 27ms/step - loss: 2.2540 - accuracy: 0.3044 - val_loss: 2.0063 - val_accuracy: 0.3230\n",
      "Epoch 49/50\n",
      "2048/2048 [==============================] - 51s 25ms/step - loss: 2.2352 - accuracy: 0.3118 - val_loss: 2.0339 - val_accuracy: 0.3021\n",
      "Epoch 50/50\n",
      "2048/2048 [==============================] - 54s 26ms/step - loss: 2.1865 - accuracy: 0.3214 - val_loss: 4.7267 - val_accuracy: 0.0775\n"
     ]
    }
   ],
   "source": [
    "_log_dir = log_root_path + 'MLP_batchnorm_' + datetime.now().strftime(\"%Y-%d-%m_%H-%M\")\n",
    "\n",
    "callbacks_list = [\n",
    "    tf.keras.callbacks.EarlyStopping(monitor='loss', patience=3),\n",
    "    tf.keras.callbacks.TensorBoard(log_dir=_log_dir, histogram_freq=1)\n",
    "]\n",
    "\n",
    "history = MLP_batchnorm.fit(X_train, y_train, batch_size=32, epochs=50, verbose=1, validation_data=(X_test, y_test), callbacks=callbacks_list)"
   ]
  },
  {
   "cell_type": "code",
   "execution_count": 34,
   "metadata": {},
   "outputs": [
    {
     "data": {
      "image/png": "[encoded data removed]",
      "text/plain": [
       "<Figure size 432x288 with 1 Axes>"
      ]
     },
     "metadata": {
      "needs_background": "light"
     },
     "output_type": "display_data"
    }
   ],
   "source": [
    "random_accuracy = [1/256] * len(history.history['val_accuracy'])\n",
    "\n",
    "plt.plot(history.history['val_accuracy'])\n",
    "plt.plot(history.history['accuracy'])\n",
    "plt.plot(random_accuracy)\n",
    "plt.legend(['val_acc', 'acc', 'random'],loc='best')\n",
    "plt.show()"
   ]
  },
  {
   "cell_type": "code",
   "execution_count": 35,
   "metadata": {},
   "outputs": [
    {
     "name": "stdout",
     "output_type": "stream",
     "text": [
      "INFO:tensorflow:Assets written to: ./models/MLP_batchnorm_0.0\\assets\n"
     ]
    }
   ],
   "source": [
    "MLP_batchnorm.save('./models/MLP_batchnorm_0.0')"
   ]
  },
  {
   "cell_type": "markdown",
   "metadata": {},
   "source": [
    "### Evaluate the model"
   ]
  },
  {
   "cell_type": "code",
   "execution_count": 11,
   "metadata": {},
   "outputs": [],
   "source": [
    "MLP_batchnorm_loaded = tf.keras.models.load_model('./models/MLP_batchnorm_0.0')"
   ]
  },
  {
   "cell_type": "code",
   "execution_count": 59,
   "metadata": {},
   "outputs": [],
   "source": [
    "ATTACK_TRACE = 23"
   ]
  },
  {
   "cell_type": "code",
   "execution_count": 60,
   "metadata": {},
   "outputs": [],
   "source": [
    "attack_traces = X_test[ATTACK_TRACE*256:ATTACK_TRACE*256+256,:,:]"
   ]
  },
  {
   "cell_type": "code",
   "execution_count": 71,
   "metadata": {},
   "outputs": [],
   "source": [
    "true_labels = np.argmax(y_test[ATTACK_TRACE*256:ATTACK_TRACE*256+256,:], axis=1)"
   ]
  },
  {
   "cell_type": "code",
   "execution_count": 68,
   "metadata": {},
   "outputs": [],
   "source": [
    "predictions = MLP_batchnorm_loaded.predict(attack_traces)"
   ]
  },
  {
   "cell_type": "code",
   "execution_count": 31,
   "metadata": {},
   "outputs": [
    {
     "data": {
      "text/plain": [
       "(10, 256)"
      ]
     },
     "execution_count": 31,
     "metadata": {},
     "output_type": "execute_result"
    }
   ],
   "source": [
    "# Now the single key should be attacked => no shuffling!!!\n",
    "# Attack will always be on the same shard!!!"
   ]
  },
  {
   "cell_type": "code",
   "execution_count": 69,
   "metadata": {},
   "outputs": [],
   "source": [
    "predicted_labels = np.argmax(predictions, axis=1)"
   ]
  },
  {
   "cell_type": "code",
   "execution_count": 73,
   "metadata": {},
   "outputs": [
    {
     "data": {
      "text/plain": [
       "18"
      ]
     },
     "execution_count": 73,
     "metadata": {},
     "output_type": "execute_result"
    }
   ],
   "source": [
    "np.sum(predicted_labels == true_labels, axis=0)"
   ]
  },
  {
   "cell_type": "code",
   "execution_count": 36,
   "metadata": {},
   "outputs": [],
   "source": [
    "class AES():\n",
    "  \"\"\"! AES algorithm partial implementation\n",
    "  Used for key recovery\n",
    "  \"\"\"\n",
    "\n",
    "  AES_SBOX = [\n",
    "    # 0    1    2    3    4    5    6    7    8    9    a    b    c    d    e    f \n",
    "    0x63,0x7c,0x77,0x7b,0xf2,0x6b,0x6f,0xc5,0x30,0x01,0x67,0x2b,0xfe,0xd7,0xab,0x76, # 0\n",
    "    0xca,0x82,0xc9,0x7d,0xfa,0x59,0x47,0xf0,0xad,0xd4,0xa2,0xaf,0x9c,0xa4,0x72,0xc0, # 1\n",
    "    0xb7,0xfd,0x93,0x26,0x36,0x3f,0xf7,0xcc,0x34,0xa5,0xe5,0xf1,0x71,0xd8,0x31,0x15, # 2\n",
    "    0x04,0xc7,0x23,0xc3,0x18,0x96,0x05,0x9a,0x07,0x12,0x80,0xe2,0xeb,0x27,0xb2,0x75, # 3\n",
    "    0x09,0x83,0x2c,0x1a,0x1b,0x6e,0x5a,0xa0,0x52,0x3b,0xd6,0xb3,0x29,0xe3,0x2f,0x84, # 4\n",
    "    0x53,0xd1,0x00,0xed,0x20,0xfc,0xb1,0x5b,0x6a,0xcb,0xbe,0x39,0x4a,0x4c,0x58,0xcf, # 5\n",
    "    0xd0,0xef,0xaa,0xfb,0x43,0x4d,0x33,0x85,0x45,0xf9,0x02,0x7f,0x50,0x3c,0x9f,0xa8, # 6\n",
    "    0x51,0xa3,0x40,0x8f,0x92,0x9d,0x38,0xf5,0xbc,0xb6,0xda,0x21,0x10,0xff,0xf3,0xd2, # 7\n",
    "    0xcd,0x0c,0x13,0xec,0x5f,0x97,0x44,0x17,0xc4,0xa7,0x7e,0x3d,0x64,0x5d,0x19,0x73, # 8\n",
    "    0x60,0x81,0x4f,0xdc,0x22,0x2a,0x90,0x88,0x46,0xee,0xb8,0x14,0xde,0x5e,0x0b,0xdb, # 9\n",
    "    0xe0,0x32,0x3a,0x0a,0x49,0x06,0x24,0x5c,0xc2,0xd3,0xac,0x62,0x91,0x95,0xe4,0x79, # a\n",
    "    0xe7,0xc8,0x37,0x6d,0x8d,0xd5,0x4e,0xa9,0x6c,0x56,0xf4,0xea,0x65,0x7a,0xae,0x08, # b\n",
    "    0xba,0x78,0x25,0x2e,0x1c,0xa6,0xb4,0xc6,0xe8,0xdd,0x74,0x1f,0x4b,0xbd,0x8b,0x8a, # c\n",
    "    0x70,0x3e,0xb5,0x66,0x48,0x03,0xf6,0x0e,0x61,0x35,0x57,0xb9,0x86,0xc1,0x1d,0x9e, # d\n",
    "    0xe1,0xf8,0x98,0x11,0x69,0xd9,0x8e,0x94,0x9b,0x1e,0x87,0xe9,0xce,0x55,0x28,0xdf, # e\n",
    "    0x8c,0xa1,0x89,0x0d,0xbf,0xe6,0x42,0x68,0x41,0x99,0x2d,0x0f,0xb0,0x54,0xbb,0x16  # f\n",
    "  ]\n",
    "\n",
    "  AES_SBOX_INVERSE = [\n",
    "      # 0    1    2    3    4    5    6    7    8    9    a    b    c    d    e    f \n",
    "      0x52,0x09,0x6a,0xd5,0x30,0x36,0xa5,0x38,0xbf,0x40,0xa3,0x9e,0x81,0xf3,0xd7,0xfb, # 0\n",
    "      0x7c,0xe3,0x39,0x82,0x9b,0x2f,0xff,0x87,0x34,0x8e,0x43,0x44,0xc4,0xde,0xe9,0xcb, # 1\n",
    "      0x54,0x7b,0x94,0x32,0xa6,0xc2,0x23,0x3d,0xee,0x4c,0x95,0x0b,0x42,0xfa,0xc3,0x4e, # 2\n",
    "      0x08,0x2e,0xa1,0x66,0x28,0xd9,0x24,0xb2,0x76,0x5b,0xa2,0x49,0x6d,0x8b,0xd1,0x25, # 3\n",
    "      0x72,0xf8,0xf6,0x64,0x86,0x68,0x98,0x16,0xd4,0xa4,0x5c,0xcc,0x5d,0x65,0xb6,0x92, # 4\n",
    "      0x6c,0x70,0x48,0x50,0xfd,0xed,0xb9,0xda,0x5e,0x15,0x46,0x57,0xa7,0x8d,0x9d,0x84, # 5\n",
    "      0x90,0xd8,0xab,0x00,0x8c,0xbc,0xd3,0x0a,0xf7,0xe4,0x58,0x05,0xb8,0xb3,0x45,0x06, # 6\n",
    "      0xd0,0x2c,0x1e,0x8f,0xca,0x3f,0x0f,0x02,0xc1,0xaf,0xbd,0x03,0x01,0x13,0x8a,0x6b, # 7\n",
    "      0x3a,0x91,0x11,0x41,0x4f,0x67,0xdc,0xea,0x97,0xf2,0xcf,0xce,0xf0,0xb4,0xe6,0x73, # 8\n",
    "      0x96,0xac,0x74,0x22,0xe7,0xad,0x35,0x85,0xe2,0xf9,0x37,0xe8,0x1c,0x75,0xdf,0x6e, # 9\n",
    "      0x47,0xf1,0x1a,0x71,0x1d,0x29,0xc5,0x89,0x6f,0xb7,0x62,0x0e,0xaa,0x18,0xbe,0x1b, # a\n",
    "      0xfc,0x56,0x3e,0x4b,0xc6,0xd2,0x79,0x20,0x9a,0xdb,0xc0,0xfe,0x78,0xcd,0x5a,0xf4, # b\n",
    "      0x1f,0xdd,0xa8,0x33,0x88,0x07,0xc7,0x31,0xb1,0x12,0x10,0x59,0x27,0x80,0xec,0x5f, # c\n",
    "      0x60,0x51,0x7f,0xa9,0x19,0xb5,0x4a,0x0d,0x2d,0xe5,0x7a,0x9f,0x93,0xc9,0x9c,0xef, # d\n",
    "      0xa0,0xe0,0x3b,0x4d,0xae,0x2a,0xf5,0xb0,0xc8,0xeb,0xbb,0x3c,0x83,0x53,0x99,0x61, # e\n",
    "      0x17,0x2b,0x04,0x7e,0xba,0x77,0xd6,0x26,0xe1,0x69,0x14,0x63,0x55,0x21,0x0c,0x7d  # f\n",
    "  ]\n",
    "\n",
    "  def process_aes(self, input_byte, key_byte):\n",
    "    \"\"\"! Execute single SBOX operation\n",
    "    @param input_byte Plain text byte\n",
    "    @param key_byte Secret key byte\n",
    "    @return Output of the SBOX applied to XOR-ed inputs\n",
    "    \"\"\"\n",
    "    sbox_input = input_byte ^ key_byte\n",
    "    return self.AES_SBOX[sbox_input]\n",
    "\n",
    "  def reverse_aes(self, sbox_out, plain_byte):\n",
    "    \"\"\"! Perform reverse AES SBOX operation\n",
    "    @param sbox_out Output of the SBOX\n",
    "    @param plain_byte Plain text byte\n",
    "    @return Input of the SBOX based on the outputs\n",
    "    \"\"\"\n",
    "    key_byte = self.AES_SBOX_INVERSE[sbox_out] ^ plain_byte\n",
    "    return key_byte"
   ]
  },
  {
   "cell_type": "code",
   "execution_count": 37,
   "metadata": {},
   "outputs": [],
   "source": [
    "from collections import defaultdict\n",
    "\n",
    "y_pred = []\n",
    "y_true = []\n",
    "model_metrics = {\"acc\": tf.metrics.Accuracy()}\n",
    "correct_prediction_rank = defaultdict(list)\n",
    "aes = AES()"
   ]
  },
  {
   "cell_type": "code",
   "execution_count": 95,
   "metadata": {},
   "outputs": [
    {
     "data": {
      "application/vnd.jupyter.widget-view+json": {
       "model_id": "177ffe14e90f4392b90bb5a87c2df02e",
       "version_major": 2,
       "version_minor": 0
      },
      "text/plain": [
       "  0%|          | 0/256 [00:00<?, ?it/s]"
      ]
     },
     "metadata": {},
     "output_type": "display_data"
    }
   ],
   "source": [
    "for attack_trace in tqdm(range(256)):\n",
    "    attack_traces = X_test[attack_trace*256:attack_trace*256+256,:,:]\n",
    "    predictions = MLP_batchnorm_loaded.predict(attack_traces)\n",
    "    \n",
    "    predictions_cat = np.argmax(predictions, axis=1)\n",
    "    true_labels = np.argmax(y_test[attack_trace*256:attack_trace*256+256,:], axis=1)\n",
    "    \n",
    "    key_preds = []\n",
    "    for s, p in zip(predictions_cat, plaintexts):\n",
    "        aes.reverse_aes(s, p)\n",
    "    \n",
    "    for metric in model_metrics.values():\n",
    "        metric.update_state(true_labels, predictions_cat)\n",
    "    # for the confusion matrix\n",
    "    y_pred.extend(predictions_cat)\n",
    "    y_true.extend(true_labels)\n",
    "        \n",
    "    key = keys[0] # all the same in the same shard - not used in real attack\n",
    "    vals = np.zeros((256))\n",
    "    for trace_count, kp in enumerate(key_preds):\n",
    "        vals = vals  + np.log10(kp + 1e-22) \n",
    "        guess_ranks = (np.argsort(vals, )[-256:][::-1])\n",
    "        byte_rank = list(guess_ranks).index(key)\n",
    "        correct_prediction_rank[trace_count].append(byte_rank)"
   ]
  },
  {
   "cell_type": "code",
   "execution_count": 109,
   "metadata": {},
   "outputs": [
    {
     "name": "stdout",
     "output_type": "stream",
     "text": [
      "0.07745361328125\n"
     ]
    }
   ],
   "source": [
    "print(f\"{model_metrics['acc'].result()}\")"
   ]
  },
  {
   "cell_type": "code",
   "execution_count": 40,
   "metadata": {},
   "outputs": [],
   "source": [
    "def plot_confusion_matrix(class_ids,\n",
    "                          predicted_class_ids,\n",
    "                          title=\"Confusion matrix\",\n",
    "                          cmap=None,\n",
    "                          normalize=True):\n",
    "    \"\"\" Compute and plot the confusion matrix\n",
    "    Args:\n",
    "        class_ids (list(int)): Expected values\n",
    "        predicted_class_ids (list(int)): predicted values\n",
    "        cmap ([type], optional): Color map. Defaults to None.\n",
    "        normalize (bool, optional): Normalize value between 0 and 1.\n",
    "        Defaults to True.\n",
    "    \"\"\"\n",
    "\n",
    "    cm = np.array(tf.math.confusion_matrix(class_ids, predicted_class_ids))\n",
    "    # accuracy = np.trace(cm) / np.sum(cm).astype(\"float\")\n",
    "\n",
    "    if cmap is None:\n",
    "        cmap = plt.get_cmap(\"Blues\")\n",
    "\n",
    "    plt.figure(figsize=(8, 6))\n",
    "    plt.imshow(cm, interpolation=\"nearest\", cmap=cmap)\n",
    "    plt.title(title)\n",
    "    plt.colorbar()\n",
    "\n",
    "    if normalize:\n",
    "        cm = cm.astype(\"float\") / cm.sum(axis=1)[:, np.newaxis]\n",
    "\n",
    "    plt.tight_layout()\n",
    "    plt.ylabel(\"True intermediate values\")\n",
    "    plt.xlabel(\"Predicted intermediate values\")\n",
    "    plt.show()"
   ]
  },
  {
   "cell_type": "code",
   "execution_count": 99,
   "metadata": {},
   "outputs": [
    {
     "data": {
      "image/png": "[encoded data removed]",
      "text/plain": [
       "<Figure size 576x432 with 2 Axes>"
      ]
     },
     "metadata": {
      "needs_background": "light"
     },
     "output_type": "display_data"
    }
   ],
   "source": [
    "plot_confusion_matrix(y_true, y_pred, normalize=True, title=\"%s byte %s prediction confusion matrix\" % (ATTACK_POINT, ATTACK_BYTE))"
   ]
  },
  {
   "cell_type": "markdown",
   "metadata": {},
   "source": [
    "## Hypertuning\n",
    "\n",
    "Posto su rezultati treninga \"na slepo\" nezavidni, bice koriscen tuner hiperparametara keras ekosistema."
   ]
  },
  {
   "cell_type": "code",
   "execution_count": 8,
   "metadata": {
    "id": "Efhok7j6vOvf"
   },
   "outputs": [],
   "source": [
    "min_layers = 4\n",
    "max_layers = 10\n",
    "\n",
    "min_units = 50\n",
    "max_units = 1000\n",
    "\n",
    "def build_model(hp):\n",
    "    \n",
    "    inputs = keras.Input(shape = (input_vector_shape,))\n",
    "    \n",
    "    x = inputs\n",
    "    \n",
    "    no_layers = hp.Int('num_layers', min_value=min_layers, max_value=max_layers)\n",
    "    for layer in range(no_layers):\n",
    "        \n",
    "        x = keras.layers.Dense(units = hp.Int('units', min_value=min_units, max_value=max_units, step=50),\n",
    "                               activation = 'relu')(x)\n",
    "        \n",
    "        # Optimize for batch normalization\n",
    "        if layer == int(no_layers/2) and hp.Boolean('BatchNormalize'):\n",
    "            x = keras.layers.BatchNormalization()(x)\n",
    "        \n",
    "\n",
    "    outputs = keras.layers.Dense(units=256, activation='softmax')(x)\n",
    "    # Tune the learning rate for the optimizer\n",
    "    hp_learning_rate = hp.Choice('learning_rate', values=[1e-2, 1e-3, 1e-4, 1e-5, 3e-2, 3e-3, 3e-4, 3e-5, 5e-2, 5e-3, 5e-4, 5e-5])\n",
    "\n",
    "    model = keras.Model(inputs=inputs, outputs=outputs)\n",
    "    model.compile(optimizer=tf.keras.optimizers.Adam(learning_rate=hp_learning_rate),\n",
    "                    loss=\"categorical_crossentropy\",\n",
    "                    metrics=['accuracy',\n",
    "                             'Recall'])\n",
    "\n",
    "    return model"
   ]
  },
  {
   "cell_type": "markdown",
   "metadata": {},
   "source": [
    "#### RandomSearch"
   ]
  },
  {
   "cell_type": "code",
   "execution_count": 31,
   "metadata": {
    "colab": {
     "base_uri": "https://localhost:8080/"
    },
    "id": "DmcaZiUmvZsj",
    "outputId": "9afa04db-b1af-4ff4-edb7-347b59a64a55"
   },
   "outputs": [
    {
     "name": "stdout",
     "output_type": "stream",
     "text": [
      "INFO:tensorflow:Reloading Oracle from existing project ./logs//hyperparam_tuning/RandomSearch\\untitled_project\\oracle.json\n",
      "INFO:tensorflow:Reloading Tuner from ./logs//hyperparam_tuning/RandomSearch\\untitled_project\\tuner0.json\n",
      "Search space summary\n",
      "Default search space size: 4\n",
      "num_layers (Int)\n",
      "{'default': None, 'conditions': [], 'min_value': 4, 'max_value': 10, 'step': 1, 'sampling': None}\n",
      "units (Int)\n",
      "{'default': None, 'conditions': [], 'min_value': 50, 'max_value': 1000, 'step': 50, 'sampling': None}\n",
      "BatchNormalize (Boolean)\n",
      "{'default': False, 'conditions': []}\n",
      "learning_rate (Choice)\n",
      "{'default': 0.01, 'conditions': [], 'values': [0.01, 0.001, 0.0001, 1e-05, 0.03, 0.003, 0.0003, 3e-05, 0.05, 0.005, 0.0005, 5e-05], 'ordered': True}\n"
     ]
    }
   ],
   "source": [
    "r_tuner = kt.RandomSearch(hypermodel=build_model,\n",
    "                    objective='val_accuracy',\n",
    "                    max_trials=30,\n",
    "                    executions_per_trial=1,\n",
    "                    directory=log_root_path + '/hyperparam_tuning/RandomSearch')\n",
    "\n",
    "r_tuner.search_space_summary()"
   ]
  },
  {
   "cell_type": "code",
   "execution_count": null,
   "metadata": {
    "id": "Pft8pXb_vo4M"
   },
   "outputs": [
    {
     "name": "stdout",
     "output_type": "stream",
     "text": [
      "Trial 28 Complete [00h 02m 54s]\n",
      "val_accuracy: 0.00390625\n",
      "\n",
      "Best val_accuracy So Far: 0.14337158203125\n",
      "Total elapsed time: 03h 33m 29s\n",
      "\n",
      "Search: Running Trial #29\n",
      "\n",
      "Hyperparameter    |Value             |Best Value So Far \n",
      "num_layers        |5                 |9                 \n",
      "units             |200               |750               \n",
      "BatchNormalize    |True              |True              \n",
      "learning_rate     |0.0003            |3e-05             \n",
      "\n",
      "Epoch 1/10\n",
      "   1/2048 [..............................] - ETA: 40:25 - loss: 5.5545 - accuracy: 0.0000e+00 - recall: 0.0000e+00WARNING:tensorflow:Callback method `on_train_batch_end` is slow compared to the batch time (batch time: 0.0065s vs `on_train_batch_end` time: 0.0469s). Check your callbacks.\n",
      "2048/2048 [==============================] - 29s 13ms/step - loss: 5.5526 - accuracy: 0.0039 - recall: 0.0000e+00 - val_loss: 5.5451 - val_accuracy: 0.0039 - val_recall: 0.0000e+00\n",
      "Epoch 2/10\n",
      "2048/2048 [==============================] - 30s 15ms/step - loss: 5.0975 - accuracy: 0.0115 - recall: 4.5776e-05 - val_loss: 4.7397 - val_accuracy: 0.0152 - val_recall: 1.5259e-05\n",
      "Epoch 3/10\n",
      "2048/2048 [==============================] - 27s 13ms/step - loss: 4.2902 - accuracy: 0.0288 - recall: 9.4604e-04 - val_loss: 4.5892 - val_accuracy: 0.0219 - val_recall: 3.6621e-04\n",
      "Epoch 4/10\n",
      "2048/2048 [==============================] - 28s 13ms/step - loss: 3.5547 - accuracy: 0.0914 - recall: 0.0091 - val_loss: 8.5671 - val_accuracy: 0.0182 - val_recall: 0.0146\n",
      "Epoch 5/10\n",
      "2048/2048 [==============================] - 28s 14ms/step - loss: 3.0218 - accuracy: 0.1395 - recall: 0.0265 - val_loss: 2.8108 - val_accuracy: 0.1416 - val_recall: 0.0483\n",
      "Epoch 6/10\n",
      "2048/2048 [==============================] - 31s 15ms/step - loss: 2.9430 - accuracy: 0.1496 - recall: 0.0339 - val_loss: 3.2827 - val_accuracy: 0.1108 - val_recall: 0.0358\n",
      "Epoch 7/10\n",
      "2048/2048 [==============================] - 29s 14ms/step - loss: 2.9092 - accuracy: 0.1518 - recall: 0.0351 - val_loss: 10.7894 - val_accuracy: 0.0215 - val_recall: 0.0162\n",
      "Epoch 8/10\n",
      "2048/2048 [==============================] - 101s 49ms/step - loss: 5.1008 - accuracy: 0.0116 - recall: 0.0000e+00 - val_loss: 5.4708 - val_accuracy: 0.0091 - val_recall: 0.0000e+00\n",
      "Epoch 4/10\n",
      "2048/2048 [==============================] - 98s 48ms/step - loss: 4.4500 - accuracy: 0.0239 - recall: 1.5259e-05 - val_loss: 4.7670 - val_accuracy: 0.0177 - val_recall: 0.0000e+00\n",
      "Epoch 5/10\n",
      "2048/2048 [==============================] - 101s 49ms/step - loss: 4.2241 - accuracy: 0.0321 - recall: 8.3923e-04 - val_loss: 4.4428 - val_accuracy: 0.0241 - val_recall: 0.0014\n",
      "Epoch 7/10\n",
      "2048/2048 [==============================] - 99s 48ms/step - loss: 4.1659 - accuracy: 0.0387 - recall: 9.9182e-04 - val_loss: 6.3792 - val_accuracy: 0.0053 - val_recall: 0.0039\n",
      "Epoch 8/10\n",
      "2048/2048 [==============================] - 124s 61ms/step - loss: 4.8654 - accuracy: 0.0171 - recall: 3.9673e-04 - val_loss: 12.1613 - val_accuracy: 0.0069 - val_recall: 0.0039\n",
      "Epoch 4/10\n",
      "2048/2048 [==============================] - 132s 65ms/step - loss: 4.3187 - accuracy: 0.0281 - recall: 0.0018 - val_loss: 4.2268 - val_accuracy: 0.0260 - val_recall: 0.0021\n",
      "Epoch 5/10\n",
      "2048/2048 [==============================] - 125s 61ms/step - loss: 4.2436 - accuracy: 0.0320 - recall: 0.0028 - val_loss: 3.8900 - val_accuracy: 0.0533 - val_recall: 0.0035\n",
      "Epoch 6/10\n",
      " 562/2048 [=======>......................] - ETA: 1:08 - loss: 4.2149 - accuracy: 0.0348 - recall: 0.0035"
     ]
    }
   ],
   "source": [
    "tensorboard_path  = log_root_path + '/hyperparam_tuning/RandomSearch'\n",
    "\n",
    "early_stop_callback = tf.keras.callbacks.EarlyStopping(monitor='loss', patience=2)\n",
    "tensorboard_callback = tf.keras.callbacks.TensorBoard(tensorboard_path)\n",
    "\n",
    "r_tuner.search(X_train, \n",
    "             y_train, \n",
    "             epochs=10, \n",
    "             validation_data=(X_test, y_test), \n",
    "             callbacks=[early_stop_callback,\n",
    "                       tensorboard_callback]\n",
    "            )"
   ]
  },
  {
   "cell_type": "markdown",
   "metadata": {},
   "source": [
    "#### Hyperband"
   ]
  },
  {
   "cell_type": "code",
   "execution_count": 48,
   "metadata": {
    "colab": {
     "base_uri": "https://localhost:8080/"
    },
    "id": "QwrdmAFRc41b",
    "outputId": "d7e73d40-68bc-42d7-b5b7-169957b4c4b3"
   },
   "outputs": [
    {
     "name": "stdout",
     "output_type": "stream",
     "text": [
      "Search space summary\n",
      "Default search space size: 4\n",
      "num_layers (Int)\n",
      "{'default': None, 'conditions': [], 'min_value': 4, 'max_value': 10, 'step': 1, 'sampling': None}\n",
      "units (Int)\n",
      "{'default': None, 'conditions': [], 'min_value': 50, 'max_value': 1000, 'step': 50, 'sampling': None}\n",
      "BatchNormalize (Boolean)\n",
      "{'default': False, 'conditions': []}\n",
      "learning_rate (Choice)\n",
      "{'default': 0.01, 'conditions': [], 'values': [0.01, 0.001, 0.0001, 1e-05, 0.03, 0.003, 0.0003, 3e-05, 0.05, 0.005, 0.0005, 5e-05], 'ordered': True}\n"
     ]
    }
   ],
   "source": [
    "h_tuner = kt.Hyperband(\n",
    "    hypermodel=build_model,\n",
    "    objective='val_accuracy',\n",
    "    max_epochs=75,\n",
    "    hyperband_iterations=10,\n",
    "    directory=log_root_path + '/hyperparam_tuning/RandomSearch'\n",
    ")\n",
    "\n",
    "h_tuner.search_space_summary()"
   ]
  },
  {
   "cell_type": "code",
   "execution_count": null,
   "metadata": {
    "colab": {
     "base_uri": "https://localhost:8080/"
    },
    "id": "m1xpbrpUdeSy",
    "outputId": "36ec0c46-d3e9-42e2-de59-c7404cd74fb2"
   },
   "outputs": [
    {
     "name": "stdout",
     "output_type": "stream",
     "text": [
      "Trial 73 Complete [00h 22m 24s]\n",
      "val_accuracy: 0.007199999876320362\n",
      "\n",
      "Best val_accuracy So Far: 0.007199999876320362\n",
      "Total elapsed time: 05h 48m 13s\n",
      "\n",
      "Search: Running Trial #74\n",
      "\n",
      "Value             |Best Value So Far |Hyperparameter\n",
      "4                 |6                 |num_layers\n",
      "950               |350               |units\n",
      "True              |True              |BatchNormalize\n",
      "1e-05             |3e-05             |learning_rate\n",
      "75                |75                |tuner/epochs\n",
      "25                |25                |tuner/initial_epoch\n",
      "2                 |2                 |tuner/bracket\n",
      "2                 |2                 |tuner/round\n",
      "0069              |0068              |tuner/trial_id\n",
      "\n",
      "Epoch 26/75\n",
      "1563/1563 [==============================] - 78s 49ms/step - loss: 5.6293 - accuracy: 0.0045 - recall: 0.0000e+00 - val_loss: 5.6531 - val_accuracy: 0.0035 - val_recall: 0.0000e+00\n",
      "Epoch 27/75\n",
      "1563/1563 [==============================] - 76s 49ms/step - loss: 5.5674 - accuracy: 0.0046 - recall: 0.0000e+00 - val_loss: 5.6174 - val_accuracy: 0.0042 - val_recall: 0.0000e+00\n",
      "Epoch 28/75\n",
      "1563/1563 [==============================] - 78s 50ms/step - loss: 5.5516 - accuracy: 0.0051 - recall: 0.0000e+00 - val_loss: 5.8295 - val_accuracy: 0.0051 - val_recall: 0.0000e+00\n",
      "Epoch 29/75\n",
      "1563/1563 [==============================] - 77s 49ms/step - loss: 5.5421 - accuracy: 0.0056 - recall: 0.0000e+00 - val_loss: 5.6259 - val_accuracy: 0.0036 - val_recall: 0.0000e+00\n",
      "Epoch 30/75\n",
      "1563/1563 [==============================] - 73s 47ms/step - loss: 5.5321 - accuracy: 0.0060 - recall: 0.0000e+00 - val_loss: 5.6063 - val_accuracy: 0.0041 - val_recall: 0.0000e+00\n",
      "Epoch 31/75\n",
      "1563/1563 [==============================] - 77s 49ms/step - loss: 5.5259 - accuracy: 0.0073 - recall: 0.0000e+00 - val_loss: 6.2876 - val_accuracy: 0.0046 - val_recall: 0.0000e+00\n",
      "Epoch 32/75\n",
      "1563/1563 [==============================] - 72s 46ms/step - loss: 5.5229 - accuracy: 0.0070 - recall: 0.0000e+00 - val_loss: 5.5917 - val_accuracy: 0.0035 - val_recall: 0.0000e+00\n",
      "Epoch 33/75\n",
      "1563/1563 [==============================] - 74s 47ms/step - loss: 5.5096 - accuracy: 0.0084 - recall: 0.0000e+00 - val_loss: 5.6125 - val_accuracy: 0.0042 - val_recall: 0.0000e+00\n",
      "Epoch 34/75\n",
      "1563/1563 [==============================] - 75s 48ms/step - loss: 5.4975 - accuracy: 0.0090 - recall: 0.0000e+00 - val_loss: 5.5972 - val_accuracy: 0.0046 - val_recall: 0.0000e+00\n",
      "Epoch 35/75\n",
      "1563/1563 [==============================] - 74s 48ms/step - loss: 5.4914 - accuracy: 0.0096 - recall: 0.0000e+00 - val_loss: 5.5916 - val_accuracy: 0.0052 - val_recall: 0.0000e+00\n",
      "Epoch 36/75\n",
      "1563/1563 [==============================] - 77s 49ms/step - loss: 5.4805 - accuracy: 0.0105 - recall: 0.0000e+00 - val_loss: 5.6044 - val_accuracy: 0.0041 - val_recall: 0.0000e+00\n",
      "Epoch 37/75\n",
      "1563/1563 [==============================] - 75s 48ms/step - loss: 5.4673 - accuracy: 0.0118 - recall: 0.0000e+00 - val_loss: 5.6169 - val_accuracy: 0.0049 - val_recall: 0.0000e+00\n",
      "Epoch 38/75\n",
      "1563/1563 [==============================] - 81s 52ms/step - loss: 5.4536 - accuracy: 0.0114 - recall: 0.0000e+00 - val_loss: 5.6028 - val_accuracy: 0.0054 - val_recall: 0.0000e+00\n",
      "Epoch 39/75\n",
      "1063/1563 [===================>..........] - ETA: 23s - loss: 5.4368 - accuracy: 0.0130 - recall: 0.0000e+00"
     ]
    }
   ],
   "source": [
    "tensorboard_path  = log_root_path + '/hyperparam_tuning/Hyperband'\n",
    "\n",
    "early_stop_callback = tf.keras.callbacks.EarlyStopping(monitor='loss', patience=2)\n",
    "tensorboard_callback = tf.keras.callbacks.TensorBoard(tensorboard_path)\n",
    "\n",
    "h_tuner.search(X_train, \n",
    "             y_train, \n",
    "             epochs=10, \n",
    "             validation_data=(X_test, y_test), \n",
    "             callbacks=[early_stop_callback,\n",
    "                       tensorboard_callback]\n",
    "            )"
   ]
  },
  {
   "cell_type": "code",
   "execution_count": null,
   "metadata": {},
   "outputs": [],
   "source": [
    "MLP_functional.summary()"
   ]
  },
  {
   "cell_type": "code",
   "execution_count": null,
   "metadata": {},
   "outputs": [],
   "source": [
    "tf.keras.utils.plot_model(MLP_functional, show_shapes=True)"
   ]
  },
  {
   "cell_type": "code",
   "execution_count": null,
   "metadata": {},
   "outputs": [],
   "source": [
    "MLP_test_optimizer = tf.keras.optimizers.Adam(learning_rate=0.001)\n",
    "\n",
    "MLP_functional.compile(loss='categorical_crossentropy', \n",
    "                 optimizer=MLP_test_optimizer, \n",
    "                 metrics=['accuracy', 'Recall'])"
   ]
  },
  {
   "cell_type": "code",
   "execution_count": null,
   "metadata": {
    "id": "v-JTyUqbz-zJ",
    "scrolled": true
   },
   "outputs": [],
   "source": [
    "from datetime import datetime\n",
    "\n",
    "log_dir = './logs/' + 'MLP_' + datetime.now().strftime(\"%Y-%d-%m_%H-%M\")\n",
    "\n",
    "callbacks_list = [\n",
    "    tf.keras.callbacks.EarlyStopping(monitor='loss', patience=3),\n",
    "    tf.keras.callbacks.TensorBoard(log_dir=log_dir, histogram_freq=1)\n",
    "]\n",
    "\n",
    "history = MLP_test.fit(\n",
    "    X_train_reduced,\n",
    "    y_train,\n",
    "    batch_size=32,\n",
    "    epochs=10,\n",
    "    verbose=1,\n",
    "    validation_data = (X_test_reduced, y_test),\n",
    "    callbacks=callbacks_list\n",
    ")"
   ]
  },
  {
   "cell_type": "markdown",
   "metadata": {},
   "source": [
    "### Run full training on best MLP"
   ]
  },
  {
   "cell_type": "code",
   "execution_count": 10,
   "metadata": {},
   "outputs": [
    {
     "name": "stderr",
     "output_type": "stream",
     "text": [
      "Loading shards: 100%|██████████████████████████████████████████████████████████████████████████████████████████████████████████████████████████████████████████████| 256/256 [01:03<00:00,  4.04it/s]\n",
      "Loading shards: 100%|██████████████████████████████████████████████████████████████████████████████████████████████████████████████████████████████████████████████| 256/256 [01:09<00:00,  3.67it/s]\n"
     ]
    }
   ],
   "source": [
    "ATTACK_POINT = 'sub_bytes_out'\n",
    "ATTACK_BYTE = 0\n",
    "\n",
    "(X_train, y_train) = dataset.create_data(training_array, ATTACK_POINT, ATTACK_BYTE, 40000)\n",
    "(X_test, y_test, keys, plaintexts) = dataset.create_data(testing_array, ATTACK_POINT, ATTACK_BYTE, 40000, attack = True)\n",
    "input_vector_shape = X_train.shape[1]"
   ]
  },
  {
   "cell_type": "code",
   "execution_count": 11,
   "metadata": {},
   "outputs": [
    {
     "name": "stdout",
     "output_type": "stream",
     "text": [
      "INFO:tensorflow:Reloading Oracle from existing project ./logs//hyperparam_tuning/RandomSearch\\untitled_project\\oracle.json\n",
      "INFO:tensorflow:Reloading Tuner from ./logs//hyperparam_tuning/RandomSearch\\untitled_project\\tuner0.json\n"
     ]
    }
   ],
   "source": [
    "# Reload tuner\n",
    "\n",
    "r_tuner = kt.RandomSearch(hypermodel=build_model,\n",
    "                    objective='val_accuracy',\n",
    "                    max_trials=30,\n",
    "                    executions_per_trial=1,\n",
    "                    directory=log_root_path + '/hyperparam_tuning/RandomSearch')"
   ]
  },
  {
   "cell_type": "code",
   "execution_count": 25,
   "metadata": {},
   "outputs": [
    {
     "name": "stdout",
     "output_type": "stream",
     "text": [
      "===========================================\n",
      "Results summary\n",
      "Results in ./logs//hyperparam_tuning/RandomSearch\\untitled_project\n",
      "Showing 3 best trials\n",
      "Objective(name='val_accuracy', direction='max')\n",
      "Trial summary\n",
      "Hyperparameters:\n",
      "num_layers: 10\n",
      "units: 700\n",
      "BatchNormalize: True\n",
      "learning_rate: 1e-05\n",
      "Score: 0.1543121337890625\n",
      "Trial summary\n",
      "Hyperparameters:\n",
      "num_layers: 9\n",
      "units: 750\n",
      "BatchNormalize: True\n",
      "learning_rate: 3e-05\n",
      "Score: 0.14337158203125\n",
      "Trial summary\n",
      "Hyperparameters:\n",
      "num_layers: 5\n",
      "units: 200\n",
      "BatchNormalize: True\n",
      "learning_rate: 0.0003\n",
      "Score: 0.1415557861328125\n"
     ]
    }
   ],
   "source": [
    "# Reconstruct the model with best parameters and run full training\n",
    "best_MLP_cfg = r_tuner.get_best_hyperparameters()[0].values\n",
    "print(\"===========================================\")\n",
    "r_tuner.results_summary(3)"
   ]
  },
  {
   "cell_type": "code",
   "execution_count": 24,
   "metadata": {},
   "outputs": [],
   "source": [
    "def build_model_from_config(config):\n",
    "    \n",
    "    inputs = keras.Input(shape = (input_vector_shape,))\n",
    "    \n",
    "    x = inputs\n",
    "    \n",
    "    no_layers = config['num_layers']\n",
    "    for layer in range(no_layers):\n",
    "        \n",
    "        x = keras.layers.Dense(units = config['units'], activation = 'relu')(x)\n",
    "        \n",
    "        # Optimize for batch normalization\n",
    "        if layer == int(no_layers/2) and config['BatchNormalize']:\n",
    "            x = keras.layers.BatchNormalization()(x)\n",
    "        \n",
    "\n",
    "    outputs = keras.layers.Dense(units=256, activation='softmax')(x)\n",
    "    \n",
    "    learning_rate = config['learning_rate']\n",
    "\n",
    "    model = keras.Model(inputs=inputs, outputs=outputs)\n",
    "\n",
    "    model.compile(optimizer=tf.keras.optimizers.Adam(learning_rate=learning_rate),\n",
    "                    loss=\"categorical_crossentropy\",\n",
    "                    metrics=['accuracy',\n",
    "                             'Recall'])\n",
    "\n",
    "    return model"
   ]
  },
  {
   "cell_type": "code",
   "execution_count": 27,
   "metadata": {},
   "outputs": [],
   "source": [
    "def train_model(model, X_train, y_train, batch_size, epochs, validation_data, callbacks_list=None, nn_type='MLP', tag='', save_dir=''):\n",
    "  \n",
    "  _date = datetime.now().strftime(\"%Y-%d-%m_%H-%M\")\n",
    "\n",
    "  _save_dir = './models/' + save_dir + '_' + _date + '[' + tag + ']' \n",
    "  _log_dir =  './logs/' + nn_type + '_' + _date + '[' + tag + ']'\n",
    "\n",
    "  if callbacks_list is None:\n",
    "    callbacks_list = [\n",
    "      tf.keras.callbacks.EarlyStopping(monitor='loss', patience=3),\n",
    "      tf.keras.callbacks.TensorBoard(log_dir=_log_dir, histogram_freq=1)\n",
    "    ]\n",
    "\n",
    "  history = model.fit(X_train, y_train, batch_size=batch_size,epochs=epochs,verbose=1,validation_data=validation_data, callbacks=callbacks_list)\n",
    "\n",
    "  model.save(_save_dir)\n",
    "\n",
    "  return history"
   ]
  },
  {
   "cell_type": "code",
   "execution_count": 26,
   "metadata": {},
   "outputs": [],
   "source": [
    "best_MLP = build_model_from_config(best_MLP_cfg)"
   ]
  },
  {
   "cell_type": "code",
   "execution_count": 30,
   "metadata": {},
   "outputs": [
    {
     "name": "stdout",
     "output_type": "stream",
     "text": [
      "Epoch 1/75\n",
      "328/328 [==============================] - 111s 338ms/step - loss: 5.5482 - accuracy: 0.0041 - recall: 0.0000e+00 - val_loss: 5.5468 - val_accuracy: 0.0036 - val_recall: 0.0000e+00\n",
      "Epoch 2/75\n",
      "328/328 [==============================] - 93s 284ms/step - loss: 5.5466 - accuracy: 0.0045 - recall: 0.0000e+00 - val_loss: 5.5608 - val_accuracy: 0.0039 - val_recall: 0.0000e+00\n",
      "Epoch 3/75\n",
      "328/328 [==============================] - 89s 272ms/step - loss: 5.5461 - accuracy: 0.0039 - recall: 0.0000e+00 - val_loss: 5.5657 - val_accuracy: 0.0040 - val_recall: 0.0000e+00\n",
      "Epoch 4/75\n",
      "328/328 [==============================] - 111s 338ms/step - loss: 5.5455 - accuracy: 0.0038 - recall: 0.0000e+00 - val_loss: 5.5592 - val_accuracy: 0.0038 - val_recall: 0.0000e+00\n",
      "Epoch 5/75\n",
      "328/328 [==============================] - 111s 338ms/step - loss: 5.5449 - accuracy: 0.0041 - recall: 0.0000e+00 - val_loss: 5.5508 - val_accuracy: 0.0037 - val_recall: 0.0000e+00\n",
      "Epoch 6/75\n",
      "328/328 [==============================] - 93s 285ms/step - loss: 5.5442 - accuracy: 0.0046 - recall: 0.0000e+00 - val_loss: 5.5536 - val_accuracy: 0.0037 - val_recall: 0.0000e+00\n",
      "Epoch 7/75\n",
      "328/328 [==============================] - 91s 277ms/step - loss: 5.5428 - accuracy: 0.0047 - recall: 0.0000e+00 - val_loss: 5.5501 - val_accuracy: 0.0043 - val_recall: 0.0000e+00\n",
      "Epoch 8/75\n",
      "328/328 [==============================] - 91s 277ms/step - loss: 5.5409 - accuracy: 0.0052 - recall: 0.0000e+00 - val_loss: 5.5540 - val_accuracy: 0.0043 - val_recall: 0.0000e+00\n",
      "Epoch 9/75\n",
      "328/328 [==============================] - 93s 285ms/step - loss: 5.5365 - accuracy: 0.0060 - recall: 0.0000e+00 - val_loss: 5.5451 - val_accuracy: 0.0051 - val_recall: 0.0000e+00\n",
      "Epoch 10/75\n",
      "328/328 [==============================] - 85s 260ms/step - loss: 5.4854 - accuracy: 0.0091 - recall: 0.0000e+00 - val_loss: 5.4059 - val_accuracy: 0.0087 - val_recall: 0.0000e+00\n",
      "Epoch 11/75\n",
      "328/328 [==============================] - 91s 273ms/step - loss: 5.0049 - accuracy: 0.0135 - recall: 0.0000e+00 - val_loss: 4.7745 - val_accuracy: 0.0189 - val_recall: 0.0000e+00\n",
      "Epoch 12/75\n",
      "328/328 [==============================] - 95s 288ms/step - loss: 4.5330 - accuracy: 0.0242 - recall: 0.0000e+00 - val_loss: 4.9256 - val_accuracy: 0.0159 - val_recall: 0.0000e+00\n",
      "Epoch 13/75\n",
      "328/328 [==============================] - 96s 293ms/step - loss: 4.3185 - accuracy: 0.0311 - recall: 0.0000e+00 - val_loss: 5.5124 - val_accuracy: 0.0094 - val_recall: 0.0000e+00\n",
      "Epoch 14/75\n",
      "328/328 [==============================] - 98s 297ms/step - loss: 4.2016 - accuracy: 0.0348 - recall: 7.6294e-05 - val_loss: 4.3008 - val_accuracy: 0.0267 - val_recall: 6.5613e-04\n",
      "Epoch 15/75\n",
      "328/328 [==============================] - 91s 277ms/step - loss: 4.1165 - accuracy: 0.0372 - recall: 3.3569e-04 - val_loss: 5.2697 - val_accuracy: 0.0102 - val_recall: 0.0037\n",
      "Epoch 16/75\n",
      "328/328 [==============================] - 91s 277ms/step - loss: 4.0594 - accuracy: 0.0403 - recall: 5.1880e-04 - val_loss: 5.3562 - val_accuracy: 0.0095 - val_recall: 0.0013\n",
      "Epoch 17/75\n",
      "328/328 [==============================] - 95s 289ms/step - loss: 4.0009 - accuracy: 0.0441 - recall: 0.0010 - val_loss: 4.2262 - val_accuracy: 0.0327 - val_recall: 2.2888e-04\n",
      "Epoch 18/75\n",
      "328/328 [==============================] - 82s 249ms/step - loss: 3.9783 - accuracy: 0.0432 - recall: 0.0012 - val_loss: 12.4475 - val_accuracy: 0.0039 - val_recall: 3.0518e-05\n",
      "Epoch 19/75\n",
      "328/328 [==============================] - 93s 285ms/step - loss: 3.9564 - accuracy: 0.0453 - recall: 0.0013 - val_loss: 4.6349 - val_accuracy: 0.0272 - val_recall: 0.0027\n",
      "Epoch 20/75\n",
      "328/328 [==============================] - 99s 301ms/step - loss: 3.9084 - accuracy: 0.0489 - recall: 0.0014 - val_loss: 7.9730 - val_accuracy: 0.0040 - val_recall: 0.0039\n",
      "Epoch 21/75\n",
      "328/328 [==============================] - 86s 263ms/step - loss: 3.8893 - accuracy: 0.0499 - recall: 0.0016 - val_loss: 5.3934 - val_accuracy: 0.0266 - val_recall: 0.0030\n",
      "Epoch 22/75\n",
      "328/328 [==============================] - 84s 255ms/step - loss: 3.8719 - accuracy: 0.0536 - recall: 0.0015 - val_loss: 4.4962 - val_accuracy: 0.0314 - val_recall: 0.0019\n",
      "Epoch 23/75\n",
      "328/328 [==============================] - 87s 266ms/step - loss: 3.8262 - accuracy: 0.0606 - recall: 0.0017 - val_loss: 10.9516 - val_accuracy: 0.0040 - val_recall: 0.0039\n",
      "Epoch 24/75\n",
      "328/328 [==============================] - 94s 284ms/step - loss: 3.7730 - accuracy: 0.0693 - recall: 0.0017 - val_loss: 16.5237 - val_accuracy: 0.0039 - val_recall: 0.0039\n",
      "Epoch 25/75\n",
      "328/328 [==============================] - 87s 264ms/step - loss: 3.6533 - accuracy: 0.0839 - recall: 0.0017 - val_loss: 8.0654 - val_accuracy: 0.0056 - val_recall: 1.3733e-04\n",
      "Epoch 26/75\n",
      "328/328 [==============================] - 97s 294ms/step - loss: 3.5103 - accuracy: 0.0979 - recall: 0.0027 - val_loss: 13.7098 - val_accuracy: 0.0042 - val_recall: 0.0039\n",
      "Epoch 27/75\n",
      "328/328 [==============================] - 86s 262ms/step - loss: 3.3077 - accuracy: 0.1189 - recall: 0.0042 - val_loss: 3.8410 - val_accuracy: 0.0764 - val_recall: 0.0074\n",
      "Epoch 28/75\n",
      "328/328 [==============================] - 85s 261ms/step - loss: 3.1638 - accuracy: 0.1346 - recall: 0.0074 - val_loss: 3.2699 - val_accuracy: 0.1204 - val_recall: 0.0057\n",
      "Epoch 29/75\n",
      "328/328 [==============================] - 85s 259ms/step - loss: 3.0008 - accuracy: 0.1544 - recall: 0.0126 - val_loss: 10.1694 - val_accuracy: 0.0073 - val_recall: 0.0025\n",
      "Epoch 30/75\n",
      "328/328 [==============================] - 92s 275ms/step - loss: 2.8623 - accuracy: 0.1726 - recall: 0.0173 - val_loss: 5.9465 - val_accuracy: 0.0261 - val_recall: 0.0076\n",
      "Epoch 31/75\n",
      "328/328 [==============================] - 99s 301ms/step - loss: 2.8115 - accuracy: 0.1786 - recall: 0.0225 - val_loss: 4.0796 - val_accuracy: 0.0776 - val_recall: 0.0207\n",
      "Epoch 32/75\n",
      "328/328 [==============================] - 92s 279ms/step - loss: 2.6853 - accuracy: 0.1938 - recall: 0.0282 - val_loss: 4.1047 - val_accuracy: 0.0540 - val_recall: 0.0199\n",
      "Epoch 33/75\n",
      "328/328 [==============================] - 94s 287ms/step - loss: 2.6324 - accuracy: 0.1992 - recall: 0.0325 - val_loss: 21.1392 - val_accuracy: 0.0111 - val_recall: 0.0105\n",
      "Epoch 34/75\n",
      "328/328 [==============================] - 99s 302ms/step - loss: 2.5746 - accuracy: 0.2110 - recall: 0.0363 - val_loss: 3.2318 - val_accuracy: 0.1181 - val_recall: 0.0313\n",
      "Epoch 35/75\n",
      "328/328 [==============================] - 92s 281ms/step - loss: 2.5755 - accuracy: 0.2093 - recall: 0.0388 - val_loss: 7.6773 - val_accuracy: 0.0183 - val_recall: 0.0151\n",
      "Epoch 36/75\n",
      "328/328 [==============================] - 83s 254ms/step - loss: 2.4811 - accuracy: 0.2191 - recall: 0.0434 - val_loss: 2.9474 - val_accuracy: 0.1671 - val_recall: 0.0441\n",
      "Epoch 37/75\n",
      "328/328 [==============================] - 92s 280ms/step - loss: 2.4420 - accuracy: 0.2273 - recall: 0.0480 - val_loss: 12.4554 - val_accuracy: 0.0145 - val_recall: 0.0136\n",
      "Epoch 38/75\n",
      "328/328 [==============================] - 91s 277ms/step - loss: 2.4040 - accuracy: 0.2310 - recall: 0.0511 - val_loss: 28.8090 - val_accuracy: 0.0052 - val_recall: 0.0048\n",
      "Epoch 39/75\n",
      "328/328 [==============================] - 98s 300ms/step - loss: 2.3656 - accuracy: 0.2397 - recall: 0.0558 - val_loss: 9.0121 - val_accuracy: 0.0162 - val_recall: 0.0138\n",
      "Epoch 40/75\n",
      "328/328 [==============================] - 84s 255ms/step - loss: 2.3575 - accuracy: 0.2385 - recall: 0.0588 - val_loss: 6.0987 - val_accuracy: 0.0371 - val_recall: 0.0160\n",
      "Epoch 41/75\n",
      "328/328 [==============================] - 89s 270ms/step - loss: 2.3541 - accuracy: 0.2402 - recall: 0.0602 - val_loss: 9.0542 - val_accuracy: 0.0191 - val_recall: 0.0145\n",
      "Epoch 42/75\n",
      "328/328 [==============================] - 101s 307ms/step - loss: 2.3107 - accuracy: 0.2460 - recall: 0.0625 - val_loss: 7.2882 - val_accuracy: 0.0301 - val_recall: 0.0178\n",
      "Epoch 43/75\n",
      "328/328 [==============================] - 89s 271ms/step - loss: 2.2646 - accuracy: 0.2528 - recall: 0.0647 - val_loss: 10.0918 - val_accuracy: 0.0159 - val_recall: 0.0125\n",
      "Epoch 44/75\n",
      "328/328 [==============================] - 98s 299ms/step - loss: 2.2752 - accuracy: 0.2533 - recall: 0.0681 - val_loss: 11.9524 - val_accuracy: 0.0130 - val_recall: 0.0110\n",
      "Epoch 45/75\n",
      "328/328 [==============================] - 127s 386ms/step - loss: 2.2459 - accuracy: 0.2574 - recall: 0.0704 - val_loss: 8.7697 - val_accuracy: 0.0244 - val_recall: 0.0184\n",
      "Epoch 46/75\n",
      "328/328 [==============================] - 96s 293ms/step - loss: 2.2460 - accuracy: 0.2563 - recall: 0.0715 - val_loss: 7.0453 - val_accuracy: 0.0313 - val_recall: 0.0222\n",
      "Epoch 47/75\n",
      "328/328 [==============================] - 93s 283ms/step - loss: 2.2313 - accuracy: 0.2585 - recall: 0.0714 - val_loss: 9.4504 - val_accuracy: 0.0203 - val_recall: 0.0182\n",
      "Epoch 48/75\n",
      "328/328 [==============================] - 84s 255ms/step - loss: 2.1889 - accuracy: 0.2645 - recall: 0.0766 - val_loss: 2.7831 - val_accuracy: 0.1764 - val_recall: 0.0605\n",
      "Epoch 49/75\n",
      "328/328 [==============================] - 116s 350ms/step - loss: 2.2000 - accuracy: 0.2666 - recall: 0.0775 - val_loss: 4.0252 - val_accuracy: 0.1221 - val_recall: 0.0492\n",
      "Epoch 50/75\n",
      "328/328 [==============================] - 88s 268ms/step - loss: 2.1575 - accuracy: 0.2725 - recall: 0.0803 - val_loss: 10.9696 - val_accuracy: 0.0148 - val_recall: 0.0138\n",
      "Epoch 51/75\n",
      "328/328 [==============================] - 105s 321ms/step - loss: 2.1484 - accuracy: 0.2722 - recall: 0.0804 - val_loss: 21.4041 - val_accuracy: 0.0138 - val_recall: 0.0124\n",
      "Epoch 52/75\n",
      "328/328 [==============================] - 92s 281ms/step - loss: 2.1652 - accuracy: 0.2685 - recall: 0.0812 - val_loss: 7.4588 - val_accuracy: 0.0266 - val_recall: 0.0212\n",
      "Epoch 53/75\n",
      "328/328 [==============================] - 88s 268ms/step - loss: 2.1273 - accuracy: 0.2761 - recall: 0.0841 - val_loss: 14.8050 - val_accuracy: 0.0169 - val_recall: 0.0167\n",
      "Epoch 54/75\n",
      "328/328 [==============================] - 81s 247ms/step - loss: 2.1320 - accuracy: 0.2752 - recall: 0.0847 - val_loss: 15.5258 - val_accuracy: 0.0126 - val_recall: 0.0121\n",
      "Epoch 55/75\n",
      "328/328 [==============================] - 84s 255ms/step - loss: 2.0826 - accuracy: 0.2891 - recall: 0.0883 - val_loss: 8.4233 - val_accuracy: 0.0296 - val_recall: 0.0225\n",
      "Epoch 56/75\n",
      "328/328 [==============================] - 88s 261ms/step - loss: 2.1143 - accuracy: 0.2803 - recall: 0.0877 - val_loss: 16.5401 - val_accuracy: 0.0144 - val_recall: 0.0138\n",
      "Epoch 57/75\n",
      "328/328 [==============================] - 89s 271ms/step - loss: 2.1056 - accuracy: 0.2808 - recall: 0.0897 - val_loss: 7.5565 - val_accuracy: 0.0543 - val_recall: 0.0309\n",
      "Epoch 58/75\n",
      "328/328 [==============================] - 102s 308ms/step - loss: 2.0945 - accuracy: 0.2841 - recall: 0.0912 - val_loss: 12.3675 - val_accuracy: 0.0158 - val_recall: 0.0149\n",
      "INFO:tensorflow:Assets written to: ./models/_2022-23-08_17-56[MLP_best]\\assets\n"
     ]
    }
   ],
   "source": [
    "mlp_best_history = train_model(best_MLP, X_train, y_train, 200, 75, (X_test, y_test), tag='MLP_best')"
   ]
  },
  {
   "cell_type": "code",
   "execution_count": 43,
   "metadata": {},
   "outputs": [],
   "source": [
    "### Evaluate best MLP"
   ]
  },
  {
   "cell_type": "code",
   "execution_count": 33,
   "metadata": {},
   "outputs": [
    {
     "data": {
      "image/png": "[encoded data removed]",
      "text/plain": [
       "<Figure size 432x288 with 1 Axes>"
      ]
     },
     "metadata": {
      "needs_background": "light"
     },
     "output_type": "display_data"
    }
   ],
   "source": [
    "random_accuracy = [1/256] * len(mlp_best_history.history['val_accuracy'])\n",
    "\n",
    "plt.plot(mlp_best_history.history['val_accuracy'])\n",
    "plt.plot(mlp_best_history.history['accuracy'])\n",
    "plt.plot(random_accuracy)\n",
    "plt.legend(['val_acc', 'acc', 'random'],loc='best')\n",
    "plt.show()"
   ]
  },
  {
   "cell_type": "code",
   "execution_count": 38,
   "metadata": {},
   "outputs": [],
   "source": [
    "from collections import defaultdict\n",
    "\n",
    "y_pred = []\n",
    "y_true = []\n",
    "model_metrics = {\"acc\": tf.metrics.Accuracy()}\n",
    "correct_prediction_rank = defaultdict(list)\n",
    "aes = AES()"
   ]
  },
  {
   "cell_type": "code",
   "execution_count": 39,
   "metadata": {},
   "outputs": [
    {
     "data": {
      "application/vnd.jupyter.widget-view+json": {
       "model_id": "55287dd484714762a911fdfbb96cfcdd",
       "version_major": 2,
       "version_minor": 0
      },
      "text/plain": [
       "  0%|          | 0/256 [00:00<?, ?it/s]"
      ]
     },
     "metadata": {},
     "output_type": "display_data"
    }
   ],
   "source": [
    "for attack_trace in tqdm(range(256)):\n",
    "    attack_traces = X_test[attack_trace*256:attack_trace*256+256,:,:]\n",
    "    predictions = best_MLP.predict(attack_traces)\n",
    "    \n",
    "    predictions_cat = np.argmax(predictions, axis=1)\n",
    "    true_labels = np.argmax(y_test[attack_trace*256:attack_trace*256+256,:], axis=1)\n",
    "    \n",
    "    key_preds = []\n",
    "    for s, p in zip(predictions_cat, plaintexts):\n",
    "        aes.reverse_aes(s, p)\n",
    "    \n",
    "    for metric in model_metrics.values():\n",
    "        metric.update_state(true_labels, predictions_cat)\n",
    "    # for the confusion matrix\n",
    "    y_pred.extend(predictions_cat)\n",
    "    y_true.extend(true_labels)\n",
    "        \n",
    "    key = keys[0] # all the same in the same shard - not used in real attack\n",
    "    vals = np.zeros((256))\n",
    "    for trace_count, kp in enumerate(key_preds):\n",
    "        vals = vals  + np.log10(kp + 1e-22) \n",
    "        guess_ranks = (np.argsort(vals, )[-256:][::-1])\n",
    "        byte_rank = list(guess_ranks).index(key)\n",
    "        correct_prediction_rank[trace_count].append(byte_rank)"
   ]
  },
  {
   "cell_type": "code",
   "execution_count": 42,
   "metadata": {},
   "outputs": [
    {
     "data": {
      "image/png": "[encoded data removed]",
      "text/plain": [
       "<Figure size 576x432 with 2 Axes>"
      ]
     },
     "metadata": {
      "needs_background": "light"
     },
     "output_type": "display_data"
    }
   ],
   "source": [
    "plot_confusion_matrix(y_true, y_pred, normalize=True, title=\"%s byte %s prediction confusion matrix\" % (ATTACK_POINT, ATTACK_BYTE))"
   ]
  },
  {
   "cell_type": "code",
   "execution_count": null,
   "metadata": {},
   "outputs": [],
   "source": [
    "prediction_success = np.sum(np.all(prediction_classes == labels, axis=1))\n",
    "print(f\"Model accuracy: {(prediction_success/X_train_.shape[0]) * 100}%\")"
   ]
  },
  {
   "cell_type": "code",
   "execution_count": null,
   "metadata": {},
   "outputs": [],
   "source": [
    "best_hyperparameters = tuner.get_best_hyperparameters()\n",
    "best_hyperparameters[0].get('layers')"
   ]
  },
  {
   "cell_type": "code",
   "execution_count": null,
   "metadata": {},
   "outputs": [],
   "source": [
    "import keras_tuner as kt"
   ]
  },
  {
   "cell_type": "code",
   "execution_count": null,
   "metadata": {},
   "outputs": [],
   "source": [
    "# Sequential model builder\n",
    "\n",
    "def build_model(hp):\n",
    "    model = keras.Sequential()\n",
    "    model.add(keras.layers.Flatten())\n",
    "    \n",
    "    for no_layers in range(hp.Int('num_layers', min_value=4, max_value=10)):\n",
    "        model.add(\n",
    "            keras.layers.Dense(\n",
    "                units = hp.Int('units', min_value=500, max_value=5000, step=1000),\n",
    "                activation = 'relu'\n",
    "            )\n",
    "        )\n",
    "\n",
    "    model.add(keras.layers.Dense(units=256, activation='softmax'))\n",
    "    hp_learning_rate = hp.Choice('learning_rate', values=[1e-2, 1e-3, 1e-4, 1e-5])\n",
    "#     hp_learning_rate = hp.Float(\"lr\", min_value=1e-5, max_value=1e-2, sampling=\"log\")\n",
    "\n",
    "    model.compile(optimizer=tf.keras.optimizers.Adam(learning_rate=hp_learning_rate),\n",
    "                    loss=\"categorical_crossentropy\",\n",
    "                    metrics=['accuracy'])\n",
    "\n",
    "    return model"
   ]
  },
  {
   "cell_type": "code",
   "execution_count": null,
   "metadata": {},
   "outputs": [],
   "source": [
    "tuner = kt.Hyperband(hypermodel=build_model,\n",
    "                    objective='val_accuracy',\n",
    "                    max_epochs=5,\n",
    "                    hyperband_iterations=10)\n",
    "\n",
    "tuner.search_space_summary()"
   ]
  },
  {
   "cell_type": "code",
   "execution_count": null,
   "metadata": {},
   "outputs": [],
   "source": [
    "tensorboard_path = \"/logs\"\n",
    "intermediate_path = \"/logs/tmp\"\n",
    "\n",
    "early_stop_callback = tf.keras.callbacks.EarlyStopping(monitor='loss', patience=2)\n",
    "tensorboard_callback = tf.keras.callbacks.TensorBoard(tensorboard_path)\n",
    "\n",
    "tuner.search(X_train[:,:20000,:], \n",
    "             y_train, \n",
    "             epochs=10, \n",
    "             validation_data=(X_test[:,:20000,:], y_test), \n",
    "             callbacks=[early_stop_callback,\n",
    "                       tensorboard_callback]\n",
    "                         )"
   ]
  },
  {
   "cell_type": "code",
   "execution_count": null,
   "metadata": {},
   "outputs": [],
   "source": [
    "best_hyperparameters = tuner.get_best_hyperparameters()"
   ]
  },
  {
   "cell_type": "code",
   "execution_count": null,
   "metadata": {},
   "outputs": [],
   "source": [
    "best_hyperparameters[0].get('layers')"
   ]
  },
  {
   "cell_type": "markdown",
   "metadata": {
    "id": "4GTh1TvUwNLD",
    "tags": []
   },
   "source": [
    "### ResNet"
   ]
  },
  {
   "cell_type": "markdown",
   "metadata": {
    "id": "4GTh1TvUwNLD",
    "tags": []
   },
   "source": [
    "### CNN (Convolutional Neural Network)"
   ]
  },
  {
   "cell_type": "code",
   "execution_count": null,
   "metadata": {},
   "outputs": [],
   "source": [
    "def display_config(config_name, config):\n",
    "    \"\"\"Pretty print a config object in terminal.\n",
    "    Args:\n",
    "        config_name (str): name of the config\n",
    "        config (dict): config to display\n",
    "    \"\"\"\n",
    "    cprint(f\"[{config_name}]\", \"magenta\")\n",
    "    cnt = 1\n",
    "    for k, v in config.items():\n",
    "        if cnt % 2:\n",
    "            color = \"cyan\"\n",
    "        else:\n",
    "            color = \"yellow\"\n",
    "        cprint(f\"{k}:{v}\", color)\n",
    "        cnt += 1"
   ]
  },
  {
   "cell_type": "code",
   "execution_count": null,
   "metadata": {},
   "outputs": [],
   "source": [
    "# Copyright 2020 Google LLC\n",
    "#\n",
    "# Licensed under the Apache License, Version 2.0 (the \"License\");\n",
    "# you may not use this file except in compliance with the License.\n",
    "# You may obtain a copy of the License at\n",
    "#\n",
    "#      http://www.apache.org/licenses/LICENSE-2.0\n",
    "#\n",
    "# Unless required by applicable law or agreed to in writing, software\n",
    "# distributed under the License is distributed on an \"AS IS\" BASIS,\n",
    "# WITHOUT WARRANTIES OR CONDITIONS OF ANY KIND, either express or implied.\n",
    "# See the License for the specific language governing permissions and\n",
    "# limitations under the License.\n",
    "\"\"\"Intro model.\"\"\"\n",
    "\n",
    "from tensorflow.keras import layers\n",
    "from tensorflow.keras import Model\n",
    "from tensorflow.keras.optimizers import Adam\n",
    "\n",
    "def block(x,\n",
    "          filters,\n",
    "          kernel_size=3,\n",
    "          strides=1,\n",
    "          conv_shortcut=False,\n",
    "          activation=\"relu\"):\n",
    "    \"\"\"Residual block with pre-activation\n",
    "    From: https://arxiv.org/pdf/1603.05027.pdf\n",
    "\n",
    "    Args:\n",
    "        x: input tensor.\n",
    "        filters (int): filters of the bottleneck layer.\n",
    "\n",
    "        kernel_size(int, optional): kernel size of the bottleneck layer.\n",
    "        defaults to 3.\n",
    "\n",
    "        strides (int, optional): stride of the first layer.\n",
    "        defaults to 1.\n",
    "\n",
    "        conv_shortcut (bool, optional): Use convolution shortcut if True,\n",
    "        otherwise identity shortcut. Defaults to False.\n",
    "\n",
    "        use_batchnorm (bool, optional): Use batchnormalization if True.\n",
    "        Defaults to True.\n",
    "\n",
    "        activation (str, optional): activation function. Defaults to \"relu\".\n",
    "\n",
    "    Returns:\n",
    "        Output tensor for the residual block.\n",
    "    \"\"\"\n",
    "\n",
    "    x = layers.BatchNormalization()(x)\n",
    "    x = layers.Activation(activation)(x)\n",
    "\n",
    "    if conv_shortcut:\n",
    "        shortcut = layers.Conv1D(4 * filters, 1, strides=strides)(x)\n",
    "    else:\n",
    "        if strides > 1:\n",
    "            shortcut = layers.MaxPooling1D(1, strides=strides)(x)\n",
    "        else:\n",
    "            shortcut = x\n",
    "\n",
    "    x = layers.Conv1D(filters, 1, use_bias=False, padding=\"same\")(x)\n",
    "    x = layers.BatchNormalization()(x)\n",
    "    x = layers.Activation(activation)(x)\n",
    "\n",
    "    x = layers.Conv1D(filters,\n",
    "                      kernel_size,\n",
    "                      strides=strides,\n",
    "                      use_bias=False,\n",
    "                      padding=\"same\")(x)\n",
    "    x = layers.BatchNormalization()(x)\n",
    "    x = layers.Activation(activation)(x)\n",
    "\n",
    "    x = layers.Conv1D(4 * filters, 1)(x)\n",
    "    x = layers.Add()([shortcut, x])\n",
    "    return x\n",
    "\n",
    "\n",
    "def stack(x, filters, blocks, kernel_size=3, strides=2, activation=\"relu\"):\n",
    "    \"\"\"A set of stacked residual blocks.\n",
    "    Args:\n",
    "        filters (int): filters of the bottleneck layer.\n",
    "\n",
    "        blocks (int): number of conv blocks to stack.\n",
    "\n",
    "        kernel_size(int, optional): kernel size of the bottleneck layer.\n",
    "        defaults to 3.\n",
    "\n",
    "        strides (int, optional): stride used in the last block.\n",
    "        defaults to 2.\n",
    "\n",
    "        conv_shortcut (bool, optional): Use convolution shortcut if True,\n",
    "        otherwise identity shortcut. Defaults to False.\n",
    "\n",
    "        activation (str, optional): activation function. Defaults to \"relu\".\n",
    "\n",
    "    Returns:\n",
    "        tensor:Output tensor for the stacked blocks.\n",
    "  \"\"\"\n",
    "    x = block(x,\n",
    "              filters,\n",
    "              kernel_size=kernel_size,\n",
    "              activation=activation,\n",
    "              conv_shortcut=True)\n",
    "    for _ in range(2, blocks):\n",
    "        x = block(x, filters, kernel_size=kernel_size, activation=activation)\n",
    "    x = block(x, filters, strides=strides, activation=activation)\n",
    "    return x\n",
    "\n",
    "\n",
    "def Resnet1D(input_shape, attack_point, mdl_cfg, optim_cfg):  # pylint: disable=C0103\n",
    "    del attack_point  # unused\n",
    "\n",
    "    pool_size = mdl_cfg[\"initial_pool_size\"]\n",
    "    filters = mdl_cfg[\"initial_filters\"]\n",
    "    block_kernel_size = mdl_cfg[\"block_kernel_size\"]\n",
    "    activation = mdl_cfg[\"activation\"]\n",
    "    dense_dropout = mdl_cfg[\"dense_dropout\"]\n",
    "    num_blocks = [\n",
    "        mdl_cfg[\"blocks_stack1\"], mdl_cfg[\"blocks_stack2\"],\n",
    "        mdl_cfg[\"blocks_stack3\"], mdl_cfg[\"blocks_stack4\"]\n",
    "    ]\n",
    "\n",
    "    inputs = layers.Input(shape=(input_shape))\n",
    "    x = inputs\n",
    "\n",
    "    # stem\n",
    "    x = layers.MaxPool1D(pool_size=pool_size)(x)\n",
    "\n",
    "    # trunk: stack of residual block\n",
    "    for block_idx in range(4):\n",
    "        filters *= 2\n",
    "        x = stack(x,\n",
    "                  filters,\n",
    "                  num_blocks[block_idx],\n",
    "                  kernel_size=block_kernel_size,\n",
    "                  activation=activation)\n",
    "\n",
    "    # head model: dense\n",
    "    x = layers.GlobalAveragePooling1D()(x)\n",
    "    for _ in range(1):\n",
    "        x = layers.Dropout(dense_dropout)(x)\n",
    "        x = layers.Dense(256)(x)\n",
    "        x = layers.BatchNormalization()(x)\n",
    "        x = layers.Activation(activation)(x)\n",
    "\n",
    "    outputs = layers.Dense(256, activation=\"softmax\")(x)\n",
    "\n",
    "    model = Model(inputs=inputs, outputs=outputs)\n",
    "    model.summary()\n",
    "\n",
    "    lr = optim_cfg[\"lr\"]\n",
    "\n",
    "    model.compile(loss=[\"categorical_crossentropy\"],\n",
    "                  metrics=[\"acc\"],\n",
    "                  optimizer=Adam(lr))\n",
    "    return model\n",
    "\n",
    "\n",
    "def get_model(input_shape, attack_point, config):\n",
    "    \"\"\"Return an instantiated model based of the config provided.\n",
    "\n",
    "    Args:\n",
    "        config (dict): scald config.\n",
    "    \"\"\"\n",
    "\n",
    "    mdl_cfg = config[\"model_parameters\"]\n",
    "    optim_cfg = config[\"optimizer_parameters\"]\n",
    "\n",
    "    display_config(\"model\", mdl_cfg)\n",
    "    display_config(\"optimizer\", optim_cfg)\n",
    "    return Resnet1D(input_shape, attack_point, mdl_cfg, optim_cfg)"
   ]
  },
  {
   "cell_type": "code",
   "execution_count": null,
   "metadata": {},
   "outputs": [],
   "source": [
    "from cprint import cprint"
   ]
  },
  {
   "cell_type": "code",
   "execution_count": null,
   "metadata": {},
   "outputs": [],
   "source": [
    "cfg = {\n",
    "    \"model\": \"cnn\",\n",
    "    \"device\": \"stm32f415\",\n",
    "    \"algorithm\": \"tinyaes\",\n",
    "    \"version\": \"10\",\n",
    "    \"attack_points\": [\n",
    "        \"sub_bytes_out\"\n",
    "    ],\n",
    "    \"attack_bytes\": [\n",
    "        \"0\"\n",
    "    ],\n",
    "    \"max_trace_len\": 10000,\n",
    "    \"num_shards\": 256,\n",
    "    \"num_traces_per_shard\": 256,\n",
    "    \"batch_size\": 32,\n",
    "    \"epochs\": 10,\n",
    "    \"optimizer_parameters\": {\n",
    "        \"lr\": 0.001,\n",
    "        \"multi_gpu_lr\": 0.001\n",
    "    },\n",
    "    \"model_parameters\": {\n",
    "        \"activation\": \"relu\",\n",
    "        \"initial_filters\": 8,\n",
    "        \"initial_pool_size\": 4,\n",
    "        \"block_kernel_size\": 3,\n",
    "        \"blocks_stack1\": 3,\n",
    "        \"blocks_stack2\": 4,\n",
    "        \"blocks_stack3\": 4,\n",
    "        \"blocks_stack4\": 3,\n",
    "        \"dense_dropout\": 0.1\n",
    "    }\n",
    "}"
   ]
  },
  {
   "cell_type": "code",
   "execution_count": null,
   "metadata": {},
   "outputs": [],
   "source": [
    "from termcolor import cprint"
   ]
  },
  {
   "cell_type": "code",
   "execution_count": null,
   "metadata": {},
   "outputs": [],
   "source": [
    "model_scaml = get_model(X_train[:,:20000,:].shape[1:], 'sub_bytes_out', cfg )"
   ]
  },
  {
   "cell_type": "code",
   "execution_count": null,
   "metadata": {},
   "outputs": [],
   "source": [
    "y_test"
   ]
  },
  {
   "cell_type": "code",
   "execution_count": null,
   "metadata": {},
   "outputs": [],
   "source": [
    "model_scaml.fit(X_train[:,:20000,:],\n",
    "          y_train,\n",
    "          validation_data=(X_test[:,:20000,:], y_test),\n",
    "          verbose=1,\n",
    "          epochs=cfg[\"epochs\"])"
   ]
  },
  {
   "cell_type": "code",
   "execution_count": null,
   "metadata": {},
   "outputs": [],
   "source": [
    "scaml_predictions = model_scaml.predict(X_test[:,:20000,:], verbose=1)"
   ]
  },
  {
   "cell_type": "code",
   "execution_count": null,
   "metadata": {},
   "outputs": [],
   "source": [
    "scaml_predictions"
   ]
  },
  {
   "cell_type": "code",
   "execution_count": null,
   "metadata": {},
   "outputs": [],
   "source": [
    "print(np.argmax(scaml_predictions, axis=1).shape)\n",
    "print(np.argmax(scaml_predictions, axis=1))"
   ]
  },
  {
   "cell_type": "code",
   "execution_count": null,
   "metadata": {},
   "outputs": [],
   "source": [
    "print(training_data[0]['sub_bytes_out'])"
   ]
  },
  {
   "cell_type": "code",
   "execution_count": null,
   "metadata": {},
   "outputs": [],
   "source": [
    "model_scaml.save(models_path + '/scaml_model_trained')"
   ]
  },
  {
   "cell_type": "markdown",
   "metadata": {},
   "source": [
    "# Tips:\n",
    "\n",
    "## start simple (underfit) or start complex (overfit)\n",
    "\n",
    "## Don't need great accuracy => slightly above random could work with enough traces"
   ]
  }
 ],
 "metadata": {
  "accelerator": "TPU",
  "colab": {
   "authorship_tag": "ABX9TyNPPufLW+alIzuPVjTMR02P",
   "collapsed_sections": [],
   "name": "1.0 SCA MLP.ipynb",
   "provenance": []
  },
  "gpuClass": "standard",
  "kernelspec": {
   "display_name": "Python 3 (ipykernel)",
   "language": "python",
   "name": "python3"
  },
  "language_info": {
   "codemirror_mode": {
    "name": "ipython",
    "version": 3
   },
   "file_extension": ".py",
   "mimetype": "text/x-python",
   "name": "python",
   "nbconvert_exporter": "python",
   "pygments_lexer": "ipython3",
   "version": "3.9.12"
  },
  "toc-autonumbering": true,
  "widgets": {
   "application/vnd.jupyter.widget-state+json": {
    "0eb94c0b4e224171b294f5101577b056": {
     "model_module": "@jupyter-widgets/base",
     "model_module_version": "1.2.0",
     "model_name": "LayoutModel",
     "state": {
      "_model_module": "@jupyter-widgets/base",
      "_model_module_version": "1.2.0",
      "_model_name": "LayoutModel",
      "_view_count": null,
      "_view_module": "@jupyter-widgets/base",
      "_view_module_version": "1.2.0",
      "_view_name": "LayoutView",
      "align_content": null,
      "align_items": null,
      "align_self": null,
      "border": null,
      "bottom": null,
      "display": null,
      "flex": null,
      "flex_flow": null,
      "grid_area": null,
      "grid_auto_columns": null,
      "grid_auto_flow": null,
      "grid_auto_rows": null,
      "grid_column": null,
      "grid_gap": null,
      "grid_row": null,
      "grid_template_areas": null,
      "grid_template_columns": null,
      "grid_template_rows": null,
      "height": null,
      "justify_content": null,
      "justify_items": null,
      "left": null,
      "margin": null,
      "max_height": null,
      "max_width": null,
      "min_height": null,
      "min_width": null,
      "object_fit": null,
      "object_position": null,
      "order": null,
      "overflow": null,
      "overflow_x": null,
      "overflow_y": null,
      "padding": null,
      "right": null,
      "top": null,
      "visibility": null,
      "width": null
     }
    },
    "130e6f00dd5b41fc934aa3b1884492f3": {
     "model_module": "@jupyter-widgets/controls",
     "model_module_version": "1.5.0",
     "model_name": "HBoxModel",
     "state": {
      "_dom_classes": [],
      "_model_module": "@jupyter-widgets/controls",
      "_model_module_version": "1.5.0",
      "_model_name": "HBoxModel",
      "_view_count": null,
      "_view_module": "@jupyter-widgets/controls",
      "_view_module_version": "1.5.0",
      "_view_name": "HBoxView",
      "box_style": "",
      "children": [
       "IPY_MODEL_50dc2fa20d8d4f139aa4511039d9048e",
       "IPY_MODEL_ee5770baf6ec4623b0e9e89d154d3da8",
       "IPY_MODEL_780939f5f5334091b454048ddaf4a3f3"
      ],
      "layout": "IPY_MODEL_0eb94c0b4e224171b294f5101577b056"
     }
    },
    "34367596798d4c08a60b676ddf12c233": {
     "model_module": "@jupyter-widgets/base",
     "model_module_version": "1.2.0",
     "model_name": "LayoutModel",
     "state": {
      "_model_module": "@jupyter-widgets/base",
      "_model_module_version": "1.2.0",
      "_model_name": "LayoutModel",
      "_view_count": null,
      "_view_module": "@jupyter-widgets/base",
      "_view_module_version": "1.2.0",
      "_view_name": "LayoutView",
      "align_content": null,
      "align_items": null,
      "align_self": null,
      "border": null,
      "bottom": null,
      "display": null,
      "flex": null,
      "flex_flow": null,
      "grid_area": null,
      "grid_auto_columns": null,
      "grid_auto_flow": null,
      "grid_auto_rows": null,
      "grid_column": null,
      "grid_gap": null,
      "grid_row": null,
      "grid_template_areas": null,
      "grid_template_columns": null,
      "grid_template_rows": null,
      "height": null,
      "justify_content": null,
      "justify_items": null,
      "left": null,
      "margin": null,
      "max_height": null,
      "max_width": null,
      "min_height": null,
      "min_width": null,
      "object_fit": null,
      "object_position": null,
      "order": null,
      "overflow": null,
      "overflow_x": null,
      "overflow_y": null,
      "padding": null,
      "right": null,
      "top": null,
      "visibility": null,
      "width": null
     }
    },
    "50dc2fa20d8d4f139aa4511039d9048e": {
     "model_module": "@jupyter-widgets/controls",
     "model_module_version": "1.5.0",
     "model_name": "HTMLModel",
     "state": {
      "_dom_classes": [],
      "_model_module": "@jupyter-widgets/controls",
      "_model_module_version": "1.5.0",
      "_model_name": "HTMLModel",
      "_view_count": null,
      "_view_module": "@jupyter-widgets/controls",
      "_view_module_version": "1.5.0",
      "_view_name": "HTMLView",
      "description": "",
      "description_tooltip": null,
      "layout": "IPY_MODEL_34367596798d4c08a60b676ddf12c233",
      "placeholder": "​",
      "style": "IPY_MODEL_fd1be6e3e2c14557b37839c66a3a6c56",
      "value": "Loading training shards: 100%"
     }
    },
    "67b405019570413aa06f6f6a353e7a05": {
     "model_module": "@jupyter-widgets/base",
     "model_module_version": "1.2.0",
     "model_name": "LayoutModel",
     "state": {
      "_model_module": "@jupyter-widgets/base",
      "_model_module_version": "1.2.0",
      "_model_name": "LayoutModel",
      "_view_count": null,
      "_view_module": "@jupyter-widgets/base",
      "_view_module_version": "1.2.0",
      "_view_name": "LayoutView",
      "align_content": null,
      "align_items": null,
      "align_self": null,
      "border": null,
      "bottom": null,
      "display": null,
      "flex": null,
      "flex_flow": null,
      "grid_area": null,
      "grid_auto_columns": null,
      "grid_auto_flow": null,
      "grid_auto_rows": null,
      "grid_column": null,
      "grid_gap": null,
      "grid_row": null,
      "grid_template_areas": null,
      "grid_template_columns": null,
      "grid_template_rows": null,
      "height": null,
      "justify_content": null,
      "justify_items": null,
      "left": null,
      "margin": null,
      "max_height": null,
      "max_width": null,
      "min_height": null,
      "min_width": null,
      "object_fit": null,
      "object_position": null,
      "order": null,
      "overflow": null,
      "overflow_x": null,
      "overflow_y": null,
      "padding": null,
      "right": null,
      "top": null,
      "visibility": null,
      "width": null
     }
    },
    "6836140afee84cc1abc2ad0bfb0b20aa": {
     "model_module": "@jupyter-widgets/controls",
     "model_module_version": "1.5.0",
     "model_name": "ProgressStyleModel",
     "state": {
      "_model_module": "@jupyter-widgets/controls",
      "_model_module_version": "1.5.0",
      "_model_name": "ProgressStyleModel",
      "_view_count": null,
      "_view_module": "@jupyter-widgets/base",
      "_view_module_version": "1.2.0",
      "_view_name": "StyleView",
      "bar_color": null,
      "description_width": ""
     }
    },
    "780939f5f5334091b454048ddaf4a3f3": {
     "model_module": "@jupyter-widgets/controls",
     "model_module_version": "1.5.0",
     "model_name": "HTMLModel",
     "state": {
      "_dom_classes": [],
      "_model_module": "@jupyter-widgets/controls",
      "_model_module_version": "1.5.0",
      "_model_name": "HTMLModel",
      "_view_count": null,
      "_view_module": "@jupyter-widgets/controls",
      "_view_module_version": "1.5.0",
      "_view_name": "HTMLView",
      "description": "",
      "description_tooltip": null,
      "layout": "IPY_MODEL_67b405019570413aa06f6f6a353e7a05",
      "placeholder": "​",
      "style": "IPY_MODEL_a36533231f2f492ea8b8623852596b32",
      "value": " 50/50 [00:19&lt;00:00,  2.52it/s]"
     }
    },
    "a36533231f2f492ea8b8623852596b32": {
     "model_module": "@jupyter-widgets/controls",
     "model_module_version": "1.5.0",
     "model_name": "DescriptionStyleModel",
     "state": {
      "_model_module": "@jupyter-widgets/controls",
      "_model_module_version": "1.5.0",
      "_model_name": "DescriptionStyleModel",
      "_view_count": null,
      "_view_module": "@jupyter-widgets/base",
      "_view_module_version": "1.2.0",
      "_view_name": "StyleView",
      "description_width": ""
     }
    },
    "db14652317ac4982a8d0b70ab782eab7": {
     "model_module": "@jupyter-widgets/base",
     "model_module_version": "1.2.0",
     "model_name": "LayoutModel",
     "state": {
      "_model_module": "@jupyter-widgets/base",
      "_model_module_version": "1.2.0",
      "_model_name": "LayoutModel",
      "_view_count": null,
      "_view_module": "@jupyter-widgets/base",
      "_view_module_version": "1.2.0",
      "_view_name": "LayoutView",
      "align_content": null,
      "align_items": null,
      "align_self": null,
      "border": null,
      "bottom": null,
      "display": null,
      "flex": null,
      "flex_flow": null,
      "grid_area": null,
      "grid_auto_columns": null,
      "grid_auto_flow": null,
      "grid_auto_rows": null,
      "grid_column": null,
      "grid_gap": null,
      "grid_row": null,
      "grid_template_areas": null,
      "grid_template_columns": null,
      "grid_template_rows": null,
      "height": null,
      "justify_content": null,
      "justify_items": null,
      "left": null,
      "margin": null,
      "max_height": null,
      "max_width": null,
      "min_height": null,
      "min_width": null,
      "object_fit": null,
      "object_position": null,
      "order": null,
      "overflow": null,
      "overflow_x": null,
      "overflow_y": null,
      "padding": null,
      "right": null,
      "top": null,
      "visibility": null,
      "width": null
     }
    },
    "ee5770baf6ec4623b0e9e89d154d3da8": {
     "model_module": "@jupyter-widgets/controls",
     "model_module_version": "1.5.0",
     "model_name": "FloatProgressModel",
     "state": {
      "_dom_classes": [],
      "_model_module": "@jupyter-widgets/controls",
      "_model_module_version": "1.5.0",
      "_model_name": "FloatProgressModel",
      "_view_count": null,
      "_view_module": "@jupyter-widgets/controls",
      "_view_module_version": "1.5.0",
      "_view_name": "ProgressView",
      "bar_style": "",
      "description": "",
      "description_tooltip": null,
      "layout": "IPY_MODEL_db14652317ac4982a8d0b70ab782eab7",
      "max": 50,
      "min": 0,
      "orientation": "horizontal",
      "style": "IPY_MODEL_6836140afee84cc1abc2ad0bfb0b20aa",
      "value": 50
     }
    },
    "fd1be6e3e2c14557b37839c66a3a6c56": {
     "model_module": "@jupyter-widgets/controls",
     "model_module_version": "1.5.0",
     "model_name": "DescriptionStyleModel",
     "state": {
      "_model_module": "@jupyter-widgets/controls",
      "_model_module_version": "1.5.0",
      "_model_name": "DescriptionStyleModel",
      "_view_count": null,
      "_view_module": "@jupyter-widgets/base",
      "_view_module_version": "1.2.0",
      "_view_name": "StyleView",
      "description_width": ""
     }
    }
   }
  }
 },
 "nbformat": 4,
 "nbformat_minor": 4
}
