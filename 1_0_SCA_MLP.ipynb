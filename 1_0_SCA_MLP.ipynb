{
  "nbformat": 4,
  "nbformat_minor": 0,
  "metadata": {
    "colab": {
      "name": "1.0 SCA MLP.ipynb",
      "provenance": [],
      "collapsed_sections": [],
      "authorship_tag": "ABX9TyNPPufLW+alIzuPVjTMR02P"
    },
    "kernelspec": {
      "name": "python3",
      "display_name": "Python 3"
    },
    "language_info": {
      "name": "python"
    },
    "gpuClass": "standard",
    "accelerator": "TPU",
    "widgets": {
      "application/vnd.jupyter.widget-state+json": {
        "130e6f00dd5b41fc934aa3b1884492f3": {
          "model_module": "@jupyter-widgets/controls",
          "model_name": "HBoxModel",
          "model_module_version": "1.5.0",
          "state": {
            "_dom_classes": [],
            "_model_module": "@jupyter-widgets/controls",
            "_model_module_version": "1.5.0",
            "_model_name": "HBoxModel",
            "_view_count": null,
            "_view_module": "@jupyter-widgets/controls",
            "_view_module_version": "1.5.0",
            "_view_name": "HBoxView",
            "box_style": "",
            "children": [
              "IPY_MODEL_50dc2fa20d8d4f139aa4511039d9048e",
              "IPY_MODEL_ee5770baf6ec4623b0e9e89d154d3da8",
              "IPY_MODEL_780939f5f5334091b454048ddaf4a3f3"
            ],
            "layout": "IPY_MODEL_0eb94c0b4e224171b294f5101577b056"
          }
        },
        "50dc2fa20d8d4f139aa4511039d9048e": {
          "model_module": "@jupyter-widgets/controls",
          "model_name": "HTMLModel",
          "model_module_version": "1.5.0",
          "state": {
            "_dom_classes": [],
            "_model_module": "@jupyter-widgets/controls",
            "_model_module_version": "1.5.0",
            "_model_name": "HTMLModel",
            "_view_count": null,
            "_view_module": "@jupyter-widgets/controls",
            "_view_module_version": "1.5.0",
            "_view_name": "HTMLView",
            "description": "",
            "description_tooltip": null,
            "layout": "IPY_MODEL_34367596798d4c08a60b676ddf12c233",
            "placeholder": "​",
            "style": "IPY_MODEL_fd1be6e3e2c14557b37839c66a3a6c56",
            "value": "Loading training shards: 100%"
          }
        },
        "ee5770baf6ec4623b0e9e89d154d3da8": {
          "model_module": "@jupyter-widgets/controls",
          "model_name": "FloatProgressModel",
          "model_module_version": "1.5.0",
          "state": {
            "_dom_classes": [],
            "_model_module": "@jupyter-widgets/controls",
            "_model_module_version": "1.5.0",
            "_model_name": "FloatProgressModel",
            "_view_count": null,
            "_view_module": "@jupyter-widgets/controls",
            "_view_module_version": "1.5.0",
            "_view_name": "ProgressView",
            "bar_style": "",
            "description": "",
            "description_tooltip": null,
            "layout": "IPY_MODEL_db14652317ac4982a8d0b70ab782eab7",
            "max": 50,
            "min": 0,
            "orientation": "horizontal",
            "style": "IPY_MODEL_6836140afee84cc1abc2ad0bfb0b20aa",
            "value": 50
          }
        },
        "780939f5f5334091b454048ddaf4a3f3": {
          "model_module": "@jupyter-widgets/controls",
          "model_name": "HTMLModel",
          "model_module_version": "1.5.0",
          "state": {
            "_dom_classes": [],
            "_model_module": "@jupyter-widgets/controls",
            "_model_module_version": "1.5.0",
            "_model_name": "HTMLModel",
            "_view_count": null,
            "_view_module": "@jupyter-widgets/controls",
            "_view_module_version": "1.5.0",
            "_view_name": "HTMLView",
            "description": "",
            "description_tooltip": null,
            "layout": "IPY_MODEL_67b405019570413aa06f6f6a353e7a05",
            "placeholder": "​",
            "style": "IPY_MODEL_a36533231f2f492ea8b8623852596b32",
            "value": " 50/50 [00:19&lt;00:00,  2.52it/s]"
          }
        },
        "0eb94c0b4e224171b294f5101577b056": {
          "model_module": "@jupyter-widgets/base",
          "model_name": "LayoutModel",
          "model_module_version": "1.2.0",
          "state": {
            "_model_module": "@jupyter-widgets/base",
            "_model_module_version": "1.2.0",
            "_model_name": "LayoutModel",
            "_view_count": null,
            "_view_module": "@jupyter-widgets/base",
            "_view_module_version": "1.2.0",
            "_view_name": "LayoutView",
            "align_content": null,
            "align_items": null,
            "align_self": null,
            "border": null,
            "bottom": null,
            "display": null,
            "flex": null,
            "flex_flow": null,
            "grid_area": null,
            "grid_auto_columns": null,
            "grid_auto_flow": null,
            "grid_auto_rows": null,
            "grid_column": null,
            "grid_gap": null,
            "grid_row": null,
            "grid_template_areas": null,
            "grid_template_columns": null,
            "grid_template_rows": null,
            "height": null,
            "justify_content": null,
            "justify_items": null,
            "left": null,
            "margin": null,
            "max_height": null,
            "max_width": null,
            "min_height": null,
            "min_width": null,
            "object_fit": null,
            "object_position": null,
            "order": null,
            "overflow": null,
            "overflow_x": null,
            "overflow_y": null,
            "padding": null,
            "right": null,
            "top": null,
            "visibility": null,
            "width": null
          }
        },
        "34367596798d4c08a60b676ddf12c233": {
          "model_module": "@jupyter-widgets/base",
          "model_name": "LayoutModel",
          "model_module_version": "1.2.0",
          "state": {
            "_model_module": "@jupyter-widgets/base",
            "_model_module_version": "1.2.0",
            "_model_name": "LayoutModel",
            "_view_count": null,
            "_view_module": "@jupyter-widgets/base",
            "_view_module_version": "1.2.0",
            "_view_name": "LayoutView",
            "align_content": null,
            "align_items": null,
            "align_self": null,
            "border": null,
            "bottom": null,
            "display": null,
            "flex": null,
            "flex_flow": null,
            "grid_area": null,
            "grid_auto_columns": null,
            "grid_auto_flow": null,
            "grid_auto_rows": null,
            "grid_column": null,
            "grid_gap": null,
            "grid_row": null,
            "grid_template_areas": null,
            "grid_template_columns": null,
            "grid_template_rows": null,
            "height": null,
            "justify_content": null,
            "justify_items": null,
            "left": null,
            "margin": null,
            "max_height": null,
            "max_width": null,
            "min_height": null,
            "min_width": null,
            "object_fit": null,
            "object_position": null,
            "order": null,
            "overflow": null,
            "overflow_x": null,
            "overflow_y": null,
            "padding": null,
            "right": null,
            "top": null,
            "visibility": null,
            "width": null
          }
        },
        "fd1be6e3e2c14557b37839c66a3a6c56": {
          "model_module": "@jupyter-widgets/controls",
          "model_name": "DescriptionStyleModel",
          "model_module_version": "1.5.0",
          "state": {
            "_model_module": "@jupyter-widgets/controls",
            "_model_module_version": "1.5.0",
            "_model_name": "DescriptionStyleModel",
            "_view_count": null,
            "_view_module": "@jupyter-widgets/base",
            "_view_module_version": "1.2.0",
            "_view_name": "StyleView",
            "description_width": ""
          }
        },
        "db14652317ac4982a8d0b70ab782eab7": {
          "model_module": "@jupyter-widgets/base",
          "model_name": "LayoutModel",
          "model_module_version": "1.2.0",
          "state": {
            "_model_module": "@jupyter-widgets/base",
            "_model_module_version": "1.2.0",
            "_model_name": "LayoutModel",
            "_view_count": null,
            "_view_module": "@jupyter-widgets/base",
            "_view_module_version": "1.2.0",
            "_view_name": "LayoutView",
            "align_content": null,
            "align_items": null,
            "align_self": null,
            "border": null,
            "bottom": null,
            "display": null,
            "flex": null,
            "flex_flow": null,
            "grid_area": null,
            "grid_auto_columns": null,
            "grid_auto_flow": null,
            "grid_auto_rows": null,
            "grid_column": null,
            "grid_gap": null,
            "grid_row": null,
            "grid_template_areas": null,
            "grid_template_columns": null,
            "grid_template_rows": null,
            "height": null,
            "justify_content": null,
            "justify_items": null,
            "left": null,
            "margin": null,
            "max_height": null,
            "max_width": null,
            "min_height": null,
            "min_width": null,
            "object_fit": null,
            "object_position": null,
            "order": null,
            "overflow": null,
            "overflow_x": null,
            "overflow_y": null,
            "padding": null,
            "right": null,
            "top": null,
            "visibility": null,
            "width": null
          }
        },
        "6836140afee84cc1abc2ad0bfb0b20aa": {
          "model_module": "@jupyter-widgets/controls",
          "model_name": "ProgressStyleModel",
          "model_module_version": "1.5.0",
          "state": {
            "_model_module": "@jupyter-widgets/controls",
            "_model_module_version": "1.5.0",
            "_model_name": "ProgressStyleModel",
            "_view_count": null,
            "_view_module": "@jupyter-widgets/base",
            "_view_module_version": "1.2.0",
            "_view_name": "StyleView",
            "bar_color": null,
            "description_width": ""
          }
        },
        "67b405019570413aa06f6f6a353e7a05": {
          "model_module": "@jupyter-widgets/base",
          "model_name": "LayoutModel",
          "model_module_version": "1.2.0",
          "state": {
            "_model_module": "@jupyter-widgets/base",
            "_model_module_version": "1.2.0",
            "_model_name": "LayoutModel",
            "_view_count": null,
            "_view_module": "@jupyter-widgets/base",
            "_view_module_version": "1.2.0",
            "_view_name": "LayoutView",
            "align_content": null,
            "align_items": null,
            "align_self": null,
            "border": null,
            "bottom": null,
            "display": null,
            "flex": null,
            "flex_flow": null,
            "grid_area": null,
            "grid_auto_columns": null,
            "grid_auto_flow": null,
            "grid_auto_rows": null,
            "grid_column": null,
            "grid_gap": null,
            "grid_row": null,
            "grid_template_areas": null,
            "grid_template_columns": null,
            "grid_template_rows": null,
            "height": null,
            "justify_content": null,
            "justify_items": null,
            "left": null,
            "margin": null,
            "max_height": null,
            "max_width": null,
            "min_height": null,
            "min_width": null,
            "object_fit": null,
            "object_position": null,
            "order": null,
            "overflow": null,
            "overflow_x": null,
            "overflow_y": null,
            "padding": null,
            "right": null,
            "top": null,
            "visibility": null,
            "width": null
          }
        },
        "a36533231f2f492ea8b8623852596b32": {
          "model_module": "@jupyter-widgets/controls",
          "model_name": "DescriptionStyleModel",
          "model_module_version": "1.5.0",
          "state": {
            "_model_module": "@jupyter-widgets/controls",
            "_model_module_version": "1.5.0",
            "_model_name": "DescriptionStyleModel",
            "_view_count": null,
            "_view_module": "@jupyter-widgets/base",
            "_view_module_version": "1.2.0",
            "_view_name": "StyleView",
            "description_width": ""
          }
        }
      }
    }
  },
  "cells": [
    {
      "cell_type": "code",
      "execution_count": 1,
      "metadata": {
        "id": "vxexQWVRdrsm"
      },
      "outputs": [],
      "source": [
        "import tensorflow as tf\n",
        "from tensorflow import keras"
      ]
    },
    {
      "cell_type": "markdown",
      "source": [
        "# SCA koriscenjem deep learninga\n",
        "\n",
        "U radu je do sada bilo prikazano nekoliko nacina izvlacenja tajni iz hardvera. State of the art pristup su template napadi koji su se pokazali kao standard u ovoj oblasti istrazivanja sigurnosti sistema. Kod template napada je potrebno ozbiljno preprocesiranje ulaznih podataka, potrebno je dosta iskustva. DPA i CPA su dovoljno jednostavni za koriscenje i implementaciju, ali je i za njih potreban relativno veliki broj trace-va i ne pokazuju se toliko dobro sa sumovitim podacima. Deep learning nastoji da eliminise neke od navedenih problema. "
      ],
      "metadata": {
        "id": "Z1BUD7ZDwfBT"
      }
    },
    {
      "cell_type": "markdown",
      "source": [
        "# Arhitekture neuronskih mreza koje ce biti koriscene\n",
        "\n",
        "U radu koji opisuje ASCAD bazu podataka date su i neke smernice oko odabira odgovarajucih modela i izbora hiperparametara. Preprocesiranje podataka i redukcija dimenzionalnosti nije potrebna, jer se ona obavi u prvim slojevima mreze.\n",
        "\n",
        "### MLP (multi-layered perceptron)\n",
        "\n",
        "Obicna potpuno povezana neuronska mreza sa softmax aktivacijom - normalizuje izlaze\n",
        "\n",
        "input sloj : 80.000 tacaka traceva\n",
        "output sloj : 256 klasa za 256 mogucih vrednosti jednog bajta kljuca\n",
        "\n",
        "\n",
        "### ResNet\n",
        "\n",
        "### CNN (Convolutional Neural Network)"
      ],
      "metadata": {
        "id": "4GTh1TvUwNLD"
      }
    },
    {
      "cell_type": "code",
      "source": [
        "EXECUTE_IN_COLAB = True\n",
        "\n",
        "if EXECUTE_IN_COLAB:\n",
        "  from google.colab import drive\n",
        "  drive.mount('/content/drive')"
      ],
      "metadata": {
        "colab": {
          "base_uri": "https://localhost:8080/"
        },
        "id": "_TYf5Vp3wM9b",
        "outputId": "dbe1a1c3-24ea-498a-8627-cd5035000d23"
      },
      "execution_count": 2,
      "outputs": [
        {
          "output_type": "stream",
          "name": "stdout",
          "text": [
            "Drive already mounted at /content/drive; to attempt to forcibly remount, call drive.mount(\"/content/drive\", force_remount=True).\n"
          ]
        }
      ]
    },
    {
      "cell_type": "code",
      "source": [
        "import numpy as np\n",
        "import os\n",
        "\n",
        "def load_shards(path, num_shards=256):\n",
        "  shard_array = []\n",
        "  for shard_idx, shard_name in enumerate(os.listdir(path)):\n",
        "    if shard_idx == num_shards:\n",
        "      break\n",
        "    shard_array.append(np.load(path + '/' + shard_name))\n",
        "\n",
        "  return shard_array"
      ],
      "metadata": {
        "id": "ojguD0_q4dLr"
      },
      "execution_count": 3,
      "outputs": []
    },
    {
      "cell_type": "code",
      "source": [
        "training_data_path = '/content/drive/MyDrive/datasets/tinyaes/train'\n",
        "testing_data_path = '/content/drive/MyDrive/datasets/tinyaes/test'\n",
        "\n",
        "training_data = load_shards(training_data_path, num_shards=50)\n",
        "# test_data = load_shards(testing_data_path)"
      ],
      "metadata": {
        "id": "HwyS5hYFAGOx"
      },
      "execution_count": 4,
      "outputs": []
    },
    {
      "cell_type": "code",
      "source": [
        "print(training_data[0]['traces'][:100, :40000,].shape)\n",
        "print(training_data[0]['sub_bytes_out'][:100, :40000,].shape)"
      ],
      "metadata": {
        "colab": {
          "base_uri": "https://localhost:8080/"
        },
        "id": "lPzs4bnqEGGF",
        "outputId": "ffca306b-1dfa-459e-88d1-e376f07aacd7"
      },
      "execution_count": 5,
      "outputs": [
        {
          "output_type": "stream",
          "name": "stdout",
          "text": [
            "(100, 40000, 1)\n",
            "(16, 256)\n"
          ]
        }
      ]
    },
    {
      "cell_type": "code",
      "source": [
        "training_data[0]['traces'].shape"
      ],
      "metadata": {
        "colab": {
          "base_uri": "https://localhost:8080/"
        },
        "id": "yu8PrHD6dT3F",
        "outputId": "a64242d9-9a40-48b2-dce7-72d621cb595c"
      },
      "execution_count": 6,
      "outputs": [
        {
          "output_type": "execute_result",
          "data": {
            "text/plain": [
              "(256, 80000, 1)"
            ]
          },
          "metadata": {},
          "execution_count": 6
        }
      ]
    },
    {
      "cell_type": "code",
      "source": [
        "from tqdm.notebook import tqdm\n",
        "\n",
        "X_train = []\n",
        "y_train = []\n",
        "\n",
        "for training_shard in tqdm(training_data, desc='Loading training shards', position=0, leave=False):\n",
        "  for sample, label in zip(training_shard['traces'], training_shard['sub_bytes_out'].transpose()):\n",
        "    X_train.append(sample)\n",
        "    y_train.append(label)"
      ],
      "metadata": {
        "colab": {
          "base_uri": "https://localhost:8080/",
          "height": 17,
          "referenced_widgets": [
            "130e6f00dd5b41fc934aa3b1884492f3",
            "50dc2fa20d8d4f139aa4511039d9048e",
            "ee5770baf6ec4623b0e9e89d154d3da8",
            "780939f5f5334091b454048ddaf4a3f3",
            "0eb94c0b4e224171b294f5101577b056",
            "34367596798d4c08a60b676ddf12c233",
            "fd1be6e3e2c14557b37839c66a3a6c56",
            "db14652317ac4982a8d0b70ab782eab7",
            "6836140afee84cc1abc2ad0bfb0b20aa",
            "67b405019570413aa06f6f6a353e7a05",
            "a36533231f2f492ea8b8623852596b32"
          ]
        },
        "id": "3WE8RNaJdWo0",
        "outputId": "3aacf9dc-bf44-4bd0-e4ac-d3fa485a8461"
      },
      "execution_count": 7,
      "outputs": [
        {
          "output_type": "display_data",
          "data": {
            "text/plain": [
              "Loading training shards:   0%|          | 0/50 [00:00<?, ?it/s]"
            ],
            "application/vnd.jupyter.widget-view+json": {
              "version_major": 2,
              "version_minor": 0,
              "model_id": "130e6f00dd5b41fc934aa3b1884492f3"
            }
          },
          "metadata": {}
        }
      ]
    },
    {
      "cell_type": "code",
      "source": [
        "X_train = np.array(X_train)"
      ],
      "metadata": {
        "id": "_Ar1hYQZfk4a"
      },
      "execution_count": 8,
      "outputs": []
    },
    {
      "cell_type": "code",
      "source": [
        "y_train = np.array(y_train)"
      ],
      "metadata": {
        "id": "g7NtxWbUf-ly"
      },
      "execution_count": 9,
      "outputs": []
    },
    {
      "cell_type": "code",
      "source": [
        "import keras\n",
        "from keras.utils import np_utils\n",
        "\n",
        "print(y_train[0].shape)\n",
        "# sample idx _\n",
        "#             |\n",
        "#             v  v------ attack byte\n",
        "print(y_train[0][1])\n",
        "keras.utils.np_utils.to_categorical(y_train[0][1], dtype='uint8', num_classes=256)"
      ],
      "metadata": {
        "colab": {
          "base_uri": "https://localhost:8080/"
        },
        "id": "s2Qw5rbHgkuR",
        "outputId": "28cab755-15dc-4e23-ca3a-5ed9c1c85d76"
      },
      "execution_count": 10,
      "outputs": [
        {
          "output_type": "stream",
          "name": "stdout",
          "text": [
            "(16,)\n",
            "15\n"
          ]
        },
        {
          "output_type": "execute_result",
          "data": {
            "text/plain": [
              "array([0, 0, 0, 0, 0, 0, 0, 0, 0, 0, 0, 0, 0, 0, 0, 1, 0, 0, 0, 0, 0, 0,\n",
              "       0, 0, 0, 0, 0, 0, 0, 0, 0, 0, 0, 0, 0, 0, 0, 0, 0, 0, 0, 0, 0, 0,\n",
              "       0, 0, 0, 0, 0, 0, 0, 0, 0, 0, 0, 0, 0, 0, 0, 0, 0, 0, 0, 0, 0, 0,\n",
              "       0, 0, 0, 0, 0, 0, 0, 0, 0, 0, 0, 0, 0, 0, 0, 0, 0, 0, 0, 0, 0, 0,\n",
              "       0, 0, 0, 0, 0, 0, 0, 0, 0, 0, 0, 0, 0, 0, 0, 0, 0, 0, 0, 0, 0, 0,\n",
              "       0, 0, 0, 0, 0, 0, 0, 0, 0, 0, 0, 0, 0, 0, 0, 0, 0, 0, 0, 0, 0, 0,\n",
              "       0, 0, 0, 0, 0, 0, 0, 0, 0, 0, 0, 0, 0, 0, 0, 0, 0, 0, 0, 0, 0, 0,\n",
              "       0, 0, 0, 0, 0, 0, 0, 0, 0, 0, 0, 0, 0, 0, 0, 0, 0, 0, 0, 0, 0, 0,\n",
              "       0, 0, 0, 0, 0, 0, 0, 0, 0, 0, 0, 0, 0, 0, 0, 0, 0, 0, 0, 0, 0, 0,\n",
              "       0, 0, 0, 0, 0, 0, 0, 0, 0, 0, 0, 0, 0, 0, 0, 0, 0, 0, 0, 0, 0, 0,\n",
              "       0, 0, 0, 0, 0, 0, 0, 0, 0, 0, 0, 0, 0, 0, 0, 0, 0, 0, 0, 0, 0, 0,\n",
              "       0, 0, 0, 0, 0, 0, 0, 0, 0, 0, 0, 0, 0, 0], dtype=uint8)"
            ]
          },
          "metadata": {},
          "execution_count": 10
        }
      ]
    },
    {
      "cell_type": "code",
      "source": [
        "import keras\n",
        "from keras.utils import np_utils\n",
        "\n",
        "A = [1,3,3]\n",
        "\n",
        "keras.utils.np_utils.to_categorical(A, dtype=\"uint8\")"
      ],
      "metadata": {
        "colab": {
          "base_uri": "https://localhost:8080/"
        },
        "id": "jgw85gSjN5Iu",
        "outputId": "aa1cb226-9751-4421-8b17-f2383bbb39a7"
      },
      "execution_count": 11,
      "outputs": [
        {
          "output_type": "execute_result",
          "data": {
            "text/plain": [
              "array([[0, 1, 0, 0],\n",
              "       [0, 0, 0, 1],\n",
              "       [0, 0, 0, 1]], dtype=uint8)"
            ]
          },
          "metadata": {},
          "execution_count": 11
        }
      ]
    },
    {
      "cell_type": "code",
      "source": [
        "training_data[0]['sub_bytes_out']"
      ],
      "metadata": {
        "colab": {
          "base_uri": "https://localhost:8080/"
        },
        "id": "Nh6_pQPjUYNN",
        "outputId": "4f482717-8bc0-4747-9bf0-05c319528ec8"
      },
      "execution_count": 12,
      "outputs": [
        {
          "output_type": "execute_result",
          "data": {
            "text/plain": [
              "array([[ 71,  13,  22, ..., 250, 180,  41],\n",
              "       [ 15, 139, 171, ..., 154, 213, 223],\n",
              "       [160, 123,  27, ..., 171, 105,  48],\n",
              "       ...,\n",
              "       [213, 189, 237, ..., 182, 205,  56],\n",
              "       [199, 116, 223, ..., 109, 153, 124],\n",
              "       [ 75,  19,  88, ..., 218, 196, 199]], dtype=uint8)"
            ]
          },
          "metadata": {},
          "execution_count": 12
        }
      ]
    },
    {
      "cell_type": "code",
      "source": [
        "# ATTACK_POINT = 'sub_bytes_out'\n",
        "\n",
        "# training_X = training_data['traces']\n",
        "# training_y = training_data[ATTACK_POINT]"
      ],
      "metadata": {
        "colab": {
          "base_uri": "https://localhost:8080/",
          "height": 222
        },
        "id": "n3oDvinyDfQi",
        "outputId": "2d34cc74-def5-4337-f373-464b0dd95c4f"
      },
      "execution_count": 13,
      "outputs": [
        {
          "output_type": "error",
          "ename": "TypeError",
          "evalue": "ignored",
          "traceback": [
            "\u001b[0;31m---------------------------------------------------------------------------\u001b[0m",
            "\u001b[0;31mTypeError\u001b[0m                                 Traceback (most recent call last)",
            "\u001b[0;32m<ipython-input-13-865433344777>\u001b[0m in \u001b[0;36m<module>\u001b[0;34m\u001b[0m\n\u001b[1;32m      1\u001b[0m \u001b[0mATTACK_POINT\u001b[0m \u001b[0;34m=\u001b[0m \u001b[0;34m'sub_bytes_out'\u001b[0m\u001b[0;34m\u001b[0m\u001b[0;34m\u001b[0m\u001b[0m\n\u001b[1;32m      2\u001b[0m \u001b[0;34m\u001b[0m\u001b[0m\n\u001b[0;32m----> 3\u001b[0;31m \u001b[0mtraining_X\u001b[0m \u001b[0;34m=\u001b[0m \u001b[0mtraining_data\u001b[0m\u001b[0;34m[\u001b[0m\u001b[0;34m'traces'\u001b[0m\u001b[0;34m]\u001b[0m\u001b[0;34m\u001b[0m\u001b[0;34m\u001b[0m\u001b[0m\n\u001b[0m\u001b[1;32m      4\u001b[0m \u001b[0mtraining_y\u001b[0m \u001b[0;34m=\u001b[0m \u001b[0mtraining_data\u001b[0m\u001b[0;34m[\u001b[0m\u001b[0mATTACK_POINT\u001b[0m\u001b[0;34m]\u001b[0m\u001b[0;34m\u001b[0m\u001b[0;34m\u001b[0m\u001b[0m\n",
            "\u001b[0;31mTypeError\u001b[0m: list indices must be integers or slices, not str"
          ]
        }
      ]
    },
    {
      "cell_type": "code",
      "source": [
        "MLP_test = keras.models.Sequential()\n",
        "\n",
        "input_size = X_train.shape[0]\n",
        "\n",
        "# Input layer\n",
        "MLP_test.add(\n",
        "    keras.layers.Dense(\n",
        "        name='input_layer',\n",
        "        units=10000,\n",
        "        input_dim=X_train.shape[0],\n",
        "        kernel_initializer='glorot_uniform',\n",
        "        bias_initializer='zeros',\n",
        "        activation='relu'\n",
        "    )\n",
        ")\n",
        "\n",
        "# Hidden layer 1\n",
        "MLP_test.add(\n",
        "    keras.layers.Dense(\n",
        "        name='layer_1',\n",
        "        units=5000,\n",
        "        kernel_initializer='glorot_uniform',\n",
        "        bias_initializer='zeros',\n",
        "        activation='relu'\n",
        "    )\n",
        ")\n",
        "\n",
        "# Hidden layer 2\n",
        "MLP_test.add(\n",
        "    keras.layers.Dense(\n",
        "        name='layer_2',\n",
        "        units=2500,\n",
        "        kernel_initializer='glorot_uniform',\n",
        "        bias_initializer='zeros',\n",
        "        activation='relu'\n",
        "    )\n",
        ")\n",
        "\n",
        "# Hidden layer 3\n",
        "MLP_test.add(\n",
        "    keras.layers.Dense(\n",
        "        name='layer_3',\n",
        "        units=1250,\n",
        "        kernel_initializer='glorot_uniform',\n",
        "        bias_initializer='zeros',\n",
        "        activation='relu'\n",
        "    )\n",
        ")\n",
        "\n",
        "# Hidden layer 4\n",
        "MLP_test.add(\n",
        "    keras.layers.Dense(\n",
        "        name='layer_4',\n",
        "        units=512,\n",
        "        kernel_initializer='glorot_uniform',\n",
        "        bias_initializer='zeros',\n",
        "        activation='relu'\n",
        "    )\n",
        ")\n",
        "\n",
        "# Output layer\n",
        "MLP_test.add(\n",
        "    keras.layers.Dense(\n",
        "        name='output_layer',\n",
        "        units=256,\n",
        "        kernel_initializer='glorot_uniform',\n",
        "        bias_initializer='zeros',\n",
        "        activation='softmax'\n",
        "    )\n",
        ")\n",
        "\n",
        "MLP_test_optimizer = tf.keras.optimizers.Adam(learning_rate=0.01)\n",
        "MLP_test.compile(loss='categorical_crossentropy', optimizer=MLP_test_optimizer)"
      ],
      "metadata": {
        "id": "ll85pwRyrcvS"
      },
      "execution_count": 17,
      "outputs": []
    },
    {
      "cell_type": "code",
      "source": [
        "MLP_test.summary()"
      ],
      "metadata": {
        "colab": {
          "base_uri": "https://localhost:8080/"
        },
        "id": "1TbTa1bRyExu",
        "outputId": "2406c2c9-1f6c-41e9-ed29-2ef182463c6b"
      },
      "execution_count": 18,
      "outputs": [
        {
          "output_type": "stream",
          "name": "stdout",
          "text": [
            "Model: \"sequential_1\"\n",
            "_________________________________________________________________\n",
            " Layer (type)                Output Shape              Param #   \n",
            "=================================================================\n",
            " input_layer (Dense)         (None, 10000)             128010000 \n",
            "                                                                 \n",
            " layer_1 (Dense)             (None, 5000)              50005000  \n",
            "                                                                 \n",
            " layer_2 (Dense)             (None, 2500)              12502500  \n",
            "                                                                 \n",
            " layer_3 (Dense)             (None, 1250)              3126250   \n",
            "                                                                 \n",
            " layer_4 (Dense)             (None, 512)               640512    \n",
            "                                                                 \n",
            " output_layer (Dense)        (None, 256)               131328    \n",
            "                                                                 \n",
            "=================================================================\n",
            "Total params: 194,415,590\n",
            "Trainable params: 194,415,590\n",
            "Non-trainable params: 0\n",
            "_________________________________________________________________\n"
          ]
        }
      ]
    },
    {
      "cell_type": "code",
      "source": [
        "labels = keras.utils.np_utils.to_categorical(y_train)\n",
        "X_train_ = X_train[:,:,0]\n",
        "\n",
        "tf.convert_to_tensor(labels, dtype='uint8')\n",
        "tf.convert_to_tensor(X_train_, dtype='float32')\n",
        "\n",
        "tf.concat(labels, axis=0)\n",
        "tf.concat(X_train, axis=0)\n",
        "\n",
        "history = MLP_test.fit(\n",
        "    X_train_,\n",
        "    labels,\n",
        "    batch_size=64,\n",
        "    epochs=50,\n",
        "    verbose=1,\n",
        "    validation_split=0.1\n",
        ")"
      ],
      "metadata": {
        "id": "v-JTyUqbz-zJ"
      },
      "execution_count": null,
      "outputs": []
    }
  ]
}