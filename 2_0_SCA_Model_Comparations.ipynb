{
 "cells": [
  {
   "cell_type": "markdown",
   "id": "4a0504b3-1205-4bd5-a153-b5d207529c1e",
   "metadata": {},
   "source": [
    "# Conclusions\n",
    "\n",
    "Applying machine learning techniques to cryptanalysis is relatively new concept, and there is a lot of research happening in this area. It is obvious that this is still a hard and only partially explored topic. Making Side Channell Attacks easier could help hardware (and software) developers to develop products that are more resillient and secure. Of course, as is often case in security, there is a constant race between attackers and defenders and tools such as techniques listed in this project could be useful for both sides.\n",
    "\n",
    "Some of the takeaways from this project:\n",
    "* Using Keras hypertuner proved to be beneficial when finding the right model architecture. \n",
    "* Convolutional models performed better than simple MLPs.\n",
    "* Convolutional models were able to learn internal features of the data without any preprocessing\n",
    "* Other architectures could further improve performance of the attacks, but were out of scope at the time of writing this\n",
    "* ML based techniques are simpler to setup and understand, but very hard to train properly"
   ]
  },
  {
   "cell_type": "markdown",
   "id": "c6a7900c-1ba5-4813-929f-e7f3a4094138",
   "metadata": {},
   "source": [
    "# Further research:\n",
    "\n",
    "Deep-Cryptanalysis - Fashion or Revolution? [video](https://www.youtube.com/watch?v=hUmsyaPU-qU&t=2s)\n",
    "\n",
    "Unsupervised Learning SCA: [video](https://www.youtube.com/watch?v=so-18y5Avr0)/[paper](https://arxiv.org/pdf/2001.05951.pdf)\n",
    "\n",
    "Tips on tuning neural networks SCA [video](https://www.youtube.com/watch?v=uSpFfacjU4g)"
   ]
  }
 ],
 "metadata": {
  "kernelspec": {
   "display_name": "Python 3 (ipykernel)",
   "language": "python",
   "name": "python3"
  },
  "language_info": {
   "codemirror_mode": {
    "name": "ipython",
    "version": 3
   },
   "file_extension": ".py",
   "mimetype": "text/x-python",
   "name": "python",
   "nbconvert_exporter": "python",
   "pygments_lexer": "ipython3",
   "version": "3.9.0"
  }
 },
 "nbformat": 4,
 "nbformat_minor": 5
}
