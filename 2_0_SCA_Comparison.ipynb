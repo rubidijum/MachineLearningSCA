{
 "cells": [
  {
   "cell_type": "markdown",
   "id": "fcbd9741-83a0-4ae4-854e-ee728d32b08e",
   "metadata": {},
   "source": [
    "# SCA demonstration\n",
    "\n",
    "Focus of this notebook is to give a demonstration of the actual attack along with comparison of two different architectures used in the project. The only part of the attack that is missing is the collection of the traces from physical device.\n",
    "\n",
    "Models are already trained in notebooks `1_0_SCA_MLP.ipynb` and `1_1_SCA_CNN.ipynb`. Full attacks were also implemented in those notebooks, but for easier demonstration, they will be repeated here as well."
   ]
  },
  {
   "cell_type": "markdown",
   "id": "3fd052c7-bc65-40bf-8a8f-e65a0b153fe3",
   "metadata": {},
   "source": [
    "## Load data\n"
   ]
  },
  {
   "cell_type": "code",
   "execution_count": 66,
   "id": "a8f4408e-4d91-4692-8743-c9fa08d4694e",
   "metadata": {},
   "outputs": [
    {
     "name": "stdout",
     "output_type": "stream",
     "text": [
      "The autoreload extension is already loaded. To reload it, use:\n",
      "  %reload_ext autoreload\n"
     ]
    }
   ],
   "source": [
    "%load_ext autoreload\n",
    "%autoreload 2"
   ]
  },
  {
   "cell_type": "code",
   "execution_count": 67,
   "id": "680d29bb-741b-43c4-a98f-a75b65928435",
   "metadata": {},
   "outputs": [],
   "source": [
    "import random\n",
    "import matplotlib.pyplot as plt\n",
    "from matplotlib.figure import Figure\n",
    "import os\n",
    "import numpy as np\n",
    "import h5py\n",
    "import tensorflow as tf\n",
    "import keras\n",
    "from datetime import datetime\n",
    "import keras_tuner as kt\n",
    "from tqdm.notebook import tqdm\n",
    "import tensorflow_addons as tfa\n",
    "import keras_tuner as kt"
   ]
  },
  {
   "cell_type": "code",
   "execution_count": 77,
   "id": "3fc59826-4526-4374-a336-5f38cb041c8a",
   "metadata": {},
   "outputs": [],
   "source": [
    "from utils.data_preparation import SCAML_Dataset\n",
    "from utils.AES import AES\n",
    "from utils.training import SCA_Trainer"
   ]
  },
  {
   "cell_type": "code",
   "execution_count": 84,
   "id": "d2bc96d8-b3b9-4517-b59c-755c35ddffbe",
   "metadata": {},
   "outputs": [],
   "source": [
    "EXECUTE_IN_COLAB = False\n",
    "ATTACK_ALGORITHM = 'tinyaes'\n",
    "\n",
    "if EXECUTE_IN_COLAB:\n",
    "    from google.colab import drive\n",
    "    drive.mount('/content/drive')\n",
    "    \n",
    "    colab_root_path = '/content/drive/MyDrive/'\n",
    "    \n",
    "    training_data_path = colab_root_path + 'datasets/tinyaes/train'\n",
    "    testing_data_path = colab_root_path + 'datasets/tinyaes/test'\n",
    "    \n",
    "    save_models_root_path = colab_root_path + 'models/'\n",
    "    \n",
    "    log_root_path = colab_root_path + 'logs/'\n",
    "else:\n",
    "    data_root_path = './data/SCA_datasets/datasets/' + ATTACK_ALGORITHM\n",
    "    \n",
    "    training_data_path = data_root_path + '/train'\n",
    "    testing_data_path = data_root_path + '/test'\n",
    "    \n",
    "    save_models_root_path = './models/'\n",
    "    \n",
    "    log_root_path = './logs/'"
   ]
  },
  {
   "cell_type": "code",
   "execution_count": 131,
   "id": "234796d9-4784-4165-86a1-95bf9427042a",
   "metadata": {},
   "outputs": [
    {
     "name": "stderr",
     "output_type": "stream",
     "text": [
      "256it [00:03, 74.22it/s]\n",
      "Loading shards: 100%|████████████████████████████████████████████████████████████████| 256/256 [01:16<00:00,  3.34it/s]\n",
      "256it [00:02, 110.11it/s]\n",
      "Loading shards: 100%|████████████████████████████████████████████████████████████████| 256/256 [01:23<00:00,  3.06it/s]\n"
     ]
    }
   ],
   "source": [
    "dataset = SCAML_Dataset()\n",
    "\n",
    "dataset.create_dataset(training_data_path, attack_point='sub_bytes_out', trace_length=8000)\n",
    "dataset.create_dataset(testing_data_path, attack_point='sub_bytes_out', attack=True, trace_length=8000)"
   ]
  },
  {
   "cell_type": "markdown",
   "id": "4a0504b3-1205-4bd5-a153-b5d207529c1e",
   "metadata": {},
   "source": [
    "# Conclusions\n",
    "\n",
    "Applying machine learning techniques to cryptanalysis is relatively new concept, and there is a lot of research happening in this area. It is obvious that this is still a hard and only partially explored topic. Making Side Channell Attacks easier could help hardware (and software) developers to develop products that are more resillient and secure. Of course, as is often case in security, there is a constant race between attackers and defenders and tools such as techniques listed in this project could be useful for both sides.\n",
    "\n",
    "Some of the takeaways from this project:\n",
    "* Using Keras hypertuner proved to be beneficial when finding the right model architecture. \n",
    "* Convolutional models performed better than simple MLPs.\n",
    "* Convolutional models were able to learn internal features of the data without any preprocessing\n",
    "* Other architectures could further improve performance of the attacks, but were out of scope at the time of writing this\n",
    "* ML based techniques are simpler to setup and understand, but very hard to train properly"
   ]
  },
  {
   "cell_type": "markdown",
   "id": "c6a7900c-1ba5-4813-929f-e7f3a4094138",
   "metadata": {},
   "source": [
    "# Further research:\n",
    "\n",
    "Deep-Cryptanalysis - Fashion or Revolution? [video](https://www.youtube.com/watch?v=hUmsyaPU-qU&t=2s)\n",
    "\n",
    "Unsupervised Learning SCA: [video](https://www.youtube.com/watch?v=so-18y5Avr0)/[paper](https://arxiv.org/pdf/2001.05951.pdf)\n",
    "\n",
    "Tips on tuning neural networks SCA [video](https://www.youtube.com/watch?v=uSpFfacjU4g)"
   ]
  }
 ],
 "metadata": {
  "kernelspec": {
   "display_name": "Python 3 (ipykernel)",
   "language": "python",
   "name": "python3"
  },
  "language_info": {
   "codemirror_mode": {
    "name": "ipython",
    "version": 3
   },
   "file_extension": ".py",
   "mimetype": "text/x-python",
   "name": "python",
   "nbconvert_exporter": "python",
   "pygments_lexer": "ipython3",
   "version": "3.9.0"
  }
 },
 "nbformat": 4,
 "nbformat_minor": 5
}
