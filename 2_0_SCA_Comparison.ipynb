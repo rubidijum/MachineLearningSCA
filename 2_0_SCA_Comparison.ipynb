{
 "cells": [
  {
   "cell_type": "markdown",
   "id": "fcbd9741-83a0-4ae4-854e-ee728d32b08e",
   "metadata": {},
   "source": [
    "# SCA demonstration\n",
    "\n",
    "Focus of this notebook is to give a demonstration of the actual attack along with comparison of two different architectures used in the project. The only part of the attack that is missing is the collection of the traces from physical device.\n",
    "\n",
    "Models are already trained in notebooks `1_0_SCA_MLP.ipynb` and `1_1_SCA_CNN.ipynb`. Full attacks were also implemented in those notebooks, but for easier demonstration, they will be repeated here as well."
   ]
  },
  {
   "cell_type": "markdown",
   "id": "3fd052c7-bc65-40bf-8a8f-e65a0b153fe3",
   "metadata": {},
   "source": [
    "## Load data\n"
   ]
  },
  {
   "cell_type": "code",
   "execution_count": 1,
   "id": "a8f4408e-4d91-4692-8743-c9fa08d4694e",
   "metadata": {},
   "outputs": [],
   "source": [
    "%load_ext autoreload\n",
    "%autoreload 2"
   ]
  },
  {
   "cell_type": "code",
   "execution_count": 2,
   "id": "680d29bb-741b-43c4-a98f-a75b65928435",
   "metadata": {},
   "outputs": [],
   "source": [
    "import random\n",
    "import matplotlib.pyplot as plt\n",
    "from matplotlib.figure import Figure\n",
    "import os\n",
    "import numpy as np\n",
    "import h5py\n",
    "import tensorflow as tf\n",
    "import keras\n",
    "from datetime import datetime\n",
    "import keras_tuner as kt\n",
    "from tqdm.notebook import tqdm\n",
    "import tensorflow_addons as tfa\n",
    "import keras_tuner as kt"
   ]
  },
  {
   "cell_type": "code",
   "execution_count": 3,
   "id": "3fc59826-4526-4374-a336-5f38cb041c8a",
   "metadata": {},
   "outputs": [],
   "source": [
    "from utils.data_preparation import SCAML_Dataset\n",
    "from utils.AES import AES\n",
    "from utils.training import SCA_Trainer"
   ]
  },
  {
   "cell_type": "code",
   "execution_count": 4,
   "id": "b0de6592-8b36-436f-a3a2-b2f647842bbc",
   "metadata": {},
   "outputs": [],
   "source": [
    "import glob"
   ]
  },
  {
   "cell_type": "code",
   "execution_count": 5,
   "id": "d2bc96d8-b3b9-4517-b59c-755c35ddffbe",
   "metadata": {},
   "outputs": [],
   "source": [
    "EXECUTE_IN_COLAB = False\n",
    "ATTACK_ALGORITHM = 'tinyaes'\n",
    "\n",
    "if EXECUTE_IN_COLAB:\n",
    "    from google.colab import drive\n",
    "    drive.mount('/content/drive')\n",
    "    \n",
    "    colab_root_path = '/content/drive/MyDrive/'\n",
    "    \n",
    "    training_data_path = colab_root_path + 'datasets/tinyaes/train'\n",
    "    testing_data_path = colab_root_path + 'datasets/tinyaes/test'\n",
    "    \n",
    "    save_models_root_path = colab_root_path + 'models/'\n",
    "    \n",
    "    log_root_path = colab_root_path + 'logs/'\n",
    "else:\n",
    "    data_root_path = './data/SCA_datasets/datasets/' + ATTACK_ALGORITHM\n",
    "    \n",
    "    training_data_path = data_root_path + '/train'\n",
    "    testing_data_path = data_root_path + '/test'\n",
    "    \n",
    "    save_models_root_path = './models/'\n",
    "    \n",
    "    log_root_path = './logs/'"
   ]
  },
  {
   "cell_type": "markdown",
   "id": "e4eaf3cd-fd8c-4143-ba66-b1816f46c0f4",
   "metadata": {},
   "source": [
    "MLPs were trained with more datapoints."
   ]
  },
  {
   "cell_type": "code",
   "execution_count": 6,
   "id": "837e75bc-a14f-420d-9519-ed0fc52a9e82",
   "metadata": {},
   "outputs": [
    {
     "name": "stderr",
     "output_type": "stream",
     "text": [
      "256it [00:00, 5220.04it/s]\n",
      "Loading shards: 100%|████████████████████████████████████████████████████████████████| 256/256 [00:49<00:00,  5.14it/s]\n",
      "256it [00:01, 164.35it/s]\n",
      "Loading shards: 100%|████████████████████████████████████████████████████████████████| 256/256 [00:48<00:00,  5.30it/s]\n"
     ]
    }
   ],
   "source": [
    "dataset_MLP = SCAML_Dataset()\n",
    "\n",
    "dataset_MLP.create_dataset(training_data_path, attack_point='sub_bytes_out', trace_length=10000)\n",
    "dataset_MLP.create_dataset(testing_data_path, attack_point='sub_bytes_out', attack=True, trace_length=10000)"
   ]
  },
  {
   "cell_type": "code",
   "execution_count": 7,
   "id": "234796d9-4784-4165-86a1-95bf9427042a",
   "metadata": {},
   "outputs": [
    {
     "name": "stderr",
     "output_type": "stream",
     "text": [
      "256it [00:00, 4454.31it/s]\n",
      "Loading shards: 100%|████████████████████████████████████████████████████████████████| 256/256 [00:49<00:00,  5.18it/s]\n",
      "256it [00:00, 4299.37it/s]\n",
      "Loading shards: 100%|████████████████████████████████████████████████████████████████| 256/256 [00:55<00:00,  4.64it/s]\n"
     ]
    }
   ],
   "source": [
    "dataset_CNN = SCAML_Dataset()\n",
    "\n",
    "dataset_CNN.create_dataset(training_data_path, attack_point='sub_bytes_out', trace_length=8000)\n",
    "dataset_CNN.create_dataset(testing_data_path, attack_point='sub_bytes_out', attack=True, trace_length=8000)"
   ]
  },
  {
   "cell_type": "markdown",
   "id": "d575c3c0-795f-44e7-97ae-8c6546dc9990",
   "metadata": {},
   "source": [
    "# Load model ensambles\n",
    "\n",
    "Load all of the models needed for key recovery (16 per architecture)"
   ]
  },
  {
   "cell_type": "markdown",
   "id": "c201bf0a-3bd5-411a-8d5e-fa2b2e431d5e",
   "metadata": {},
   "source": [
    "## Load MLP models"
   ]
  },
  {
   "cell_type": "code",
   "execution_count": 8,
   "id": "01e4306d-2cbf-4352-b11c-1e21734dcd8e",
   "metadata": {},
   "outputs": [],
   "source": [
    "model_paths = ['./models/model_1Hypertuner_BestMLP']\n",
    "models = [tf.keras.models.load_model(model_paths[0])]\n",
    "\n",
    "for i in range(1, 16):\n",
    "    model_path = f\"./models/model_{i}FullMLP_byte_{i}_ver_2\"\n",
    "    model = tf.keras.models.load_model(model_path)\n",
    "    models.append(model)"
   ]
  },
  {
   "cell_type": "markdown",
   "id": "f30a4e9a-c3dc-4d80-ac95-fb8dcfddb17e",
   "metadata": {},
   "source": [
    "## Load CNN models"
   ]
  },
  {
   "cell_type": "code",
   "execution_count": 9,
   "id": "4fe93796-8ef2-456f-b2cd-e9ed69db65c4",
   "metadata": {},
   "outputs": [],
   "source": [
    "CNN_listing = glob.glob('./models/HyperCNN_*2022-04-09_*')"
   ]
  },
  {
   "cell_type": "code",
   "execution_count": 10,
   "id": "94621113-7006-48d2-ace6-73a64005324f",
   "metadata": {},
   "outputs": [
    {
     "data": {
      "application/vnd.jupyter.widget-view+json": {
       "model_id": "0a1a55d4b56445fd9273190aa859ba60",
       "version_major": 2,
       "version_minor": 0
      },
      "text/plain": [
       "  0%|          | 0/16 [00:00<?, ?it/s]"
      ]
     },
     "metadata": {},
     "output_type": "display_data"
    }
   ],
   "source": [
    "models_CNN = []\n",
    "\n",
    "for i in tqdm(range(16)):\n",
    "    model = tf.keras.models.load_model(CNN_listing[i])\n",
    "    models_CNN.append(model)"
   ]
  },
  {
   "cell_type": "markdown",
   "id": "763e2d5c-ad07-49d3-91e6-c6eb0bea009f",
   "metadata": {},
   "source": [
    "# Perform the attacks"
   ]
  },
  {
   "cell_type": "markdown",
   "id": "d8e02027-bb25-4507-9934-59cb5d56dce8",
   "metadata": {},
   "source": [
    "## Evaluate MLP attacks\n",
    "\n",
    "Given that the MLPs shown worse performance, it is expected to see "
   ]
  },
  {
   "cell_type": "code",
   "execution_count": 89,
   "id": "a16787db-a8ff-407b-a0cb-0a15f5fbd3fa",
   "metadata": {},
   "outputs": [],
   "source": [
    "mlp_trainer = SCA_Trainer()"
   ]
  },
  {
   "cell_type": "code",
   "execution_count": 91,
   "id": "57f87680-4e2b-4655-9a66-5cd4c97894a7",
   "metadata": {},
   "outputs": [
    {
     "data": {
      "application/vnd.jupyter.widget-view+json": {
       "model_id": "accdcba6c0114200938e6ce63b3e04f2",
       "version_major": 2,
       "version_minor": 0
      },
      "text/plain": [
       "  0%|          | 0/1 [00:00<?, ?it/s]"
      ]
     },
     "metadata": {},
     "output_type": "display_data"
    },
    {
     "data": {
      "application/vnd.jupyter.widget-view+json": {
       "model_id": "",
       "version_major": 2,
       "version_minor": 0
      },
      "text/plain": [
       "  0%|          | 0/16 [00:00<?, ?it/s]"
      ]
     },
     "metadata": {},
     "output_type": "display_data"
    },
    {
     "name": "stdout",
     "output_type": "stream",
     "text": [
      "Recovered 6.25% of the key using 1 traces\n"
     ]
    },
    {
     "data": {
      "application/vnd.jupyter.widget-view+json": {
       "model_id": "",
       "version_major": 2,
       "version_minor": 0
      },
      "text/plain": [
       "  0%|          | 0/16 [00:00<?, ?it/s]"
      ]
     },
     "metadata": {},
     "output_type": "display_data"
    },
    {
     "name": "stdout",
     "output_type": "stream",
     "text": [
      "Recovered 6.25% of the key using 2 traces\n"
     ]
    },
    {
     "data": {
      "application/vnd.jupyter.widget-view+json": {
       "model_id": "",
       "version_major": 2,
       "version_minor": 0
      },
      "text/plain": [
       "  0%|          | 0/16 [00:00<?, ?it/s]"
      ]
     },
     "metadata": {},
     "output_type": "display_data"
    },
    {
     "name": "stdout",
     "output_type": "stream",
     "text": [
      "Recovered 6.25% of the key using 3 traces\n"
     ]
    },
    {
     "data": {
      "application/vnd.jupyter.widget-view+json": {
       "model_id": "",
       "version_major": 2,
       "version_minor": 0
      },
      "text/plain": [
       "  0%|          | 0/16 [00:00<?, ?it/s]"
      ]
     },
     "metadata": {},
     "output_type": "display_data"
    },
    {
     "name": "stdout",
     "output_type": "stream",
     "text": [
      "Recovered 12.5% of the key using 4 traces\n"
     ]
    },
    {
     "data": {
      "application/vnd.jupyter.widget-view+json": {
       "model_id": "",
       "version_major": 2,
       "version_minor": 0
      },
      "text/plain": [
       "  0%|          | 0/16 [00:00<?, ?it/s]"
      ]
     },
     "metadata": {},
     "output_type": "display_data"
    },
    {
     "name": "stdout",
     "output_type": "stream",
     "text": [
      "Recovered 12.5% of the key using 5 traces\n"
     ]
    },
    {
     "data": {
      "application/vnd.jupyter.widget-view+json": {
       "model_id": "",
       "version_major": 2,
       "version_minor": 0
      },
      "text/plain": [
       "  0%|          | 0/16 [00:00<?, ?it/s]"
      ]
     },
     "metadata": {},
     "output_type": "display_data"
    },
    {
     "name": "stdout",
     "output_type": "stream",
     "text": [
      "Recovered 12.5% of the key using 6 traces\n"
     ]
    },
    {
     "data": {
      "application/vnd.jupyter.widget-view+json": {
       "model_id": "",
       "version_major": 2,
       "version_minor": 0
      },
      "text/plain": [
       "  0%|          | 0/16 [00:00<?, ?it/s]"
      ]
     },
     "metadata": {},
     "output_type": "display_data"
    },
    {
     "name": "stdout",
     "output_type": "stream",
     "text": [
      "Recovered 37.5% of the key using 7 traces\n"
     ]
    },
    {
     "data": {
      "application/vnd.jupyter.widget-view+json": {
       "model_id": "",
       "version_major": 2,
       "version_minor": 0
      },
      "text/plain": [
       "  0%|          | 0/16 [00:00<?, ?it/s]"
      ]
     },
     "metadata": {},
     "output_type": "display_data"
    },
    {
     "name": "stdout",
     "output_type": "stream",
     "text": [
      "Recovered 37.5% of the key using 8 traces\n"
     ]
    },
    {
     "data": {
      "application/vnd.jupyter.widget-view+json": {
       "model_id": "",
       "version_major": 2,
       "version_minor": 0
      },
      "text/plain": [
       "  0%|          | 0/16 [00:00<?, ?it/s]"
      ]
     },
     "metadata": {},
     "output_type": "display_data"
    },
    {
     "name": "stdout",
     "output_type": "stream",
     "text": [
      "Recovered 37.5% of the key using 9 traces\n"
     ]
    },
    {
     "data": {
      "application/vnd.jupyter.widget-view+json": {
       "model_id": "",
       "version_major": 2,
       "version_minor": 0
      },
      "text/plain": [
       "  0%|          | 0/16 [00:00<?, ?it/s]"
      ]
     },
     "metadata": {},
     "output_type": "display_data"
    },
    {
     "name": "stdout",
     "output_type": "stream",
     "text": [
      "Recovered 37.5% of the key using 10 traces\n"
     ]
    },
    {
     "data": {
      "application/vnd.jupyter.widget-view+json": {
       "model_id": "",
       "version_major": 2,
       "version_minor": 0
      },
      "text/plain": [
       "  0%|          | 0/16 [00:00<?, ?it/s]"
      ]
     },
     "metadata": {},
     "output_type": "display_data"
    },
    {
     "name": "stdout",
     "output_type": "stream",
     "text": [
      "Recovered 37.5% of the key using 11 traces\n"
     ]
    },
    {
     "data": {
      "application/vnd.jupyter.widget-view+json": {
       "model_id": "",
       "version_major": 2,
       "version_minor": 0
      },
      "text/plain": [
       "  0%|          | 0/16 [00:00<?, ?it/s]"
      ]
     },
     "metadata": {},
     "output_type": "display_data"
    },
    {
     "name": "stdout",
     "output_type": "stream",
     "text": [
      "Recovered 37.5% of the key using 12 traces\n"
     ]
    },
    {
     "data": {
      "application/vnd.jupyter.widget-view+json": {
       "model_id": "",
       "version_major": 2,
       "version_minor": 0
      },
      "text/plain": [
       "  0%|          | 0/16 [00:00<?, ?it/s]"
      ]
     },
     "metadata": {},
     "output_type": "display_data"
    },
    {
     "name": "stdout",
     "output_type": "stream",
     "text": [
      "Recovered 43.75% of the key using 13 traces\n"
     ]
    },
    {
     "data": {
      "application/vnd.jupyter.widget-view+json": {
       "model_id": "",
       "version_major": 2,
       "version_minor": 0
      },
      "text/plain": [
       "  0%|          | 0/16 [00:00<?, ?it/s]"
      ]
     },
     "metadata": {},
     "output_type": "display_data"
    },
    {
     "name": "stdout",
     "output_type": "stream",
     "text": [
      "Recovered 43.75% of the key using 14 traces\n"
     ]
    },
    {
     "data": {
      "application/vnd.jupyter.widget-view+json": {
       "model_id": "",
       "version_major": 2,
       "version_minor": 0
      },
      "text/plain": [
       "  0%|          | 0/16 [00:00<?, ?it/s]"
      ]
     },
     "metadata": {},
     "output_type": "display_data"
    },
    {
     "name": "stdout",
     "output_type": "stream",
     "text": [
      "Recovered 43.75% of the key using 15 traces\n"
     ]
    },
    {
     "data": {
      "application/vnd.jupyter.widget-view+json": {
       "model_id": "",
       "version_major": 2,
       "version_minor": 0
      },
      "text/plain": [
       "  0%|          | 0/16 [00:00<?, ?it/s]"
      ]
     },
     "metadata": {},
     "output_type": "display_data"
    },
    {
     "name": "stdout",
     "output_type": "stream",
     "text": [
      "Recovered 43.75% of the key using 16 traces\n"
     ]
    },
    {
     "data": {
      "application/vnd.jupyter.widget-view+json": {
       "model_id": "",
       "version_major": 2,
       "version_minor": 0
      },
      "text/plain": [
       "  0%|          | 0/16 [00:00<?, ?it/s]"
      ]
     },
     "metadata": {},
     "output_type": "display_data"
    },
    {
     "name": "stdout",
     "output_type": "stream",
     "text": [
      "Recovered 43.75% of the key using 17 traces\n"
     ]
    },
    {
     "data": {
      "application/vnd.jupyter.widget-view+json": {
       "model_id": "",
       "version_major": 2,
       "version_minor": 0
      },
      "text/plain": [
       "  0%|          | 0/16 [00:00<?, ?it/s]"
      ]
     },
     "metadata": {},
     "output_type": "display_data"
    },
    {
     "name": "stdout",
     "output_type": "stream",
     "text": [
      "Recovered 50.0% of the key using 18 traces\n"
     ]
    },
    {
     "data": {
      "application/vnd.jupyter.widget-view+json": {
       "model_id": "",
       "version_major": 2,
       "version_minor": 0
      },
      "text/plain": [
       "  0%|          | 0/16 [00:00<?, ?it/s]"
      ]
     },
     "metadata": {},
     "output_type": "display_data"
    },
    {
     "name": "stdout",
     "output_type": "stream",
     "text": [
      "Recovered 56.25% of the key using 19 traces\n"
     ]
    },
    {
     "data": {
      "application/vnd.jupyter.widget-view+json": {
       "model_id": "",
       "version_major": 2,
       "version_minor": 0
      },
      "text/plain": [
       "  0%|          | 0/16 [00:00<?, ?it/s]"
      ]
     },
     "metadata": {},
     "output_type": "display_data"
    },
    {
     "name": "stdout",
     "output_type": "stream",
     "text": [
      "Recovered 56.25% of the key using 20 traces\n",
      "{}\n",
      "Model failed to recover any keys using [1-20] traces.\n"
     ]
    }
   ],
   "source": [
    "mlp_guesses = mlp_trainer.evaluate_attack(models, dataset_MLP, 1, max_traces=20)"
   ]
  },
  {
   "cell_type": "markdown",
   "id": "42e61c41-8c2a-4bcc-a11d-1e3c9bf9b649",
   "metadata": {},
   "source": [
    "Given MLP's poor performance, it can be concluded that the models have to be trained better. Even in that case, it is expected to see the correct key byte within the first couple of guesses for faulty models:"
   ]
  },
  {
   "cell_type": "code",
   "execution_count": 93,
   "id": "9b4491f7-18a1-496c-a20f-ac893f5ff7ae",
   "metadata": {},
   "outputs": [
    {
     "name": "stdout",
     "output_type": "stream",
     "text": [
      "(20, array([ 98, 187, 228,  85, 159,  59,  33,  30,  54,  11,  47, 200, 158,\n",
      "       187, 217, 151], dtype=int64))\n"
     ]
    }
   ],
   "source": [
    "# Inspect which key bytes were incorrectly guessed\n",
    "print(mlp_guesses[-1])"
   ]
  },
  {
   "cell_type": "code",
   "execution_count": 94,
   "id": "86dfeaa8-f9c6-4fd4-93fe-90fe3db5d373",
   "metadata": {},
   "outputs": [
    {
     "name": "stdout",
     "output_type": "stream",
     "text": [
      "[ 98 187 228  85 159  59  33  30  54  11  47 200 158 187 217 151]\n"
     ]
    }
   ],
   "source": [
    "guess = mlp_guesses[-1][1]\n",
    "print(guess)"
   ]
  },
  {
   "cell_type": "code",
   "execution_count": 95,
   "id": "4910b870-f781-4c23-bc38-8a28c0e5d519",
   "metadata": {},
   "outputs": [
    {
     "name": "stdout",
     "output_type": "stream",
     "text": [
      "[  0 243 228  82  31  59  33  30  54  11  32 234 158 105 217 151]\n"
     ]
    }
   ],
   "source": [
    "correct_key = dataset_MLP.get_correct_key(0)\n",
    "print(correct_key)"
   ]
  },
  {
   "cell_type": "code",
   "execution_count": 96,
   "id": "b5768f78-93b9-4e91-b796-0a5eac9556d2",
   "metadata": {},
   "outputs": [
    {
     "data": {
      "text/plain": [
       "array([False, False,  True, False, False,  True,  True,  True,  True,\n",
       "        True, False, False,  True, False,  True,  True])"
      ]
     },
     "execution_count": 96,
     "metadata": {},
     "output_type": "execute_result"
    }
   ],
   "source": [
    "np.array(correct_key) == np.array(guess)"
   ]
  },
  {
   "cell_type": "markdown",
   "id": "dfed725c-0b4c-465a-8868-7c350b14e58a",
   "metadata": {},
   "source": [
    "The model failed to guess the first byte correctly (among other failed bytes), so the first model can be further inspected and evaluated:"
   ]
  },
  {
   "cell_type": "code",
   "execution_count": 97,
   "id": "557cd1ff-35d6-45b9-b61b-bf70c9fa6e5d",
   "metadata": {},
   "outputs": [
    {
     "data": {
      "application/vnd.jupyter.widget-view+json": {
       "model_id": "0cfd87e3284b4f899cdf40e81dfb08dd",
       "version_major": 2,
       "version_minor": 0
      },
      "text/plain": [
       "  0%|          | 0/1 [00:00<?, ?it/s]"
      ]
     },
     "metadata": {},
     "output_type": "display_data"
    },
    {
     "name": "stdout",
     "output_type": "stream",
     "text": [
      "2/2 [==============================] - 0s 10ms/step\n"
     ]
    },
    {
     "data": {
      "image/png": "[encoded data removed]",
      "text/plain": [
       "<Figure size 1440x1440 with 1 Axes>"
      ]
     },
     "metadata": {
      "needs_background": "light"
     },
     "output_type": "display_data"
    },
    {
     "data": {
      "image/png": "[encoded data removed]",
      "text/plain": [
       "<Figure size 432x288 with 2 Axes>"
      ]
     },
     "metadata": {
      "needs_background": "light"
     },
     "output_type": "display_data"
    }
   ],
   "source": [
    "mlp_trainer.evaluate_model(models[0], dataset_MLP, attack_byte=0, keys_to_attack=1, traces_per_chunk=50)"
   ]
  },
  {
   "cell_type": "markdown",
   "id": "b0cec6be-7735-4729-9c3a-a0dfa023e52b",
   "metadata": {},
   "source": [
    "It can be observed that for the model attacking the 1st byte, 29 traces were enough to reduce key rank to zero. This means that the results would probably be better if more traces were used in attack evaluation:"
   ]
  },
  {
   "cell_type": "code",
   "execution_count": 98,
   "id": "6bdb692b-f272-4e10-8a82-82fe4c336d57",
   "metadata": {},
   "outputs": [
    {
     "data": {
      "application/vnd.jupyter.widget-view+json": {
       "model_id": "d5c8ba7ad8e0461a925f81e33f8ac3ca",
       "version_major": 2,
       "version_minor": 0
      },
      "text/plain": [
       "  0%|          | 0/1 [00:00<?, ?it/s]"
      ]
     },
     "metadata": {},
     "output_type": "display_data"
    },
    {
     "data": {
      "application/vnd.jupyter.widget-view+json": {
       "model_id": "",
       "version_major": 2,
       "version_minor": 0
      },
      "text/plain": [
       "  0%|          | 0/16 [00:00<?, ?it/s]"
      ]
     },
     "metadata": {},
     "output_type": "display_data"
    },
    {
     "name": "stdout",
     "output_type": "stream",
     "text": [
      "Recovered 6.25% of the key using 1 traces\n"
     ]
    },
    {
     "data": {
      "application/vnd.jupyter.widget-view+json": {
       "model_id": "",
       "version_major": 2,
       "version_minor": 0
      },
      "text/plain": [
       "  0%|          | 0/16 [00:00<?, ?it/s]"
      ]
     },
     "metadata": {},
     "output_type": "display_data"
    },
    {
     "name": "stdout",
     "output_type": "stream",
     "text": [
      "Recovered 6.25% of the key using 2 traces\n"
     ]
    },
    {
     "data": {
      "application/vnd.jupyter.widget-view+json": {
       "model_id": "",
       "version_major": 2,
       "version_minor": 0
      },
      "text/plain": [
       "  0%|          | 0/16 [00:00<?, ?it/s]"
      ]
     },
     "metadata": {},
     "output_type": "display_data"
    },
    {
     "name": "stdout",
     "output_type": "stream",
     "text": [
      "Recovered 6.25% of the key using 3 traces\n"
     ]
    },
    {
     "data": {
      "application/vnd.jupyter.widget-view+json": {
       "model_id": "",
       "version_major": 2,
       "version_minor": 0
      },
      "text/plain": [
       "  0%|          | 0/16 [00:00<?, ?it/s]"
      ]
     },
     "metadata": {},
     "output_type": "display_data"
    },
    {
     "name": "stdout",
     "output_type": "stream",
     "text": [
      "Recovered 12.5% of the key using 4 traces\n"
     ]
    },
    {
     "data": {
      "application/vnd.jupyter.widget-view+json": {
       "model_id": "",
       "version_major": 2,
       "version_minor": 0
      },
      "text/plain": [
       "  0%|          | 0/16 [00:00<?, ?it/s]"
      ]
     },
     "metadata": {},
     "output_type": "display_data"
    },
    {
     "name": "stdout",
     "output_type": "stream",
     "text": [
      "Recovered 12.5% of the key using 5 traces\n"
     ]
    },
    {
     "data": {
      "application/vnd.jupyter.widget-view+json": {
       "model_id": "",
       "version_major": 2,
       "version_minor": 0
      },
      "text/plain": [
       "  0%|          | 0/16 [00:00<?, ?it/s]"
      ]
     },
     "metadata": {},
     "output_type": "display_data"
    },
    {
     "name": "stdout",
     "output_type": "stream",
     "text": [
      "Recovered 12.5% of the key using 6 traces\n"
     ]
    },
    {
     "data": {
      "application/vnd.jupyter.widget-view+json": {
       "model_id": "",
       "version_major": 2,
       "version_minor": 0
      },
      "text/plain": [
       "  0%|          | 0/16 [00:00<?, ?it/s]"
      ]
     },
     "metadata": {},
     "output_type": "display_data"
    },
    {
     "name": "stdout",
     "output_type": "stream",
     "text": [
      "Recovered 37.5% of the key using 7 traces\n"
     ]
    },
    {
     "data": {
      "application/vnd.jupyter.widget-view+json": {
       "model_id": "",
       "version_major": 2,
       "version_minor": 0
      },
      "text/plain": [
       "  0%|          | 0/16 [00:00<?, ?it/s]"
      ]
     },
     "metadata": {},
     "output_type": "display_data"
    },
    {
     "name": "stdout",
     "output_type": "stream",
     "text": [
      "Recovered 37.5% of the key using 8 traces\n"
     ]
    },
    {
     "data": {
      "application/vnd.jupyter.widget-view+json": {
       "model_id": "",
       "version_major": 2,
       "version_minor": 0
      },
      "text/plain": [
       "  0%|          | 0/16 [00:00<?, ?it/s]"
      ]
     },
     "metadata": {},
     "output_type": "display_data"
    },
    {
     "name": "stdout",
     "output_type": "stream",
     "text": [
      "Recovered 37.5% of the key using 9 traces\n"
     ]
    },
    {
     "data": {
      "application/vnd.jupyter.widget-view+json": {
       "model_id": "",
       "version_major": 2,
       "version_minor": 0
      },
      "text/plain": [
       "  0%|          | 0/16 [00:00<?, ?it/s]"
      ]
     },
     "metadata": {},
     "output_type": "display_data"
    },
    {
     "name": "stdout",
     "output_type": "stream",
     "text": [
      "Recovered 37.5% of the key using 10 traces\n"
     ]
    },
    {
     "data": {
      "application/vnd.jupyter.widget-view+json": {
       "model_id": "",
       "version_major": 2,
       "version_minor": 0
      },
      "text/plain": [
       "  0%|          | 0/16 [00:00<?, ?it/s]"
      ]
     },
     "metadata": {},
     "output_type": "display_data"
    },
    {
     "name": "stdout",
     "output_type": "stream",
     "text": [
      "Recovered 37.5% of the key using 11 traces\n"
     ]
    },
    {
     "data": {
      "application/vnd.jupyter.widget-view+json": {
       "model_id": "",
       "version_major": 2,
       "version_minor": 0
      },
      "text/plain": [
       "  0%|          | 0/16 [00:00<?, ?it/s]"
      ]
     },
     "metadata": {},
     "output_type": "display_data"
    },
    {
     "name": "stdout",
     "output_type": "stream",
     "text": [
      "Recovered 37.5% of the key using 12 traces\n"
     ]
    },
    {
     "data": {
      "application/vnd.jupyter.widget-view+json": {
       "model_id": "",
       "version_major": 2,
       "version_minor": 0
      },
      "text/plain": [
       "  0%|          | 0/16 [00:00<?, ?it/s]"
      ]
     },
     "metadata": {},
     "output_type": "display_data"
    },
    {
     "name": "stdout",
     "output_type": "stream",
     "text": [
      "Recovered 43.75% of the key using 13 traces\n"
     ]
    },
    {
     "data": {
      "application/vnd.jupyter.widget-view+json": {
       "model_id": "",
       "version_major": 2,
       "version_minor": 0
      },
      "text/plain": [
       "  0%|          | 0/16 [00:00<?, ?it/s]"
      ]
     },
     "metadata": {},
     "output_type": "display_data"
    },
    {
     "name": "stdout",
     "output_type": "stream",
     "text": [
      "Recovered 43.75% of the key using 14 traces\n"
     ]
    },
    {
     "data": {
      "application/vnd.jupyter.widget-view+json": {
       "model_id": "",
       "version_major": 2,
       "version_minor": 0
      },
      "text/plain": [
       "  0%|          | 0/16 [00:00<?, ?it/s]"
      ]
     },
     "metadata": {},
     "output_type": "display_data"
    },
    {
     "name": "stdout",
     "output_type": "stream",
     "text": [
      "Recovered 43.75% of the key using 15 traces\n"
     ]
    },
    {
     "data": {
      "application/vnd.jupyter.widget-view+json": {
       "model_id": "",
       "version_major": 2,
       "version_minor": 0
      },
      "text/plain": [
       "  0%|          | 0/16 [00:00<?, ?it/s]"
      ]
     },
     "metadata": {},
     "output_type": "display_data"
    },
    {
     "name": "stdout",
     "output_type": "stream",
     "text": [
      "Recovered 43.75% of the key using 16 traces\n"
     ]
    },
    {
     "data": {
      "application/vnd.jupyter.widget-view+json": {
       "model_id": "",
       "version_major": 2,
       "version_minor": 0
      },
      "text/plain": [
       "  0%|          | 0/16 [00:00<?, ?it/s]"
      ]
     },
     "metadata": {},
     "output_type": "display_data"
    },
    {
     "name": "stdout",
     "output_type": "stream",
     "text": [
      "Recovered 43.75% of the key using 17 traces\n"
     ]
    },
    {
     "data": {
      "application/vnd.jupyter.widget-view+json": {
       "model_id": "",
       "version_major": 2,
       "version_minor": 0
      },
      "text/plain": [
       "  0%|          | 0/16 [00:00<?, ?it/s]"
      ]
     },
     "metadata": {},
     "output_type": "display_data"
    },
    {
     "name": "stdout",
     "output_type": "stream",
     "text": [
      "Recovered 50.0% of the key using 18 traces\n"
     ]
    },
    {
     "data": {
      "application/vnd.jupyter.widget-view+json": {
       "model_id": "",
       "version_major": 2,
       "version_minor": 0
      },
      "text/plain": [
       "  0%|          | 0/16 [00:00<?, ?it/s]"
      ]
     },
     "metadata": {},
     "output_type": "display_data"
    },
    {
     "name": "stdout",
     "output_type": "stream",
     "text": [
      "Recovered 56.25% of the key using 19 traces\n"
     ]
    },
    {
     "data": {
      "application/vnd.jupyter.widget-view+json": {
       "model_id": "",
       "version_major": 2,
       "version_minor": 0
      },
      "text/plain": [
       "  0%|          | 0/16 [00:00<?, ?it/s]"
      ]
     },
     "metadata": {},
     "output_type": "display_data"
    },
    {
     "name": "stdout",
     "output_type": "stream",
     "text": [
      "Recovered 56.25% of the key using 20 traces\n"
     ]
    },
    {
     "data": {
      "application/vnd.jupyter.widget-view+json": {
       "model_id": "",
       "version_major": 2,
       "version_minor": 0
      },
      "text/plain": [
       "  0%|          | 0/16 [00:00<?, ?it/s]"
      ]
     },
     "metadata": {},
     "output_type": "display_data"
    },
    {
     "name": "stdout",
     "output_type": "stream",
     "text": [
      "Recovered 56.25% of the key using 21 traces\n"
     ]
    },
    {
     "data": {
      "application/vnd.jupyter.widget-view+json": {
       "model_id": "",
       "version_major": 2,
       "version_minor": 0
      },
      "text/plain": [
       "  0%|          | 0/16 [00:00<?, ?it/s]"
      ]
     },
     "metadata": {},
     "output_type": "display_data"
    },
    {
     "name": "stdout",
     "output_type": "stream",
     "text": [
      "Recovered 56.25% of the key using 22 traces\n"
     ]
    },
    {
     "data": {
      "application/vnd.jupyter.widget-view+json": {
       "model_id": "",
       "version_major": 2,
       "version_minor": 0
      },
      "text/plain": [
       "  0%|          | 0/16 [00:00<?, ?it/s]"
      ]
     },
     "metadata": {},
     "output_type": "display_data"
    },
    {
     "name": "stdout",
     "output_type": "stream",
     "text": [
      "Recovered 56.25% of the key using 23 traces\n"
     ]
    },
    {
     "data": {
      "application/vnd.jupyter.widget-view+json": {
       "model_id": "",
       "version_major": 2,
       "version_minor": 0
      },
      "text/plain": [
       "  0%|          | 0/16 [00:00<?, ?it/s]"
      ]
     },
     "metadata": {},
     "output_type": "display_data"
    },
    {
     "name": "stdout",
     "output_type": "stream",
     "text": [
      "Recovered 56.25% of the key using 24 traces\n"
     ]
    },
    {
     "data": {
      "application/vnd.jupyter.widget-view+json": {
       "model_id": "",
       "version_major": 2,
       "version_minor": 0
      },
      "text/plain": [
       "  0%|          | 0/16 [00:00<?, ?it/s]"
      ]
     },
     "metadata": {},
     "output_type": "display_data"
    },
    {
     "name": "stdout",
     "output_type": "stream",
     "text": [
      "Recovered 56.25% of the key using 25 traces\n"
     ]
    },
    {
     "data": {
      "application/vnd.jupyter.widget-view+json": {
       "model_id": "",
       "version_major": 2,
       "version_minor": 0
      },
      "text/plain": [
       "  0%|          | 0/16 [00:00<?, ?it/s]"
      ]
     },
     "metadata": {},
     "output_type": "display_data"
    },
    {
     "name": "stdout",
     "output_type": "stream",
     "text": [
      "Recovered 56.25% of the key using 26 traces\n"
     ]
    },
    {
     "data": {
      "application/vnd.jupyter.widget-view+json": {
       "model_id": "",
       "version_major": 2,
       "version_minor": 0
      },
      "text/plain": [
       "  0%|          | 0/16 [00:00<?, ?it/s]"
      ]
     },
     "metadata": {},
     "output_type": "display_data"
    },
    {
     "name": "stdout",
     "output_type": "stream",
     "text": [
      "Recovered 56.25% of the key using 27 traces\n"
     ]
    },
    {
     "data": {
      "application/vnd.jupyter.widget-view+json": {
       "model_id": "",
       "version_major": 2,
       "version_minor": 0
      },
      "text/plain": [
       "  0%|          | 0/16 [00:00<?, ?it/s]"
      ]
     },
     "metadata": {},
     "output_type": "display_data"
    },
    {
     "name": "stdout",
     "output_type": "stream",
     "text": [
      "Recovered 56.25% of the key using 28 traces\n"
     ]
    },
    {
     "data": {
      "application/vnd.jupyter.widget-view+json": {
       "model_id": "",
       "version_major": 2,
       "version_minor": 0
      },
      "text/plain": [
       "  0%|          | 0/16 [00:00<?, ?it/s]"
      ]
     },
     "metadata": {},
     "output_type": "display_data"
    },
    {
     "name": "stdout",
     "output_type": "stream",
     "text": [
      "Recovered 62.5% of the key using 29 traces\n"
     ]
    },
    {
     "data": {
      "application/vnd.jupyter.widget-view+json": {
       "model_id": "",
       "version_major": 2,
       "version_minor": 0
      },
      "text/plain": [
       "  0%|          | 0/16 [00:00<?, ?it/s]"
      ]
     },
     "metadata": {},
     "output_type": "display_data"
    },
    {
     "name": "stdout",
     "output_type": "stream",
     "text": [
      "Recovered 68.75% of the key using 30 traces\n"
     ]
    },
    {
     "data": {
      "application/vnd.jupyter.widget-view+json": {
       "model_id": "",
       "version_major": 2,
       "version_minor": 0
      },
      "text/plain": [
       "  0%|          | 0/16 [00:00<?, ?it/s]"
      ]
     },
     "metadata": {},
     "output_type": "display_data"
    },
    {
     "name": "stdout",
     "output_type": "stream",
     "text": [
      "Recovered 68.75% of the key using 31 traces\n"
     ]
    },
    {
     "data": {
      "application/vnd.jupyter.widget-view+json": {
       "model_id": "",
       "version_major": 2,
       "version_minor": 0
      },
      "text/plain": [
       "  0%|          | 0/16 [00:00<?, ?it/s]"
      ]
     },
     "metadata": {},
     "output_type": "display_data"
    },
    {
     "name": "stdout",
     "output_type": "stream",
     "text": [
      "Recovered 68.75% of the key using 32 traces\n"
     ]
    },
    {
     "data": {
      "application/vnd.jupyter.widget-view+json": {
       "model_id": "",
       "version_major": 2,
       "version_minor": 0
      },
      "text/plain": [
       "  0%|          | 0/16 [00:00<?, ?it/s]"
      ]
     },
     "metadata": {},
     "output_type": "display_data"
    },
    {
     "name": "stdout",
     "output_type": "stream",
     "text": [
      "Recovered 75.0% of the key using 33 traces\n"
     ]
    },
    {
     "data": {
      "application/vnd.jupyter.widget-view+json": {
       "model_id": "",
       "version_major": 2,
       "version_minor": 0
      },
      "text/plain": [
       "  0%|          | 0/16 [00:00<?, ?it/s]"
      ]
     },
     "metadata": {},
     "output_type": "display_data"
    },
    {
     "name": "stdout",
     "output_type": "stream",
     "text": [
      "Recovered 75.0% of the key using 34 traces\n"
     ]
    },
    {
     "data": {
      "application/vnd.jupyter.widget-view+json": {
       "model_id": "",
       "version_major": 2,
       "version_minor": 0
      },
      "text/plain": [
       "  0%|          | 0/16 [00:00<?, ?it/s]"
      ]
     },
     "metadata": {},
     "output_type": "display_data"
    },
    {
     "name": "stdout",
     "output_type": "stream",
     "text": [
      "Recovered 75.0% of the key using 35 traces\n"
     ]
    },
    {
     "data": {
      "application/vnd.jupyter.widget-view+json": {
       "model_id": "",
       "version_major": 2,
       "version_minor": 0
      },
      "text/plain": [
       "  0%|          | 0/16 [00:00<?, ?it/s]"
      ]
     },
     "metadata": {},
     "output_type": "display_data"
    },
    {
     "name": "stdout",
     "output_type": "stream",
     "text": [
      "Recovered 75.0% of the key using 36 traces\n"
     ]
    },
    {
     "data": {
      "application/vnd.jupyter.widget-view+json": {
       "model_id": "",
       "version_major": 2,
       "version_minor": 0
      },
      "text/plain": [
       "  0%|          | 0/16 [00:00<?, ?it/s]"
      ]
     },
     "metadata": {},
     "output_type": "display_data"
    },
    {
     "name": "stdout",
     "output_type": "stream",
     "text": [
      "Recovered 75.0% of the key using 37 traces\n"
     ]
    },
    {
     "data": {
      "application/vnd.jupyter.widget-view+json": {
       "model_id": "",
       "version_major": 2,
       "version_minor": 0
      },
      "text/plain": [
       "  0%|          | 0/16 [00:00<?, ?it/s]"
      ]
     },
     "metadata": {},
     "output_type": "display_data"
    },
    {
     "name": "stdout",
     "output_type": "stream",
     "text": [
      "Recovered 75.0% of the key using 38 traces\n"
     ]
    },
    {
     "data": {
      "application/vnd.jupyter.widget-view+json": {
       "model_id": "",
       "version_major": 2,
       "version_minor": 0
      },
      "text/plain": [
       "  0%|          | 0/16 [00:00<?, ?it/s]"
      ]
     },
     "metadata": {},
     "output_type": "display_data"
    },
    {
     "name": "stdout",
     "output_type": "stream",
     "text": [
      "Recovered 75.0% of the key using 39 traces\n"
     ]
    },
    {
     "data": {
      "application/vnd.jupyter.widget-view+json": {
       "model_id": "",
       "version_major": 2,
       "version_minor": 0
      },
      "text/plain": [
       "  0%|          | 0/16 [00:00<?, ?it/s]"
      ]
     },
     "metadata": {},
     "output_type": "display_data"
    },
    {
     "name": "stdout",
     "output_type": "stream",
     "text": [
      "Recovered 75.0% of the key using 40 traces\n"
     ]
    },
    {
     "data": {
      "application/vnd.jupyter.widget-view+json": {
       "model_id": "",
       "version_major": 2,
       "version_minor": 0
      },
      "text/plain": [
       "  0%|          | 0/16 [00:00<?, ?it/s]"
      ]
     },
     "metadata": {},
     "output_type": "display_data"
    },
    {
     "name": "stdout",
     "output_type": "stream",
     "text": [
      "Recovered 75.0% of the key using 41 traces\n"
     ]
    },
    {
     "data": {
      "application/vnd.jupyter.widget-view+json": {
       "model_id": "",
       "version_major": 2,
       "version_minor": 0
      },
      "text/plain": [
       "  0%|          | 0/16 [00:00<?, ?it/s]"
      ]
     },
     "metadata": {},
     "output_type": "display_data"
    },
    {
     "name": "stdout",
     "output_type": "stream",
     "text": [
      "Recovered 75.0% of the key using 42 traces\n"
     ]
    },
    {
     "data": {
      "application/vnd.jupyter.widget-view+json": {
       "model_id": "",
       "version_major": 2,
       "version_minor": 0
      },
      "text/plain": [
       "  0%|          | 0/16 [00:00<?, ?it/s]"
      ]
     },
     "metadata": {},
     "output_type": "display_data"
    },
    {
     "name": "stdout",
     "output_type": "stream",
     "text": [
      "Recovered 75.0% of the key using 43 traces\n"
     ]
    },
    {
     "data": {
      "application/vnd.jupyter.widget-view+json": {
       "model_id": "",
       "version_major": 2,
       "version_minor": 0
      },
      "text/plain": [
       "  0%|          | 0/16 [00:00<?, ?it/s]"
      ]
     },
     "metadata": {},
     "output_type": "display_data"
    },
    {
     "name": "stdout",
     "output_type": "stream",
     "text": [
      "Recovered 75.0% of the key using 44 traces\n"
     ]
    },
    {
     "data": {
      "application/vnd.jupyter.widget-view+json": {
       "model_id": "",
       "version_major": 2,
       "version_minor": 0
      },
      "text/plain": [
       "  0%|          | 0/16 [00:00<?, ?it/s]"
      ]
     },
     "metadata": {},
     "output_type": "display_data"
    },
    {
     "name": "stdout",
     "output_type": "stream",
     "text": [
      "Recovered 75.0% of the key using 45 traces\n"
     ]
    },
    {
     "data": {
      "application/vnd.jupyter.widget-view+json": {
       "model_id": "",
       "version_major": 2,
       "version_minor": 0
      },
      "text/plain": [
       "  0%|          | 0/16 [00:00<?, ?it/s]"
      ]
     },
     "metadata": {},
     "output_type": "display_data"
    },
    {
     "name": "stdout",
     "output_type": "stream",
     "text": [
      "Recovered 75.0% of the key using 46 traces\n"
     ]
    },
    {
     "data": {
      "application/vnd.jupyter.widget-view+json": {
       "model_id": "",
       "version_major": 2,
       "version_minor": 0
      },
      "text/plain": [
       "  0%|          | 0/16 [00:00<?, ?it/s]"
      ]
     },
     "metadata": {},
     "output_type": "display_data"
    },
    {
     "name": "stdout",
     "output_type": "stream",
     "text": [
      "Recovered 75.0% of the key using 47 traces\n"
     ]
    },
    {
     "data": {
      "application/vnd.jupyter.widget-view+json": {
       "model_id": "",
       "version_major": 2,
       "version_minor": 0
      },
      "text/plain": [
       "  0%|          | 0/16 [00:00<?, ?it/s]"
      ]
     },
     "metadata": {},
     "output_type": "display_data"
    },
    {
     "name": "stdout",
     "output_type": "stream",
     "text": [
      "Recovered 75.0% of the key using 48 traces\n"
     ]
    },
    {
     "data": {
      "application/vnd.jupyter.widget-view+json": {
       "model_id": "",
       "version_major": 2,
       "version_minor": 0
      },
      "text/plain": [
       "  0%|          | 0/16 [00:00<?, ?it/s]"
      ]
     },
     "metadata": {},
     "output_type": "display_data"
    },
    {
     "name": "stdout",
     "output_type": "stream",
     "text": [
      "Recovered 75.0% of the key using 49 traces\n"
     ]
    },
    {
     "data": {
      "application/vnd.jupyter.widget-view+json": {
       "model_id": "",
       "version_major": 2,
       "version_minor": 0
      },
      "text/plain": [
       "  0%|          | 0/16 [00:00<?, ?it/s]"
      ]
     },
     "metadata": {},
     "output_type": "display_data"
    },
    {
     "name": "stdout",
     "output_type": "stream",
     "text": [
      "Recovered 75.0% of the key using 50 traces\n",
      "{}\n",
      "Model failed to recover any keys using [1-50] traces.\n"
     ]
    }
   ],
   "source": [
    "mlp_guesses = mlp_trainer.evaluate_attack(models, dataset_MLP, 1, max_traces=50)"
   ]
  },
  {
   "cell_type": "code",
   "execution_count": 100,
   "id": "8ff991f5-39ec-41cf-9290-2a2db301f3d0",
   "metadata": {},
   "outputs": [
    {
     "data": {
      "text/plain": [
       "array([  0, 155, 228, 120,  31,  59,  33,  30,  54,  11, 125, 234, 158,\n",
       "        89, 217, 151], dtype=int64)"
      ]
     },
     "execution_count": 100,
     "metadata": {},
     "output_type": "execute_result"
    }
   ],
   "source": [
    "mlp_guesses[-1][1]"
   ]
  },
  {
   "cell_type": "markdown",
   "id": "52bc4396-8058-4a8a-9fe6-d8fea5f5b46e",
   "metadata": {},
   "source": [
    "The recovery is better this time, but some bytes are still not correct."
   ]
  },
  {
   "cell_type": "code",
   "execution_count": 101,
   "id": "0c9c0b7f-a29b-4899-aee7-ed45d0ec9765",
   "metadata": {},
   "outputs": [
    {
     "data": {
      "text/plain": [
       "array([ True, False,  True, False,  True,  True,  True,  True,  True,\n",
       "        True, False,  True,  True, False,  True,  True])"
      ]
     },
     "execution_count": 101,
     "metadata": {},
     "output_type": "execute_result"
    }
   ],
   "source": [
    "np.array(correct_key) == np.array(mlp_guesses[-1][1])"
   ]
  },
  {
   "cell_type": "code",
   "execution_count": 117,
   "id": "0b84c37a-9f5b-4b14-9d1d-b7cb60141454",
   "metadata": {},
   "outputs": [
    {
     "data": {
      "application/vnd.jupyter.widget-view+json": {
       "model_id": "",
       "version_major": 2,
       "version_minor": 0
      },
      "text/plain": [
       "  0%|          | 0/16 [00:00<?, ?it/s]"
      ]
     },
     "metadata": {},
     "output_type": "display_data"
    },
    {
     "name": "stdout",
     "output_type": "stream",
     "text": [
      "Recovered 75.0% of the key using 50 traces\n"
     ]
    },
    {
     "data": {
      "text/plain": [
       "array([  0, 155, 228, 120,  31,  59,  33,  30,  54,  11, 125, 234, 158,\n",
       "        89, 217, 151], dtype=int64)"
      ]
     },
     "execution_count": 117,
     "metadata": {},
     "output_type": "execute_result"
    }
   ],
   "source": [
    "mlp_trainer.attack_full_key(models, None, dataset_MLP, 0, 50)"
   ]
  },
  {
   "cell_type": "code",
   "execution_count": 122,
   "id": "c973121b-5d8f-4bb3-90b5-6976ad96944a",
   "metadata": {},
   "outputs": [
    {
     "name": "stdout",
     "output_type": "stream",
     "text": [
      "[155 247 221 174 234 187 147 179  57 241 249 189 208  55 211 185 170 151\n",
      "  25  85 145 242 194 195 101 226 113  19 246 233  49  81 193 217  62 213\n",
      " 132 244 238  68  21  46 253 104 112 186  64 183 250  63  47 223 108 161\n",
      "   0  48 230  16  96 252  66 154 255 209 235 110   4 232 219  89 156 125\n",
      "  86 218 148  54 139 114 158 167  94  59 176  42 243 121 210  91 177 146\n",
      "  88  29 119  82   5 126  41  74  18   8 129  31 160  61  80 171 106 227\n",
      "   2 149  97 153 191 123  37 205 118 116 225 144 157 214 134 248 224 164\n",
      " 168 180 166 172 117 122 128 162 100 182 163 216 206 133  45 136 251 188\n",
      " 220  35 181 140 175 190 202  70  20 196 245  56 103 231  98  17 239 107\n",
      "   3  36   9  34  14 159 142  76  39  23 165 120  44 143 201  32  11  92\n",
      "  79  22  78 192  15 131  30 115 130 197 102  13 137 105  33 207 254 138\n",
      "  38  83  58  52   7 198 215  65  27  69 228  84 150  67 173 135 127  53\n",
      " 200  71 169  77  99 222 124   6  28 152 229 240  93 178  10 236  72  75\n",
      "  24   1  90  50  95 141 212 204  26 237  40  73 184 199 111  60  87  51\n",
      "  43  12 109 203]\n"
     ]
    }
   ],
   "source": [
    "print(mlp_trainer.ranks_history[1][-1][1])"
   ]
  },
  {
   "cell_type": "code",
   "execution_count": 123,
   "id": "e8277aa7-5c31-4d66-a40c-66407f8a9ace",
   "metadata": {},
   "outputs": [
    {
     "data": {
      "text/plain": [
       "(array([84], dtype=int64),)"
      ]
     },
     "execution_count": 123,
     "metadata": {},
     "output_type": "execute_result"
    }
   ],
   "source": [
    "a = np.asarray(mlp_trainer.ranks_history[1][-1][1])\n",
    "np.where(a == 243)"
   ]
  },
  {
   "cell_type": "markdown",
   "id": "1563680a-3fa5-42df-b3aa-c19c7e08498d",
   "metadata": {},
   "source": [
    "Brute force search trough the list of predictions would have given the correct key after 84 passes, which is still a drastic improvement over random guessing. Only 25% of the key above would be attacked by brute force, and because only individual bytes are attacked, there is only 256 possibilities for each byte. This could be applied to the rest of the incorrect guesses."
   ]
  },
  {
   "cell_type": "code",
   "execution_count": 15,
   "id": "01345dc7-6a75-4154-9ddb-6e1ac041be58",
   "metadata": {},
   "outputs": [],
   "source": [
    "cnn_trainer = SCA_Trainer()"
   ]
  },
  {
   "cell_type": "code",
   "execution_count": null,
   "id": "631c0aae-7d6f-47cc-9598-a537e9ef2e93",
   "metadata": {},
   "outputs": [],
   "source": [
    "cnn_guesses = cnn_trainer.evaluate_attack(models_CNN, dataset_CNN, 2, max_traces=20)"
   ]
  },
  {
   "cell_type": "markdown",
   "id": "4a0504b3-1205-4bd5-a153-b5d207529c1e",
   "metadata": {},
   "source": [
    "# Conclusions\n",
    "\n",
    "Applying machine learning techniques to cryptanalysis is relatively new concept, and there is a lot of research happening in this area. It is obvious that this is still a hard and only partially explored topic. Making Side Channell Attacks easier could help hardware (and software) developers to develop products that are more resillient and secure. Of course, as is often case in security, there is a constant race between attackers and defenders and tools such as techniques listed in this project could be useful for both sides.\n",
    "\n",
    "Some of the takeaways from this project:\n",
    "* Using Keras hypertuner proved to be beneficial when finding the right model architecture. \n",
    "* Convolutional models performed better than simple MLPs.\n",
    "* MLPs still reduce the search spaces drastically when attacking crypto keys\n",
    "* Convolutional models were able to learn internal features of the data without any preprocessing\n",
    "* Other architectures could further improve performance of the attacks, but were out of scope at the time of writing this\n",
    "* ML based techniques are simpler to setup and understand, but very hard to train properly"
   ]
  },
  {
   "cell_type": "markdown",
   "id": "c6a7900c-1ba5-4813-929f-e7f3a4094138",
   "metadata": {},
   "source": [
    "# Further research:\n",
    "\n",
    "Deep-Cryptanalysis - Fashion or Revolution? [video](https://www.youtube.com/watch?v=hUmsyaPU-qU&t=2s)\n",
    "\n",
    "Unsupervised Learning SCA: [video](https://www.youtube.com/watch?v=so-18y5Avr0)/[paper](https://arxiv.org/pdf/2001.05951.pdf)\n",
    "\n",
    "Tips on tuning neural networks SCA [video](https://www.youtube.com/watch?v=uSpFfacjU4g)"
   ]
  }
 ],
 "metadata": {
  "kernelspec": {
   "display_name": "Python 3 (ipykernel)",
   "language": "python",
   "name": "python3"
  },
  "language_info": {
   "codemirror_mode": {
    "name": "ipython",
    "version": 3
   },
   "file_extension": ".py",
   "mimetype": "text/x-python",
   "name": "python",
   "nbconvert_exporter": "python",
   "pygments_lexer": "ipython3",
   "version": "3.9.0"
  }
 },
 "nbformat": 4,
 "nbformat_minor": 5
}
